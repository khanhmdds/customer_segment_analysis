{
  "nbformat": 4,
  "nbformat_minor": 0,
  "metadata": {
    "colab": {
      "provenance": []
    },
    "kernelspec": {
      "name": "python3",
      "display_name": "Python 3"
    },
    "language_info": {
      "name": "python"
    }
  },
  "cells": [
    {
      "cell_type": "markdown",
      "source": [
        "## **1. Introduction**"
      ],
      "metadata": {
        "id": "lo4Ma9EsXy80"
      }
    },
    {
      "cell_type": "markdown",
      "source": [
        "Phân khúc khách hàng là việc tìm và lựa chọn nhóm khách hàng mà doanh nghiệp, tổ chức có khẳ năng thỏa mãn nhu cầu tốt hơn đối thủ cạnh tranh.\n",
        "\n",
        "Mục đích: Để lựa chọn khách hàng phù hợp và phục vụ một cách tốt nhất: Tạo lợi thế cạnh tranh với các đối thủ trên thị trường, thấu hiểu khách hàng và khẳng định thương hiệu \n",
        "\n",
        "Cách để phân khúc khách hàng mà các doanh nghiệp hiện nay đang thực hiện: dựa vào RFM\n",
        "\n",
        "* Recency (R): Thời gian giao dịch cuối cùng.\n",
        "\n",
        "* Frequency (F): Tổng số lần giao dịch chi tiêu.\n",
        "\n",
        "* Monetary value (M): Tổng só tiền giao dịch chi tiêu.\n"
      ],
      "metadata": {
        "id": "WAhEQO5mj5Xq"
      }
    },
    {
      "cell_type": "markdown",
      "source": [
        "## **2. Data**"
      ],
      "metadata": {
        "id": "kSryRYpPZRXn"
      }
    },
    {
      "cell_type": "code",
      "execution_count": null,
      "metadata": {
        "id": "FuD2B8zEinLB"
      },
      "outputs": [],
      "source": [
        "import pandas as pd\n",
        "import numpy as np\n",
        "import matplotlib.pyplot as plt\n",
        "import seaborn as sns"
      ]
    },
    {
      "cell_type": "code",
      "source": [
        "from google.colab import drive\n",
        "drive.mount('/content/drive')"
      ],
      "metadata": {
        "colab": {
          "base_uri": "https://localhost:8080/"
        },
        "id": "MhnncyWh6KnC",
        "outputId": "1fca9192-271e-4292-8a5f-c24d1ef7b576"
      },
      "execution_count": null,
      "outputs": [
        {
          "output_type": "stream",
          "name": "stdout",
          "text": [
            "Drive already mounted at /content/drive; to attempt to forcibly remount, call drive.mount(\"/content/drive\", force_remount=True).\n"
          ]
        }
      ]
    },
    {
      "cell_type": "code",
      "source": [
        "!pip install gdown"
      ],
      "metadata": {
        "colab": {
          "base_uri": "https://localhost:8080/"
        },
        "id": "BKSlprIf6Ohc",
        "outputId": "6acb0ab7-7a32-459d-d2d9-0c1187a45c22"
      },
      "execution_count": null,
      "outputs": [
        {
          "output_type": "stream",
          "name": "stdout",
          "text": [
            "Looking in indexes: https://pypi.org/simple, https://us-python.pkg.dev/colab-wheels/public/simple/\n",
            "Requirement already satisfied: gdown in /usr/local/lib/python3.10/dist-packages (4.6.6)\n",
            "Requirement already satisfied: six in /usr/local/lib/python3.10/dist-packages (from gdown) (1.16.0)\n",
            "Requirement already satisfied: requests[socks] in /usr/local/lib/python3.10/dist-packages (from gdown) (2.27.1)\n",
            "Requirement already satisfied: beautifulsoup4 in /usr/local/lib/python3.10/dist-packages (from gdown) (4.11.2)\n",
            "Requirement already satisfied: tqdm in /usr/local/lib/python3.10/dist-packages (from gdown) (4.65.0)\n",
            "Requirement already satisfied: filelock in /usr/local/lib/python3.10/dist-packages (from gdown) (3.12.0)\n",
            "Requirement already satisfied: soupsieve>1.2 in /usr/local/lib/python3.10/dist-packages (from beautifulsoup4->gdown) (2.4.1)\n",
            "Requirement already satisfied: charset-normalizer~=2.0.0 in /usr/local/lib/python3.10/dist-packages (from requests[socks]->gdown) (2.0.12)\n",
            "Requirement already satisfied: idna<4,>=2.5 in /usr/local/lib/python3.10/dist-packages (from requests[socks]->gdown) (3.4)\n",
            "Requirement already satisfied: certifi>=2017.4.17 in /usr/local/lib/python3.10/dist-packages (from requests[socks]->gdown) (2022.12.7)\n",
            "Requirement already satisfied: urllib3<1.27,>=1.21.1 in /usr/local/lib/python3.10/dist-packages (from requests[socks]->gdown) (1.26.15)\n",
            "Requirement already satisfied: PySocks!=1.5.7,>=1.5.6 in /usr/local/lib/python3.10/dist-packages (from requests[socks]->gdown) (1.7.1)\n"
          ]
        }
      ]
    },
    {
      "cell_type": "code",
      "source": [
        "import gdown\n",
        "\n",
        "url = 'https://drive.google.com/uc?id=1buvTsZsnnQ5diefkus0sAa5Jk0qpiOOQ'\n",
        "output = '/content/drive/My Drive/filename.extension'\n",
        "gdown.download(url, output, quiet=False)"
      ],
      "metadata": {
        "colab": {
          "base_uri": "https://localhost:8080/",
          "height": 105
        },
        "id": "XtJD1dpO6RLG",
        "outputId": "5628d734-6f34-4805-d736-7a5a5c4ce692"
      },
      "execution_count": null,
      "outputs": [
        {
          "output_type": "stream",
          "name": "stderr",
          "text": [
            "Downloading...\n",
            "From: https://drive.google.com/uc?id=1buvTsZsnnQ5diefkus0sAa5Jk0qpiOOQ\n",
            "To: /content/drive/My Drive/filename.extension\n",
            "100%|██████████| 46.1M/46.1M [00:00<00:00, 54.9MB/s]\n"
          ]
        },
        {
          "output_type": "execute_result",
          "data": {
            "text/plain": [
              "'/content/drive/My Drive/filename.extension'"
            ],
            "application/vnd.google.colaboratory.intrinsic+json": {
              "type": "string"
            }
          },
          "metadata": {},
          "execution_count": 4
        }
      ]
    },
    {
      "cell_type": "code",
      "source": [
        "pd.set_option('display.width', 1000)\n",
        "pd.set_option('display.max_columns', None)"
      ],
      "metadata": {
        "id": "gIYdPMUm7Auk"
      },
      "execution_count": null,
      "outputs": []
    },
    {
      "cell_type": "code",
      "source": [
        "df = pd.read_csv('/content/drive/MyDrive/Colab Notebooks/ex2.csv', encoding='ISO-8859-1')\n",
        "print(df.head(10))"
      ],
      "metadata": {
        "colab": {
          "base_uri": "https://localhost:8080/"
        },
        "id": "ioLwfmn16T8z",
        "outputId": "0ac68470-0ed4-4b53-be20-92ebe6618d25"
      },
      "execution_count": null,
      "outputs": [
        {
          "output_type": "stream",
          "name": "stdout",
          "text": [
            "  InvoiceNo StockCode                          Description  Quantity       InvoiceDate  UnitPrice  CustomerID         Country\n",
            "0    536365    85123A   WHITE HANGING HEART T-LIGHT HOLDER         6  01-12-2010 08:26       2.55     17850.0  United Kingdom\n",
            "1    536365     71053                  WHITE METAL LANTERN         6  01-12-2010 08:26       3.39     17850.0  United Kingdom\n",
            "2    536365    84406B       CREAM CUPID HEARTS COAT HANGER         8  01-12-2010 08:26       2.75     17850.0  United Kingdom\n",
            "3    536365    84029G  KNITTED UNION FLAG HOT WATER BOTTLE         6  01-12-2010 08:26       3.39     17850.0  United Kingdom\n",
            "4    536365    84029E       RED WOOLLY HOTTIE WHITE HEART.         6  01-12-2010 08:26       3.39     17850.0  United Kingdom\n",
            "5    536365     22752         SET 7 BABUSHKA NESTING BOXES         2  01-12-2010 08:26       7.65     17850.0  United Kingdom\n",
            "6    536365     21730    GLASS STAR FROSTED T-LIGHT HOLDER         6  01-12-2010 08:26       4.25     17850.0  United Kingdom\n",
            "7    536366     22633               HAND WARMER UNION JACK         6  01-12-2010 08:28       1.85     17850.0  United Kingdom\n",
            "8    536366     22632            HAND WARMER RED POLKA DOT         6  01-12-2010 08:28       1.85     17850.0  United Kingdom\n",
            "9    536367     84879        ASSORTED COLOUR BIRD ORNAMENT        32  01-12-2010 08:34       1.69     13047.0  United Kingdom\n"
          ]
        }
      ]
    },
    {
      "cell_type": "code",
      "source": [
        "df.info()"
      ],
      "metadata": {
        "colab": {
          "base_uri": "https://localhost:8080/"
        },
        "id": "eN_VqGrC7bWy",
        "outputId": "a35b48ee-2e43-4493-a4be-a57cb9a44e3f"
      },
      "execution_count": null,
      "outputs": [
        {
          "output_type": "stream",
          "name": "stdout",
          "text": [
            "<class 'pandas.core.frame.DataFrame'>\n",
            "RangeIndex: 541909 entries, 0 to 541908\n",
            "Data columns (total 8 columns):\n",
            " #   Column       Non-Null Count   Dtype  \n",
            "---  ------       --------------   -----  \n",
            " 0   InvoiceNo    541909 non-null  object \n",
            " 1   StockCode    541909 non-null  object \n",
            " 2   Description  540455 non-null  object \n",
            " 3   Quantity     541909 non-null  int64  \n",
            " 4   InvoiceDate  541909 non-null  object \n",
            " 5   UnitPrice    541909 non-null  float64\n",
            " 6   CustomerID   406829 non-null  float64\n",
            " 7   Country      541909 non-null  object \n",
            "dtypes: float64(2), int64(1), object(5)\n",
            "memory usage: 33.1+ MB\n"
          ]
        }
      ]
    },
    {
      "cell_type": "markdown",
      "source": [
        "Dữ liệu gồm 8 cột và 541909 dòng. Các cột bao gồm:\n",
        "* Cột InvoiceNo: số hóa đơn\n",
        "* Cột StockCode: mã hàng hóa\n",
        "* Cột Description: mô tả sản phẩm, các hàng hóa chủ yếu là đồ gia dụng và vật dụng trang trí nhà cửa\n",
        "* Cột Quantity: số lượng sản phẩm\n",
        "* Cột InvoiceDate: ngày mua hàng\n",
        "* Cột UnitPrice: giá của từng sản phẩm\n",
        "* Cột CustomerID: mã khách hàng\n",
        "* Cột Country: quốc gia sản xuất sản phẩm (?)"
      ],
      "metadata": {
        "id": "l5kyVlS2YJf9"
      }
    },
    {
      "cell_type": "code",
      "source": [
        "#Kiểm tra giá trị trong data có giá trị null hay không\n",
        "print(df.isnull().sum())"
      ],
      "metadata": {
        "colab": {
          "base_uri": "https://localhost:8080/"
        },
        "id": "vijkmwKsbZUz",
        "outputId": "64f69e18-1e81-482d-ae4b-e9e8da5b5eb9"
      },
      "execution_count": null,
      "outputs": [
        {
          "output_type": "stream",
          "name": "stdout",
          "text": [
            "InvoiceNo           0\n",
            "StockCode           0\n",
            "Description      1454\n",
            "Quantity            0\n",
            "InvoiceDate         0\n",
            "UnitPrice           0\n",
            "CustomerID     135080\n",
            "Country             0\n",
            "dtype: int64\n"
          ]
        }
      ]
    },
    {
      "cell_type": "markdown",
      "source": [
        "=> Trong tập dữ liệu cột Description và CustomerID có giá trị null nên ta sẽ tiến hành loại bỏ các giá trị null này."
      ],
      "metadata": {
        "id": "hZ-d844ib1Vv"
      }
    },
    {
      "cell_type": "code",
      "source": [
        "df = df.dropna()"
      ],
      "metadata": {
        "id": "K0SYrPHLefLb"
      },
      "execution_count": null,
      "outputs": []
    },
    {
      "cell_type": "code",
      "source": [
        "df.info()"
      ],
      "metadata": {
        "colab": {
          "base_uri": "https://localhost:8080/"
        },
        "id": "xg4bc5pzcMQY",
        "outputId": "9a3d4387-c4b2-4436-b292-916790e47f96"
      },
      "execution_count": null,
      "outputs": [
        {
          "output_type": "stream",
          "name": "stdout",
          "text": [
            "<class 'pandas.core.frame.DataFrame'>\n",
            "Int64Index: 406829 entries, 0 to 541908\n",
            "Data columns (total 8 columns):\n",
            " #   Column       Non-Null Count   Dtype  \n",
            "---  ------       --------------   -----  \n",
            " 0   InvoiceNo    406829 non-null  object \n",
            " 1   StockCode    406829 non-null  object \n",
            " 2   Description  406829 non-null  object \n",
            " 3   Quantity     406829 non-null  int64  \n",
            " 4   InvoiceDate  406829 non-null  object \n",
            " 5   UnitPrice    406829 non-null  float64\n",
            " 6   CustomerID   406829 non-null  float64\n",
            " 7   Country      406829 non-null  object \n",
            "dtypes: float64(2), int64(1), object(5)\n",
            "memory usage: 27.9+ MB\n"
          ]
        }
      ]
    },
    {
      "cell_type": "markdown",
      "source": [
        "Sau khi loại bỏ giá trị null thì data còn lại 406829 dòng."
      ],
      "metadata": {
        "id": "vBLSv-fAcP0j"
      }
    },
    {
      "cell_type": "code",
      "source": [
        "df.describe()"
      ],
      "metadata": {
        "colab": {
          "base_uri": "https://localhost:8080/",
          "height": 300
        },
        "id": "6l3YY_Wb7Xzo",
        "outputId": "f5bfe4d9-b689-4a85-9dec-813c06120f48"
      },
      "execution_count": null,
      "outputs": [
        {
          "output_type": "execute_result",
          "data": {
            "text/plain": [
              "            Quantity      UnitPrice     CustomerID\n",
              "count  406829.000000  406829.000000  406829.000000\n",
              "mean       12.061303       3.460471   15287.690570\n",
              "std       248.693370      69.315162    1713.600303\n",
              "min    -80995.000000       0.000000   12346.000000\n",
              "25%         2.000000       1.250000   13953.000000\n",
              "50%         5.000000       1.950000   15152.000000\n",
              "75%        12.000000       3.750000   16791.000000\n",
              "max     80995.000000   38970.000000   18287.000000"
            ],
            "text/html": [
              "\n",
              "  <div id=\"df-4fb88116-bd7a-4655-b0e5-ed25ff435440\">\n",
              "    <div class=\"colab-df-container\">\n",
              "      <div>\n",
              "<style scoped>\n",
              "    .dataframe tbody tr th:only-of-type {\n",
              "        vertical-align: middle;\n",
              "    }\n",
              "\n",
              "    .dataframe tbody tr th {\n",
              "        vertical-align: top;\n",
              "    }\n",
              "\n",
              "    .dataframe thead th {\n",
              "        text-align: right;\n",
              "    }\n",
              "</style>\n",
              "<table border=\"1\" class=\"dataframe\">\n",
              "  <thead>\n",
              "    <tr style=\"text-align: right;\">\n",
              "      <th></th>\n",
              "      <th>Quantity</th>\n",
              "      <th>UnitPrice</th>\n",
              "      <th>CustomerID</th>\n",
              "    </tr>\n",
              "  </thead>\n",
              "  <tbody>\n",
              "    <tr>\n",
              "      <th>count</th>\n",
              "      <td>406829.000000</td>\n",
              "      <td>406829.000000</td>\n",
              "      <td>406829.000000</td>\n",
              "    </tr>\n",
              "    <tr>\n",
              "      <th>mean</th>\n",
              "      <td>12.061303</td>\n",
              "      <td>3.460471</td>\n",
              "      <td>15287.690570</td>\n",
              "    </tr>\n",
              "    <tr>\n",
              "      <th>std</th>\n",
              "      <td>248.693370</td>\n",
              "      <td>69.315162</td>\n",
              "      <td>1713.600303</td>\n",
              "    </tr>\n",
              "    <tr>\n",
              "      <th>min</th>\n",
              "      <td>-80995.000000</td>\n",
              "      <td>0.000000</td>\n",
              "      <td>12346.000000</td>\n",
              "    </tr>\n",
              "    <tr>\n",
              "      <th>25%</th>\n",
              "      <td>2.000000</td>\n",
              "      <td>1.250000</td>\n",
              "      <td>13953.000000</td>\n",
              "    </tr>\n",
              "    <tr>\n",
              "      <th>50%</th>\n",
              "      <td>5.000000</td>\n",
              "      <td>1.950000</td>\n",
              "      <td>15152.000000</td>\n",
              "    </tr>\n",
              "    <tr>\n",
              "      <th>75%</th>\n",
              "      <td>12.000000</td>\n",
              "      <td>3.750000</td>\n",
              "      <td>16791.000000</td>\n",
              "    </tr>\n",
              "    <tr>\n",
              "      <th>max</th>\n",
              "      <td>80995.000000</td>\n",
              "      <td>38970.000000</td>\n",
              "      <td>18287.000000</td>\n",
              "    </tr>\n",
              "  </tbody>\n",
              "</table>\n",
              "</div>\n",
              "      <button class=\"colab-df-convert\" onclick=\"convertToInteractive('df-4fb88116-bd7a-4655-b0e5-ed25ff435440')\"\n",
              "              title=\"Convert this dataframe to an interactive table.\"\n",
              "              style=\"display:none;\">\n",
              "        \n",
              "  <svg xmlns=\"http://www.w3.org/2000/svg\" height=\"24px\"viewBox=\"0 0 24 24\"\n",
              "       width=\"24px\">\n",
              "    <path d=\"M0 0h24v24H0V0z\" fill=\"none\"/>\n",
              "    <path d=\"M18.56 5.44l.94 2.06.94-2.06 2.06-.94-2.06-.94-.94-2.06-.94 2.06-2.06.94zm-11 1L8.5 8.5l.94-2.06 2.06-.94-2.06-.94L8.5 2.5l-.94 2.06-2.06.94zm10 10l.94 2.06.94-2.06 2.06-.94-2.06-.94-.94-2.06-.94 2.06-2.06.94z\"/><path d=\"M17.41 7.96l-1.37-1.37c-.4-.4-.92-.59-1.43-.59-.52 0-1.04.2-1.43.59L10.3 9.45l-7.72 7.72c-.78.78-.78 2.05 0 2.83L4 21.41c.39.39.9.59 1.41.59.51 0 1.02-.2 1.41-.59l7.78-7.78 2.81-2.81c.8-.78.8-2.07 0-2.86zM5.41 20L4 18.59l7.72-7.72 1.47 1.35L5.41 20z\"/>\n",
              "  </svg>\n",
              "      </button>\n",
              "      \n",
              "  <style>\n",
              "    .colab-df-container {\n",
              "      display:flex;\n",
              "      flex-wrap:wrap;\n",
              "      gap: 12px;\n",
              "    }\n",
              "\n",
              "    .colab-df-convert {\n",
              "      background-color: #E8F0FE;\n",
              "      border: none;\n",
              "      border-radius: 50%;\n",
              "      cursor: pointer;\n",
              "      display: none;\n",
              "      fill: #1967D2;\n",
              "      height: 32px;\n",
              "      padding: 0 0 0 0;\n",
              "      width: 32px;\n",
              "    }\n",
              "\n",
              "    .colab-df-convert:hover {\n",
              "      background-color: #E2EBFA;\n",
              "      box-shadow: 0px 1px 2px rgba(60, 64, 67, 0.3), 0px 1px 3px 1px rgba(60, 64, 67, 0.15);\n",
              "      fill: #174EA6;\n",
              "    }\n",
              "\n",
              "    [theme=dark] .colab-df-convert {\n",
              "      background-color: #3B4455;\n",
              "      fill: #D2E3FC;\n",
              "    }\n",
              "\n",
              "    [theme=dark] .colab-df-convert:hover {\n",
              "      background-color: #434B5C;\n",
              "      box-shadow: 0px 1px 3px 1px rgba(0, 0, 0, 0.15);\n",
              "      filter: drop-shadow(0px 1px 2px rgba(0, 0, 0, 0.3));\n",
              "      fill: #FFFFFF;\n",
              "    }\n",
              "  </style>\n",
              "\n",
              "      <script>\n",
              "        const buttonEl =\n",
              "          document.querySelector('#df-4fb88116-bd7a-4655-b0e5-ed25ff435440 button.colab-df-convert');\n",
              "        buttonEl.style.display =\n",
              "          google.colab.kernel.accessAllowed ? 'block' : 'none';\n",
              "\n",
              "        async function convertToInteractive(key) {\n",
              "          const element = document.querySelector('#df-4fb88116-bd7a-4655-b0e5-ed25ff435440');\n",
              "          const dataTable =\n",
              "            await google.colab.kernel.invokeFunction('convertToInteractive',\n",
              "                                                     [key], {});\n",
              "          if (!dataTable) return;\n",
              "\n",
              "          const docLinkHtml = 'Like what you see? Visit the ' +\n",
              "            '<a target=\"_blank\" href=https://colab.research.google.com/notebooks/data_table.ipynb>data table notebook</a>'\n",
              "            + ' to learn more about interactive tables.';\n",
              "          element.innerHTML = '';\n",
              "          dataTable['output_type'] = 'display_data';\n",
              "          await google.colab.output.renderOutput(dataTable, element);\n",
              "          const docLink = document.createElement('div');\n",
              "          docLink.innerHTML = docLinkHtml;\n",
              "          element.appendChild(docLink);\n",
              "        }\n",
              "      </script>\n",
              "    </div>\n",
              "  </div>\n",
              "  "
            ]
          },
          "metadata": {},
          "execution_count": 11
        }
      ]
    },
    {
      "cell_type": "markdown",
      "source": [
        "* Cột Quantity là cột số lượng sản phẩm nên không thể có giá trị âm, nên ta sẽ tiến hành chuyển các dòng mang giá trị âm về giá trị dương.\n",
        "* Cột UnitPrice là đơn giá của từng sản phẩm. Cột có min = 0, tức là có những dòng mang giá trị bằng 0, không có ý nghĩa thống kê nên ta sẽ tiến hàng loại bỏ những dòng mang giá trị bằng 0.\n",
        "* Cột InvoiceDate là ngày xuất hóa đơn. Hiện tại cột đang mang dạng str nên ta sẽ chuyển về dạng datetime.\n",
        "* Cột CustomerID là cột mã khách hàng. Hiện tại cột đang mang dạng float nên ta sẽ chuyển về dạng str."
      ],
      "metadata": {
        "id": "Xt0ovdDZczXh"
      }
    },
    {
      "cell_type": "code",
      "source": [
        "# Chuyển những dòng mang giá trị âm về giá trị dương\n",
        "df['Quantity'] = df['Quantity'].abs()\n",
        "\n",
        "# Loại bỏ những dòng có UnitPrice = 0\n",
        "df = df.drop(df[df['UnitPrice'] == 0.0].index)\n",
        "\n",
        "# Chuyển cột InvoiceDate về dạng datetime\n",
        "df['InvoiceDate'] = pd.to_datetime(df['InvoiceDate'], format='%d-%m-%Y %H:%M')\n",
        "df['InvoiceDate'] = df['InvoiceDate'].dt.strftime('%Y-%m-%d')\n",
        "df['InvoiceDate'] = pd.to_datetime(df['InvoiceDate'])\n",
        "\n",
        "# Chuyển cột CustomerID về dạng str\n",
        "df['CustomerID'] = df['CustomerID'].astype(int)\n",
        "df['CustomerID'] = df['CustomerID'].astype(str)"
      ],
      "metadata": {
        "id": "vfmIWKE-ZIDV"
      },
      "execution_count": null,
      "outputs": []
    },
    {
      "cell_type": "code",
      "source": [
        "df.info()"
      ],
      "metadata": {
        "colab": {
          "base_uri": "https://localhost:8080/"
        },
        "id": "gqec8XqDbv3F",
        "outputId": "27cc1b26-eb4d-49c8-9d49-506eaf6598c3"
      },
      "execution_count": null,
      "outputs": [
        {
          "output_type": "stream",
          "name": "stdout",
          "text": [
            "<class 'pandas.core.frame.DataFrame'>\n",
            "Int64Index: 406789 entries, 0 to 541908\n",
            "Data columns (total 8 columns):\n",
            " #   Column       Non-Null Count   Dtype         \n",
            "---  ------       --------------   -----         \n",
            " 0   InvoiceNo    406789 non-null  object        \n",
            " 1   StockCode    406789 non-null  object        \n",
            " 2   Description  406789 non-null  object        \n",
            " 3   Quantity     406789 non-null  int64         \n",
            " 4   InvoiceDate  406789 non-null  datetime64[ns]\n",
            " 5   UnitPrice    406789 non-null  float64       \n",
            " 6   CustomerID   406789 non-null  object        \n",
            " 7   Country      406789 non-null  object        \n",
            "dtypes: datetime64[ns](1), float64(1), int64(1), object(5)\n",
            "memory usage: 27.9+ MB\n"
          ]
        }
      ]
    },
    {
      "cell_type": "code",
      "source": [
        "df.describe()"
      ],
      "metadata": {
        "colab": {
          "base_uri": "https://localhost:8080/",
          "height": 300
        },
        "id": "o8mMGBh8f6pK",
        "outputId": "bd5f85d1-3fb5-4fce-9416-c840ebc4e92d"
      },
      "execution_count": null,
      "outputs": [
        {
          "output_type": "execute_result",
          "data": {
            "text/plain": [
              "            Quantity      UnitPrice\n",
              "count  406789.000000  406789.000000\n",
              "mean       13.379467       3.460811\n",
              "std       247.858601      69.318561\n",
              "min         1.000000       0.001000\n",
              "25%         2.000000       1.250000\n",
              "50%         5.000000       1.950000\n",
              "75%        12.000000       3.750000\n",
              "max     80995.000000   38970.000000"
            ],
            "text/html": [
              "\n",
              "  <div id=\"df-e6b98b08-7a8d-44a1-8a8a-43e674ccb864\">\n",
              "    <div class=\"colab-df-container\">\n",
              "      <div>\n",
              "<style scoped>\n",
              "    .dataframe tbody tr th:only-of-type {\n",
              "        vertical-align: middle;\n",
              "    }\n",
              "\n",
              "    .dataframe tbody tr th {\n",
              "        vertical-align: top;\n",
              "    }\n",
              "\n",
              "    .dataframe thead th {\n",
              "        text-align: right;\n",
              "    }\n",
              "</style>\n",
              "<table border=\"1\" class=\"dataframe\">\n",
              "  <thead>\n",
              "    <tr style=\"text-align: right;\">\n",
              "      <th></th>\n",
              "      <th>Quantity</th>\n",
              "      <th>UnitPrice</th>\n",
              "    </tr>\n",
              "  </thead>\n",
              "  <tbody>\n",
              "    <tr>\n",
              "      <th>count</th>\n",
              "      <td>406789.000000</td>\n",
              "      <td>406789.000000</td>\n",
              "    </tr>\n",
              "    <tr>\n",
              "      <th>mean</th>\n",
              "      <td>13.379467</td>\n",
              "      <td>3.460811</td>\n",
              "    </tr>\n",
              "    <tr>\n",
              "      <th>std</th>\n",
              "      <td>247.858601</td>\n",
              "      <td>69.318561</td>\n",
              "    </tr>\n",
              "    <tr>\n",
              "      <th>min</th>\n",
              "      <td>1.000000</td>\n",
              "      <td>0.001000</td>\n",
              "    </tr>\n",
              "    <tr>\n",
              "      <th>25%</th>\n",
              "      <td>2.000000</td>\n",
              "      <td>1.250000</td>\n",
              "    </tr>\n",
              "    <tr>\n",
              "      <th>50%</th>\n",
              "      <td>5.000000</td>\n",
              "      <td>1.950000</td>\n",
              "    </tr>\n",
              "    <tr>\n",
              "      <th>75%</th>\n",
              "      <td>12.000000</td>\n",
              "      <td>3.750000</td>\n",
              "    </tr>\n",
              "    <tr>\n",
              "      <th>max</th>\n",
              "      <td>80995.000000</td>\n",
              "      <td>38970.000000</td>\n",
              "    </tr>\n",
              "  </tbody>\n",
              "</table>\n",
              "</div>\n",
              "      <button class=\"colab-df-convert\" onclick=\"convertToInteractive('df-e6b98b08-7a8d-44a1-8a8a-43e674ccb864')\"\n",
              "              title=\"Convert this dataframe to an interactive table.\"\n",
              "              style=\"display:none;\">\n",
              "        \n",
              "  <svg xmlns=\"http://www.w3.org/2000/svg\" height=\"24px\"viewBox=\"0 0 24 24\"\n",
              "       width=\"24px\">\n",
              "    <path d=\"M0 0h24v24H0V0z\" fill=\"none\"/>\n",
              "    <path d=\"M18.56 5.44l.94 2.06.94-2.06 2.06-.94-2.06-.94-.94-2.06-.94 2.06-2.06.94zm-11 1L8.5 8.5l.94-2.06 2.06-.94-2.06-.94L8.5 2.5l-.94 2.06-2.06.94zm10 10l.94 2.06.94-2.06 2.06-.94-2.06-.94-.94-2.06-.94 2.06-2.06.94z\"/><path d=\"M17.41 7.96l-1.37-1.37c-.4-.4-.92-.59-1.43-.59-.52 0-1.04.2-1.43.59L10.3 9.45l-7.72 7.72c-.78.78-.78 2.05 0 2.83L4 21.41c.39.39.9.59 1.41.59.51 0 1.02-.2 1.41-.59l7.78-7.78 2.81-2.81c.8-.78.8-2.07 0-2.86zM5.41 20L4 18.59l7.72-7.72 1.47 1.35L5.41 20z\"/>\n",
              "  </svg>\n",
              "      </button>\n",
              "      \n",
              "  <style>\n",
              "    .colab-df-container {\n",
              "      display:flex;\n",
              "      flex-wrap:wrap;\n",
              "      gap: 12px;\n",
              "    }\n",
              "\n",
              "    .colab-df-convert {\n",
              "      background-color: #E8F0FE;\n",
              "      border: none;\n",
              "      border-radius: 50%;\n",
              "      cursor: pointer;\n",
              "      display: none;\n",
              "      fill: #1967D2;\n",
              "      height: 32px;\n",
              "      padding: 0 0 0 0;\n",
              "      width: 32px;\n",
              "    }\n",
              "\n",
              "    .colab-df-convert:hover {\n",
              "      background-color: #E2EBFA;\n",
              "      box-shadow: 0px 1px 2px rgba(60, 64, 67, 0.3), 0px 1px 3px 1px rgba(60, 64, 67, 0.15);\n",
              "      fill: #174EA6;\n",
              "    }\n",
              "\n",
              "    [theme=dark] .colab-df-convert {\n",
              "      background-color: #3B4455;\n",
              "      fill: #D2E3FC;\n",
              "    }\n",
              "\n",
              "    [theme=dark] .colab-df-convert:hover {\n",
              "      background-color: #434B5C;\n",
              "      box-shadow: 0px 1px 3px 1px rgba(0, 0, 0, 0.15);\n",
              "      filter: drop-shadow(0px 1px 2px rgba(0, 0, 0, 0.3));\n",
              "      fill: #FFFFFF;\n",
              "    }\n",
              "  </style>\n",
              "\n",
              "      <script>\n",
              "        const buttonEl =\n",
              "          document.querySelector('#df-e6b98b08-7a8d-44a1-8a8a-43e674ccb864 button.colab-df-convert');\n",
              "        buttonEl.style.display =\n",
              "          google.colab.kernel.accessAllowed ? 'block' : 'none';\n",
              "\n",
              "        async function convertToInteractive(key) {\n",
              "          const element = document.querySelector('#df-e6b98b08-7a8d-44a1-8a8a-43e674ccb864');\n",
              "          const dataTable =\n",
              "            await google.colab.kernel.invokeFunction('convertToInteractive',\n",
              "                                                     [key], {});\n",
              "          if (!dataTable) return;\n",
              "\n",
              "          const docLinkHtml = 'Like what you see? Visit the ' +\n",
              "            '<a target=\"_blank\" href=https://colab.research.google.com/notebooks/data_table.ipynb>data table notebook</a>'\n",
              "            + ' to learn more about interactive tables.';\n",
              "          element.innerHTML = '';\n",
              "          dataTable['output_type'] = 'display_data';\n",
              "          await google.colab.output.renderOutput(dataTable, element);\n",
              "          const docLink = document.createElement('div');\n",
              "          docLink.innerHTML = docLinkHtml;\n",
              "          element.appendChild(docLink);\n",
              "        }\n",
              "      </script>\n",
              "    </div>\n",
              "  </div>\n",
              "  "
            ]
          },
          "metadata": {},
          "execution_count": 14
        }
      ]
    },
    {
      "cell_type": "markdown",
      "source": [
        "Data còn lại 406789 dòng dữ liệu, không có giá trị null."
      ],
      "metadata": {
        "id": "Cj86C0NqfntD"
      }
    },
    {
      "cell_type": "markdown",
      "source": [
        "***Tính toán RFM***"
      ],
      "metadata": {
        "id": "v3KvZnhkgSS-"
      }
    },
    {
      "cell_type": "code",
      "source": [
        "import datetime\n",
        "# Lấy ngày hiện tại + 1\n",
        "current_date = max(df['InvoiceDate']) + datetime.timedelta(days=1)\n",
        "\n",
        "# Tính Total Price\n",
        "df['TotalPrice'] = df['Quantity']*df['UnitPrice']\n",
        "\n",
        "# Group by CustomerID để tính R, F, M\n",
        "df_rfm = df.groupby(['CustomerID']).agg(\n",
        "    {'InvoiceDate': lambda x: (current_date- x.max()).days,\n",
        "     'InvoiceNo':'count',\n",
        "     'TotalPrice':'sum'\n",
        "     }\n",
        ")\n",
        "\n",
        "#Đổi tên các cột\n",
        "df_rfm.rename(columns={'InvoiceDate':'Recency','InvoiceNo':'Frequency','TotalPrice':'MonetaryValue'}, inplace=True)"
      ],
      "metadata": {
        "id": "ytuiTKXeY_D_"
      },
      "execution_count": null,
      "outputs": []
    },
    {
      "cell_type": "code",
      "source": [
        "# In ra data đã thêm Total Price\n",
        "df.head()"
      ],
      "metadata": {
        "colab": {
          "base_uri": "https://localhost:8080/",
          "height": 206
        },
        "id": "O7MCG5dGomm-",
        "outputId": "6a9f39f3-56de-45fd-d73c-aac9e7bfc4b3"
      },
      "execution_count": null,
      "outputs": [
        {
          "output_type": "execute_result",
          "data": {
            "text/plain": [
              "  InvoiceNo StockCode                          Description  Quantity InvoiceDate  UnitPrice CustomerID         Country  TotalPrice\n",
              "0    536365    85123A   WHITE HANGING HEART T-LIGHT HOLDER         6  2010-12-01       2.55      17850  United Kingdom       15.30\n",
              "1    536365     71053                  WHITE METAL LANTERN         6  2010-12-01       3.39      17850  United Kingdom       20.34\n",
              "2    536365    84406B       CREAM CUPID HEARTS COAT HANGER         8  2010-12-01       2.75      17850  United Kingdom       22.00\n",
              "3    536365    84029G  KNITTED UNION FLAG HOT WATER BOTTLE         6  2010-12-01       3.39      17850  United Kingdom       20.34\n",
              "4    536365    84029E       RED WOOLLY HOTTIE WHITE HEART.         6  2010-12-01       3.39      17850  United Kingdom       20.34"
            ],
            "text/html": [
              "\n",
              "  <div id=\"df-d1c80c05-b738-4c15-8c6c-1ddc3ac1d29f\">\n",
              "    <div class=\"colab-df-container\">\n",
              "      <div>\n",
              "<style scoped>\n",
              "    .dataframe tbody tr th:only-of-type {\n",
              "        vertical-align: middle;\n",
              "    }\n",
              "\n",
              "    .dataframe tbody tr th {\n",
              "        vertical-align: top;\n",
              "    }\n",
              "\n",
              "    .dataframe thead th {\n",
              "        text-align: right;\n",
              "    }\n",
              "</style>\n",
              "<table border=\"1\" class=\"dataframe\">\n",
              "  <thead>\n",
              "    <tr style=\"text-align: right;\">\n",
              "      <th></th>\n",
              "      <th>InvoiceNo</th>\n",
              "      <th>StockCode</th>\n",
              "      <th>Description</th>\n",
              "      <th>Quantity</th>\n",
              "      <th>InvoiceDate</th>\n",
              "      <th>UnitPrice</th>\n",
              "      <th>CustomerID</th>\n",
              "      <th>Country</th>\n",
              "      <th>TotalPrice</th>\n",
              "    </tr>\n",
              "  </thead>\n",
              "  <tbody>\n",
              "    <tr>\n",
              "      <th>0</th>\n",
              "      <td>536365</td>\n",
              "      <td>85123A</td>\n",
              "      <td>WHITE HANGING HEART T-LIGHT HOLDER</td>\n",
              "      <td>6</td>\n",
              "      <td>2010-12-01</td>\n",
              "      <td>2.55</td>\n",
              "      <td>17850</td>\n",
              "      <td>United Kingdom</td>\n",
              "      <td>15.30</td>\n",
              "    </tr>\n",
              "    <tr>\n",
              "      <th>1</th>\n",
              "      <td>536365</td>\n",
              "      <td>71053</td>\n",
              "      <td>WHITE METAL LANTERN</td>\n",
              "      <td>6</td>\n",
              "      <td>2010-12-01</td>\n",
              "      <td>3.39</td>\n",
              "      <td>17850</td>\n",
              "      <td>United Kingdom</td>\n",
              "      <td>20.34</td>\n",
              "    </tr>\n",
              "    <tr>\n",
              "      <th>2</th>\n",
              "      <td>536365</td>\n",
              "      <td>84406B</td>\n",
              "      <td>CREAM CUPID HEARTS COAT HANGER</td>\n",
              "      <td>8</td>\n",
              "      <td>2010-12-01</td>\n",
              "      <td>2.75</td>\n",
              "      <td>17850</td>\n",
              "      <td>United Kingdom</td>\n",
              "      <td>22.00</td>\n",
              "    </tr>\n",
              "    <tr>\n",
              "      <th>3</th>\n",
              "      <td>536365</td>\n",
              "      <td>84029G</td>\n",
              "      <td>KNITTED UNION FLAG HOT WATER BOTTLE</td>\n",
              "      <td>6</td>\n",
              "      <td>2010-12-01</td>\n",
              "      <td>3.39</td>\n",
              "      <td>17850</td>\n",
              "      <td>United Kingdom</td>\n",
              "      <td>20.34</td>\n",
              "    </tr>\n",
              "    <tr>\n",
              "      <th>4</th>\n",
              "      <td>536365</td>\n",
              "      <td>84029E</td>\n",
              "      <td>RED WOOLLY HOTTIE WHITE HEART.</td>\n",
              "      <td>6</td>\n",
              "      <td>2010-12-01</td>\n",
              "      <td>3.39</td>\n",
              "      <td>17850</td>\n",
              "      <td>United Kingdom</td>\n",
              "      <td>20.34</td>\n",
              "    </tr>\n",
              "  </tbody>\n",
              "</table>\n",
              "</div>\n",
              "      <button class=\"colab-df-convert\" onclick=\"convertToInteractive('df-d1c80c05-b738-4c15-8c6c-1ddc3ac1d29f')\"\n",
              "              title=\"Convert this dataframe to an interactive table.\"\n",
              "              style=\"display:none;\">\n",
              "        \n",
              "  <svg xmlns=\"http://www.w3.org/2000/svg\" height=\"24px\"viewBox=\"0 0 24 24\"\n",
              "       width=\"24px\">\n",
              "    <path d=\"M0 0h24v24H0V0z\" fill=\"none\"/>\n",
              "    <path d=\"M18.56 5.44l.94 2.06.94-2.06 2.06-.94-2.06-.94-.94-2.06-.94 2.06-2.06.94zm-11 1L8.5 8.5l.94-2.06 2.06-.94-2.06-.94L8.5 2.5l-.94 2.06-2.06.94zm10 10l.94 2.06.94-2.06 2.06-.94-2.06-.94-.94-2.06-.94 2.06-2.06.94z\"/><path d=\"M17.41 7.96l-1.37-1.37c-.4-.4-.92-.59-1.43-.59-.52 0-1.04.2-1.43.59L10.3 9.45l-7.72 7.72c-.78.78-.78 2.05 0 2.83L4 21.41c.39.39.9.59 1.41.59.51 0 1.02-.2 1.41-.59l7.78-7.78 2.81-2.81c.8-.78.8-2.07 0-2.86zM5.41 20L4 18.59l7.72-7.72 1.47 1.35L5.41 20z\"/>\n",
              "  </svg>\n",
              "      </button>\n",
              "      \n",
              "  <style>\n",
              "    .colab-df-container {\n",
              "      display:flex;\n",
              "      flex-wrap:wrap;\n",
              "      gap: 12px;\n",
              "    }\n",
              "\n",
              "    .colab-df-convert {\n",
              "      background-color: #E8F0FE;\n",
              "      border: none;\n",
              "      border-radius: 50%;\n",
              "      cursor: pointer;\n",
              "      display: none;\n",
              "      fill: #1967D2;\n",
              "      height: 32px;\n",
              "      padding: 0 0 0 0;\n",
              "      width: 32px;\n",
              "    }\n",
              "\n",
              "    .colab-df-convert:hover {\n",
              "      background-color: #E2EBFA;\n",
              "      box-shadow: 0px 1px 2px rgba(60, 64, 67, 0.3), 0px 1px 3px 1px rgba(60, 64, 67, 0.15);\n",
              "      fill: #174EA6;\n",
              "    }\n",
              "\n",
              "    [theme=dark] .colab-df-convert {\n",
              "      background-color: #3B4455;\n",
              "      fill: #D2E3FC;\n",
              "    }\n",
              "\n",
              "    [theme=dark] .colab-df-convert:hover {\n",
              "      background-color: #434B5C;\n",
              "      box-shadow: 0px 1px 3px 1px rgba(0, 0, 0, 0.15);\n",
              "      filter: drop-shadow(0px 1px 2px rgba(0, 0, 0, 0.3));\n",
              "      fill: #FFFFFF;\n",
              "    }\n",
              "  </style>\n",
              "\n",
              "      <script>\n",
              "        const buttonEl =\n",
              "          document.querySelector('#df-d1c80c05-b738-4c15-8c6c-1ddc3ac1d29f button.colab-df-convert');\n",
              "        buttonEl.style.display =\n",
              "          google.colab.kernel.accessAllowed ? 'block' : 'none';\n",
              "\n",
              "        async function convertToInteractive(key) {\n",
              "          const element = document.querySelector('#df-d1c80c05-b738-4c15-8c6c-1ddc3ac1d29f');\n",
              "          const dataTable =\n",
              "            await google.colab.kernel.invokeFunction('convertToInteractive',\n",
              "                                                     [key], {});\n",
              "          if (!dataTable) return;\n",
              "\n",
              "          const docLinkHtml = 'Like what you see? Visit the ' +\n",
              "            '<a target=\"_blank\" href=https://colab.research.google.com/notebooks/data_table.ipynb>data table notebook</a>'\n",
              "            + ' to learn more about interactive tables.';\n",
              "          element.innerHTML = '';\n",
              "          dataTable['output_type'] = 'display_data';\n",
              "          await google.colab.output.renderOutput(dataTable, element);\n",
              "          const docLink = document.createElement('div');\n",
              "          docLink.innerHTML = docLinkHtml;\n",
              "          element.appendChild(docLink);\n",
              "        }\n",
              "      </script>\n",
              "    </div>\n",
              "  </div>\n",
              "  "
            ]
          },
          "metadata": {},
          "execution_count": 16
        }
      ]
    },
    {
      "cell_type": "code",
      "source": [
        "# In ra data RFM\n",
        "df_rfm.head()"
      ],
      "metadata": {
        "colab": {
          "base_uri": "https://localhost:8080/",
          "height": 238
        },
        "id": "jAEphjVohC88",
        "outputId": "53b5b589-9305-43f7-aef4-0da4ef0516d6"
      },
      "execution_count": null,
      "outputs": [
        {
          "output_type": "execute_result",
          "data": {
            "text/plain": [
              "            Recency  Frequency  MonetaryValue\n",
              "CustomerID                                   \n",
              "12346           326          2      154367.20\n",
              "12347             3        182        4310.00\n",
              "12348            76         31        1797.24\n",
              "12349            19         73        1757.55\n",
              "12350           311         17         334.40"
            ],
            "text/html": [
              "\n",
              "  <div id=\"df-0c1f90c8-6302-48c2-a0e1-09113f34ed88\">\n",
              "    <div class=\"colab-df-container\">\n",
              "      <div>\n",
              "<style scoped>\n",
              "    .dataframe tbody tr th:only-of-type {\n",
              "        vertical-align: middle;\n",
              "    }\n",
              "\n",
              "    .dataframe tbody tr th {\n",
              "        vertical-align: top;\n",
              "    }\n",
              "\n",
              "    .dataframe thead th {\n",
              "        text-align: right;\n",
              "    }\n",
              "</style>\n",
              "<table border=\"1\" class=\"dataframe\">\n",
              "  <thead>\n",
              "    <tr style=\"text-align: right;\">\n",
              "      <th></th>\n",
              "      <th>Recency</th>\n",
              "      <th>Frequency</th>\n",
              "      <th>MonetaryValue</th>\n",
              "    </tr>\n",
              "    <tr>\n",
              "      <th>CustomerID</th>\n",
              "      <th></th>\n",
              "      <th></th>\n",
              "      <th></th>\n",
              "    </tr>\n",
              "  </thead>\n",
              "  <tbody>\n",
              "    <tr>\n",
              "      <th>12346</th>\n",
              "      <td>326</td>\n",
              "      <td>2</td>\n",
              "      <td>154367.20</td>\n",
              "    </tr>\n",
              "    <tr>\n",
              "      <th>12347</th>\n",
              "      <td>3</td>\n",
              "      <td>182</td>\n",
              "      <td>4310.00</td>\n",
              "    </tr>\n",
              "    <tr>\n",
              "      <th>12348</th>\n",
              "      <td>76</td>\n",
              "      <td>31</td>\n",
              "      <td>1797.24</td>\n",
              "    </tr>\n",
              "    <tr>\n",
              "      <th>12349</th>\n",
              "      <td>19</td>\n",
              "      <td>73</td>\n",
              "      <td>1757.55</td>\n",
              "    </tr>\n",
              "    <tr>\n",
              "      <th>12350</th>\n",
              "      <td>311</td>\n",
              "      <td>17</td>\n",
              "      <td>334.40</td>\n",
              "    </tr>\n",
              "  </tbody>\n",
              "</table>\n",
              "</div>\n",
              "      <button class=\"colab-df-convert\" onclick=\"convertToInteractive('df-0c1f90c8-6302-48c2-a0e1-09113f34ed88')\"\n",
              "              title=\"Convert this dataframe to an interactive table.\"\n",
              "              style=\"display:none;\">\n",
              "        \n",
              "  <svg xmlns=\"http://www.w3.org/2000/svg\" height=\"24px\"viewBox=\"0 0 24 24\"\n",
              "       width=\"24px\">\n",
              "    <path d=\"M0 0h24v24H0V0z\" fill=\"none\"/>\n",
              "    <path d=\"M18.56 5.44l.94 2.06.94-2.06 2.06-.94-2.06-.94-.94-2.06-.94 2.06-2.06.94zm-11 1L8.5 8.5l.94-2.06 2.06-.94-2.06-.94L8.5 2.5l-.94 2.06-2.06.94zm10 10l.94 2.06.94-2.06 2.06-.94-2.06-.94-.94-2.06-.94 2.06-2.06.94z\"/><path d=\"M17.41 7.96l-1.37-1.37c-.4-.4-.92-.59-1.43-.59-.52 0-1.04.2-1.43.59L10.3 9.45l-7.72 7.72c-.78.78-.78 2.05 0 2.83L4 21.41c.39.39.9.59 1.41.59.51 0 1.02-.2 1.41-.59l7.78-7.78 2.81-2.81c.8-.78.8-2.07 0-2.86zM5.41 20L4 18.59l7.72-7.72 1.47 1.35L5.41 20z\"/>\n",
              "  </svg>\n",
              "      </button>\n",
              "      \n",
              "  <style>\n",
              "    .colab-df-container {\n",
              "      display:flex;\n",
              "      flex-wrap:wrap;\n",
              "      gap: 12px;\n",
              "    }\n",
              "\n",
              "    .colab-df-convert {\n",
              "      background-color: #E8F0FE;\n",
              "      border: none;\n",
              "      border-radius: 50%;\n",
              "      cursor: pointer;\n",
              "      display: none;\n",
              "      fill: #1967D2;\n",
              "      height: 32px;\n",
              "      padding: 0 0 0 0;\n",
              "      width: 32px;\n",
              "    }\n",
              "\n",
              "    .colab-df-convert:hover {\n",
              "      background-color: #E2EBFA;\n",
              "      box-shadow: 0px 1px 2px rgba(60, 64, 67, 0.3), 0px 1px 3px 1px rgba(60, 64, 67, 0.15);\n",
              "      fill: #174EA6;\n",
              "    }\n",
              "\n",
              "    [theme=dark] .colab-df-convert {\n",
              "      background-color: #3B4455;\n",
              "      fill: #D2E3FC;\n",
              "    }\n",
              "\n",
              "    [theme=dark] .colab-df-convert:hover {\n",
              "      background-color: #434B5C;\n",
              "      box-shadow: 0px 1px 3px 1px rgba(0, 0, 0, 0.15);\n",
              "      filter: drop-shadow(0px 1px 2px rgba(0, 0, 0, 0.3));\n",
              "      fill: #FFFFFF;\n",
              "    }\n",
              "  </style>\n",
              "\n",
              "      <script>\n",
              "        const buttonEl =\n",
              "          document.querySelector('#df-0c1f90c8-6302-48c2-a0e1-09113f34ed88 button.colab-df-convert');\n",
              "        buttonEl.style.display =\n",
              "          google.colab.kernel.accessAllowed ? 'block' : 'none';\n",
              "\n",
              "        async function convertToInteractive(key) {\n",
              "          const element = document.querySelector('#df-0c1f90c8-6302-48c2-a0e1-09113f34ed88');\n",
              "          const dataTable =\n",
              "            await google.colab.kernel.invokeFunction('convertToInteractive',\n",
              "                                                     [key], {});\n",
              "          if (!dataTable) return;\n",
              "\n",
              "          const docLinkHtml = 'Like what you see? Visit the ' +\n",
              "            '<a target=\"_blank\" href=https://colab.research.google.com/notebooks/data_table.ipynb>data table notebook</a>'\n",
              "            + ' to learn more about interactive tables.';\n",
              "          element.innerHTML = '';\n",
              "          dataTable['output_type'] = 'display_data';\n",
              "          await google.colab.output.renderOutput(dataTable, element);\n",
              "          const docLink = document.createElement('div');\n",
              "          docLink.innerHTML = docLinkHtml;\n",
              "          element.appendChild(docLink);\n",
              "        }\n",
              "      </script>\n",
              "    </div>\n",
              "  </div>\n",
              "  "
            ]
          },
          "metadata": {},
          "execution_count": 19
        }
      ]
    },
    {
      "cell_type": "markdown",
      "source": [
        "## **3. EDA**"
      ],
      "metadata": {
        "id": "2GlwKrtJo5Tv"
      }
    },
    {
      "cell_type": "code",
      "source": [
        "# Copy dataframe để EDA\n",
        "df_eda = df.copy()"
      ],
      "metadata": {
        "id": "ei4IDlaHp5EB"
      },
      "execution_count": null,
      "outputs": []
    },
    {
      "cell_type": "code",
      "source": [
        "#Tần suất của các InvoiceNo (tần suất mua hàng) theo từng ngày trong tuần\n",
        "# Tạo cột mới chứa ngày trong tuần\n",
        "df_eda['DayOfWeek'] = df_eda['InvoiceDate'].dt.day_name()\n",
        "\n",
        "# Tạo DataFrame mới chứa số lượng InvoiceNo cho mỗi ngày trong tuần\n",
        "freq_by_day = df_eda.groupby(['DayOfWeek', 'InvoiceNo'])['TotalPrice'].count().reset_index()\n",
        "freq_by_day = freq_by_day.groupby('DayOfWeek')['InvoiceNo'].count().reset_index()\n",
        "freq_by_day = freq_by_day.rename(columns={'InvoiceNo': 'Frequency'})\n",
        "\n",
        "# Vẽ biểu đồ tần suất\n",
        "freq_by_day.plot(x='DayOfWeek', y='Frequency', kind='bar')\n",
        "\n",
        "# Đặt tiêu đề cho biểu đồ và các trục\n",
        "plt.title('Tần suất của các InvoiceNo theo từng ngày trong tuần')\n",
        "plt.xlabel('Ngày trong tuần')\n",
        "plt.ylabel('Tần suất')\n",
        "\n",
        "# Hiển thị biểu đồ\n",
        "plt.show()"
      ],
      "metadata": {
        "colab": {
          "base_uri": "https://localhost:8080/",
          "height": 541
        },
        "id": "vI03Utf8TiGk",
        "outputId": "e210e00a-9959-4fe1-beb1-88ddf1dc7ad2"
      },
      "execution_count": null,
      "outputs": [
        {
          "output_type": "display_data",
          "data": {
            "text/plain": [
              "<Figure size 640x480 with 1 Axes>"
            ],
            "image/png": "[encoded data removed]"
          },
          "metadata": {}
        }
      ]
    },
    {
      "cell_type": "markdown",
      "source": [
        "Qua biểu đồ ta thấy được từ thứ 2 đến thứ 6, InvoiceNo không có sự chênh lệch đáng kể. Duy nhất có thứ 5, lượng hóa đơn tăng, để giải thích có thể do khách hàng có xu hướng mua sắm trước khi nghỉ ngơi vào cuối tuần.\n",
        "\n",
        "Biểu đồ không có thứ 7, nhiều khả năng cửa hàng chủ trương đóng cửa vào thứ 7. Bởi họ đóng cửa một ngày trong khi các ngày khác có lượng bán ổn định, khách hàng sẽ có xu hướng không để tâm mua sắm nên lượng bán ngày chủ nhật sẽ giảm, sau đó mới dần ổn định trở lại ở các ngày trong tuần."
      ],
      "metadata": {
        "id": "ms29cSznqKpq"
      }
    },
    {
      "cell_type": "code",
      "source": [
        "#Tần suất mua hàng theo từng tháng trong năm\n",
        "# Tạo cột mới chứa tháng trong năm\n",
        "df_eda['Monthofyear'] = df_eda['InvoiceDate'].dt.month_name()\n",
        "\n",
        "# Tạo DataFrame mới chứa số lượng InvoiceNo cho tháng trong năm\n",
        "freq_by_month = df_eda.groupby(['Monthofyear', 'InvoiceNo'])['TotalPrice'].count().reset_index()\n",
        "freq_by_month = freq_by_month.groupby('Monthofyear')['InvoiceNo'].count().reset_index()\n",
        "freq_by_month = freq_by_month.rename(columns={'InvoiceNo': 'Frequency'})\n",
        "\n",
        "# Vẽ biểu đồ tần suất\n",
        "freq_by_month.plot(x='Monthofyear', y='Frequency', kind='bar')\n",
        "\n",
        "# Đặt tiêu đề cho biểu đồ và các trục\n",
        "plt.title('Tần suất của các InvoiceNo theo từng tháng trong năm')\n",
        "plt.xlabel('Tháng')\n",
        "plt.ylabel('Tần suất')\n",
        "\n",
        "# Hiển thị biểu đồ\n",
        "plt.show()"
      ],
      "metadata": {
        "colab": {
          "base_uri": "https://localhost:8080/",
          "height": 536
        },
        "id": "8n3yLWFRUvwQ",
        "outputId": "51048653-736e-47c5-ac3d-6296abd55028"
      },
      "execution_count": null,
      "outputs": [
        {
          "output_type": "display_data",
          "data": {
            "text/plain": [
              "<Figure size 640x480 with 1 Axes>"
            ],
            "image/png": "[encoded data removed]"
          },
          "metadata": {}
        }
      ]
    },
    {
      "cell_type": "markdown",
      "source": [
        "Qua biểu đồ ta thấy được có hai tháng lượng mua hàng cao đột biến, đó là tháng 12 và tháng 11. Giải thích lí do, đây là cửa hàng bán đồ gia dụng cũng như trang trí nhà cửa. Đồng thời tháng 11 có sự kiện Black Friday cũng như tháng 12 có Giáng sinh và gần đến năm mới nên lượng mua hàng sẽ cao hơn so với các tháng còn lại.\n",
        "\n",
        "Các tháng còn lại trong năm (trừ thang 1 và tháng 2) lượng mua hàng ổn định, không có sự thay đổi nhiều.\n",
        "\n",
        "ở tháng 1 và tháng 2, lượng mua hàng giảm do khách hàng đã mua sắm mạnh vào tháng 11 và tháng 12 trước đó, họ chưa có nhiều nhu cầu để mua sắm."
      ],
      "metadata": {
        "id": "8GbHS6VjsXLb"
      }
    },
    {
      "cell_type": "code",
      "source": [
        "# Tính toán số lượng sản phẩm bán cho mỗi StockCode\n",
        "quantity_by_stockcode = df_eda.groupby(['StockCode'])['Quantity'].sum()\n",
        "\n",
        "# Sắp xếp các StockCode theo thứ tự giảm dần của số lượng sản phẩm và lấy 5 sản phẩm có lượng bán cao nhất\n",
        "quantity_by_stockcode = quantity_by_stockcode.sort_values(ascending=False).nlargest(5)\n",
        "\n",
        "# Vẽ biểu đồ cột\n",
        "plt.bar(quantity_by_stockcode.index, quantity_by_stockcode.values)\n",
        "\n",
        "# Đặt tên cho trục x và trục y\n",
        "plt.xlabel('Mã sản phẩm')\n",
        "plt.ylabel('Số lượng')\n",
        "\n",
        "# Đặt tiêu đề cho biểu đồ\n",
        "plt.title('Top 5 sản phẩm có lượng bán nhiều nhất')\n",
        "\n",
        "# Hiển thị biểu đồ\n",
        "plt.show()"
      ],
      "metadata": {
        "colab": {
          "base_uri": "https://localhost:8080/",
          "height": 476
        },
        "id": "G665wyufW7Pm",
        "outputId": "cb6262a2-fb54-4f2d-9e99-8de0d1ead424"
      },
      "execution_count": null,
      "outputs": [
        {
          "output_type": "display_data",
          "data": {
            "text/plain": [
              "<Figure size 640x480 with 1 Axes>"
            ],
            "image/png": "[encoded data removed]"
          },
          "metadata": {}
        }
      ]
    },
    {
      "cell_type": "code",
      "source": [
        "top2 = df_eda[(df_eda['StockCode'] == '23843') | (df_eda['StockCode'] == '23166') ]\n",
        "print(top2)"
      ],
      "metadata": {
        "colab": {
          "base_uri": "https://localhost:8080/"
        },
        "id": "7Bg4Hois1J8L",
        "outputId": "a29311b5-39ec-41b2-dd82-dff26c0bc8f6"
      },
      "execution_count": null,
      "outputs": [
        {
          "output_type": "stream",
          "name": "stdout",
          "text": [
            "       InvoiceNo StockCode                     Description  Quantity InvoiceDate  UnitPrice CustomerID         Country  TotalPrice  DayOfWeek Monthofyear\n",
            "61619     541431     23166  MEDIUM CERAMIC TOP STORAGE JAR     74215  2011-01-18       1.04      12346  United Kingdom    77183.60    Tuesday     January\n",
            "61624    C541433     23166  MEDIUM CERAMIC TOP STORAGE JAR     74215  2011-01-18       1.04      12346  United Kingdom    77183.60    Tuesday     January\n",
            "186770    552882     23166  MEDIUM CERAMIC TOP STORAGE JAR        96  2011-05-12       1.04      14646     Netherlands       99.84   Thursday         May\n",
            "187196    552953     23166  MEDIUM CERAMIC TOP STORAGE JAR         4  2011-05-12       1.25      16745  United Kingdom        5.00   Thursday         May\n",
            "187718    553005     23166  MEDIUM CERAMIC TOP STORAGE JAR         5  2011-05-12       1.25      14651  United Kingdom        6.25   Thursday         May\n",
            "...          ...       ...                             ...       ...         ...        ...        ...             ...         ...        ...         ...\n",
            "532826    580997     23166  MEDIUM CERAMIC TOP STORAGE JAR         4  2011-12-06       1.25      15023  United Kingdom        5.00    Tuesday    December\n",
            "533742    581108     23166  MEDIUM CERAMIC TOP STORAGE JAR         2  2011-12-07       1.25      15984  United Kingdom        2.50  Wednesday    December\n",
            "540301    581476     23166  MEDIUM CERAMIC TOP STORAGE JAR        48  2011-12-09       1.04      12433          Norway       49.92     Friday    December\n",
            "540421    581483     23843     PAPER CRAFT , LITTLE BIRDIE     80995  2011-12-09       2.08      16446  United Kingdom   168469.60     Friday    December\n",
            "540422   C581484     23843     PAPER CRAFT , LITTLE BIRDIE     80995  2011-12-09       2.08      16446  United Kingdom   168469.60     Friday    December\n",
            "\n",
            "[210 rows x 11 columns]\n"
          ]
        }
      ]
    },
    {
      "cell_type": "markdown",
      "source": [
        "Qua biểu đồ, ta thấy được sản phẩm được bán chạy nhất là paper craft, tiếp đến là storage jar."
      ],
      "metadata": {
        "id": "pE6fBEmNuFrx"
      }
    },
    {
      "cell_type": "code",
      "source": [
        "# Tính toán số lượng sản phẩm theo quốc gia\n",
        "quantity_by_country = df_eda.groupby(['Country'])['Quantity'].sum()\n",
        "\n",
        "# Sắp xếp các sản phẩm theo thứ tự giảm dần của số lượng sản phẩm và lấy 5 sản phẩm có lượng bán cao nhất\n",
        "quantity_by_country = quantity_by_country.sort_values(ascending=False).nlargest(5)\n",
        "\n",
        "# Vẽ biểu đồ cột\n",
        "plt.bar(quantity_by_country.index, quantity_by_country.values)\n",
        "\n",
        "# Đặt tên cho trục x và trục y\n",
        "plt.xlabel('Quốc gia')\n",
        "plt.ylabel('Số lượng sản phẩm')\n",
        "\n",
        "# Đặt tiêu đề cho biểu đồ\n",
        "plt.title('Top 5 quốc gia có số lượng sản phẩm nhiều nhất')\n",
        "\n",
        "# Hiển thị biểu đồ\n",
        "plt.show()\n",
        "print(quantity_by_country )"
      ],
      "metadata": {
        "colab": {
          "base_uri": "https://localhost:8080/",
          "height": 597
        },
        "id": "hTjHyK0guyR4",
        "outputId": "08bec5d2-dd67-4237-80f6-fe0fe3e02235"
      },
      "execution_count": null,
      "outputs": [
        {
          "output_type": "display_data",
          "data": {
            "text/plain": [
              "<Figure size 640x480 with 1 Axes>"
            ],
            "image/png": "[encoded data removed]"
          },
          "metadata": {}
        },
        {
          "output_type": "stream",
          "name": "stdout",
          "text": [
            "Country\n",
            "United Kingdom    4517679\n",
            "Netherlands        201170\n",
            "EIRE               144471\n",
            "Germany            121076\n",
            "France             113095\n",
            "Name: Quantity, dtype: int64\n"
          ]
        }
      ]
    },
    {
      "cell_type": "markdown",
      "source": [
        "Qua biểu đồ, ta thấy được phần lớn các sản phẩm được sản xuất tại Anh, cho thấy cửa hàng được đặt tại Anh."
      ],
      "metadata": {
        "id": "Bnwjz7-4LeCG"
      }
    },
    {
      "cell_type": "code",
      "source": [
        "# Tính toán hệ số tương quan giữa các biến RFM\n",
        "corr_matrix = df_rfm.corr()\n",
        "\n",
        "# In kết quả hệ số tương quan\n",
        "print(corr_matrix)\n",
        "\n",
        "# Vẽ biểu đồ heatmap cho ma trận hệ số tương quan\n",
        "sns.heatmap(corr_matrix, annot=True, cmap='coolwarm')"
      ],
      "metadata": {
        "colab": {
          "base_uri": "https://localhost:8080/",
          "height": 522
        },
        "id": "43d4uVV2PMRz",
        "outputId": "82cf5fc2-ecf9-449c-c783-db7bcdbacd02"
      },
      "execution_count": null,
      "outputs": [
        {
          "output_type": "stream",
          "name": "stdout",
          "text": [
            "                Recency  Frequency  MonetaryValue\n",
            "Recency        1.000000  -0.207125      -0.105923\n",
            "Frequency     -0.207125   1.000000       0.377689\n",
            "MonetaryValue -0.105923   0.377689       1.000000\n"
          ]
        },
        {
          "output_type": "execute_result",
          "data": {
            "text/plain": [
              "<Axes: >"
            ]
          },
          "metadata": {},
          "execution_count": 32
        },
        {
          "output_type": "display_data",
          "data": {
            "text/plain": [
              "<Figure size 640x480 with 2 Axes>"
            ],
            "image/png": "[encoded data removed]"
          },
          "metadata": {}
        }
      ]
    },
    {
      "cell_type": "markdown",
      "source": [
        "Ma trận hệ số tương quan giữa các biến RFM cho thấy:\n",
        "\n",
        "* Biến Recency có mối tương quan âm với biến Frequency và biến MonetaryValue, tức là khách hàng càng lâu không mua hàng thì số lần mua hàng và giá trị mua hàng trung bình của họ càng ít.\n",
        "* Biến Frequency có mối tương quan dương với biến MonetaryValue, tức là khách hàng mua hàng nhiều lần thì giá trị mua hàng trung bình của họ cũng cao hơn.\n",
        "Các mức độ tương quan giữa các biến đều khá thấp, trong khoảng từ -0.21 đến 0.38, cho thấy không có một mối quan hệ tuyến tính mạnh giữa các biến. Tuy nhiên, chúng ta vẫn có thể sử dụng các biến này để phân tích RFM và tìm ra những nhóm khách hàng có hành vi tương tự.\n",
        "\n",
        "=> Có thể rút ra một số kết luận sau:\n",
        "* Nhóm khách hàng không mua hàng trong thời gian gần đây, mua hàng ít lần và chi tiêu thấp có thể được xác định dựa trên mức độ cao của biến Recency và thấp của biến Frequency và biến MonetaryValue.\n",
        "* Nhóm khách hàng mua hàng ít lần trong thời gian gần đây, nhưng chi tiêu cao có thể được xác định dựa trên mức độ thấp của biến Recency và cao của biến MonetaryValue.\n",
        "* Nhóm khách hàng mua hàng nhiều lần và chi tiêu cao (nhóm khách hàng tiềm năng) có thể được xác định dựa trên mức độ cao của biến Frequency và biến MonetaryValue."
      ],
      "metadata": {
        "id": "jle9VO79QGi4"
      }
    },
    {
      "cell_type": "markdown",
      "source": [
        "## **4. Pre-processing**"
      ],
      "metadata": {
        "id": "mbYiE9W1v59f"
      }
    },
    {
      "cell_type": "code",
      "source": [
        "# Vẽ biểu đồ displot để kiểm tra phân phối\n",
        "fig, ax = plt.subplots(1, 3, figsize=(12,4))\n",
        "sns.histplot(df_rfm['Recency'], ax = ax[0])\n",
        "sns.histplot(df_rfm['Frequency'], ax = ax[1])\n",
        "sns.histplot(df_rfm['MonetaryValue'], ax = ax[2])\n",
        "plt.show()"
      ],
      "metadata": {
        "colab": {
          "base_uri": "https://localhost:8080/",
          "height": 388
        },
        "id": "GoRqbNH_nAk5",
        "outputId": "2214ae53-81b8-4a28-b850-c4a7e2fde6fc"
      },
      "execution_count": null,
      "outputs": [
        {
          "output_type": "display_data",
          "data": {
            "text/plain": [
              "<Figure size 1200x400 with 3 Axes>"
            ],
            "image/png": "[encoded data removed]"
          },
          "metadata": {}
        }
      ]
    },
    {
      "cell_type": "markdown",
      "source": [
        "Cả ba đồ thị đều lệch phải, nếu áp dụng model thì không hiệu quả"
      ],
      "metadata": {
        "id": "q5xKisS7yJc6"
      }
    },
    {
      "cell_type": "code",
      "source": [
        "#Tìm hàm chuẩn hóa dữ liệu để đưa ba đồ thị về dạng chuẩn\n",
        "from scipy import stats\n",
        "def analyze_skewness(x):\n",
        "    fig, ax = plt.subplots(2, 2, figsize=(5,5))\n",
        "    sns.histplot(df_rfm[x], ax=ax[0,0])\n",
        "    sns.histplot(np.log(df_rfm[x]), ax=ax[0,1])\n",
        "    sns.histplot(np.sqrt(df_rfm[x]), ax=ax[1,0])\n",
        "    sns.histplot(stats.boxcox(df_rfm[x])[0], ax=ax[1,1])\n",
        "    plt.tight_layout()\n",
        "    plt.show()\n",
        "    \n",
        "    print(df_rfm[x].skew().round(2))\n",
        "    print(np.log(df_rfm[x]).skew().round(2))\n",
        "    print(np.sqrt(df_rfm[x]).skew().round(2))\n",
        "    print(pd.Series(stats.boxcox(df_rfm[x])[0]).skew().round(2))"
      ],
      "metadata": {
        "id": "mIXfgslByOWK"
      },
      "execution_count": null,
      "outputs": []
    },
    {
      "cell_type": "code",
      "source": [
        "analyze_skewness('Frequency')"
      ],
      "metadata": {
        "colab": {
          "base_uri": "https://localhost:8080/",
          "height": 576
        },
        "id": "Zjno9iYd1RaY",
        "outputId": "12f9debd-035f-4cf8-ddbc-9603d2b39503"
      },
      "execution_count": null,
      "outputs": [
        {
          "output_type": "display_data",
          "data": {
            "text/plain": [
              "<Figure size 500x500 with 4 Axes>"
            ],
            "image/png": "[encoded data removed]"
          },
          "metadata": {}
        },
        {
          "output_type": "stream",
          "name": "stdout",
          "text": [
            "18.15\n",
            "-0.24\n",
            "3.2\n",
            "0.0\n"
          ]
        }
      ]
    },
    {
      "cell_type": "markdown",
      "source": [
        "* Hệ số lệch của biến Frequency lấy từ dữ liệu gốc là 18.15, cho thấy biến có độ lệch rất lớn về phía bên phải và có phân phối rất không đối xứng.\n",
        "* Hệ số lệch của biến Frequency sau khi được chuyển đổi bằng phép toán logarithm là -0.24, cho thấy biến có độ lệch nhỏ hơn so với dữ liệu gốc và phân phối của biến có xu hướng đối xứng hơn.\n",
        "* Hệ số lệch của biến Frequency sau khi được chuyển đổi bằng phép toán căn bậc hai là 3.2, cho thấy biến có độ lệch lớn hơn so với dữ liệu gốc và phân phối của biến vẫn rất không đối xứng.\n",
        "* Hệ số lệch của biến Frequency sau khi được chuyển đổi bằng phép toán Box-Cox là 0, cho thấy biến đã được chuyển đổi sao cho có phân phối gần với phân phối chuẩn"
      ],
      "metadata": {
        "id": "qG4jaYEuWBJk"
      }
    },
    {
      "cell_type": "code",
      "source": [
        "analyze_skewness('Recency')"
      ],
      "metadata": {
        "colab": {
          "base_uri": "https://localhost:8080/",
          "height": 576
        },
        "id": "ndsZ1ZxU1amY",
        "outputId": "9c6c8c15-04bc-4fbc-9806-ee02c691772f"
      },
      "execution_count": null,
      "outputs": [
        {
          "output_type": "display_data",
          "data": {
            "text/plain": [
              "<Figure size 500x500 with 4 Axes>"
            ],
            "image/png": "[encoded data removed]"
          },
          "metadata": {}
        },
        {
          "output_type": "stream",
          "name": "stdout",
          "text": [
            "1.25\n",
            "-0.45\n",
            "0.6\n",
            "-0.07\n"
          ]
        }
      ]
    },
    {
      "cell_type": "markdown",
      "source": [
        "* Hệ số lệch của biến Recency lấy từ dữ liệu gốc là 1.25, cho thấy biến có độ lệch nhỏ về phía bên phải và có phân phối không đối xứng nhưng không quá nghiêm trọng.\n",
        "* Hệ số lệch của biến Recency sau khi được chuyển đổi bằng phép toán logarithm là -0.45, cho thấy biến có độ lệch nhỏ hơn so với dữ liệu gốc và phân phối của biến có xu hướng đối xứng hơn.\n",
        "* Hệ số lệch của biến Recency sau khi được chuyển đổi bằng phép toán căn bậc hai là 0.6, cho thấy biến có độ lệch nhỏ hơn so với dữ liệu gốc và phân phối của biến có xu hướng đối xứng hơn.\n",
        "* Hệ số lệch của biến Recency sau khi được chuyển đổi bằng phép toán Box-Cox là -0.07, cho thấy biến đã được chuyển đổi sao cho có phân phối gần với phân phối chuẩn."
      ],
      "metadata": {
        "id": "PgOhrtAlW353"
      }
    },
    {
      "cell_type": "code",
      "source": [
        "analyze_skewness('MonetaryValue')"
      ],
      "metadata": {
        "colab": {
          "base_uri": "https://localhost:8080/",
          "height": 576
        },
        "id": "RBiIE43L1fVu",
        "outputId": "331a46ed-9f3c-42d0-82ec-ddf3d5a0e2bf"
      },
      "execution_count": null,
      "outputs": [
        {
          "output_type": "display_data",
          "data": {
            "text/plain": [
              "<Figure size 500x500 with 4 Axes>"
            ],
            "image/png": "[encoded data removed]"
          },
          "metadata": {}
        },
        {
          "output_type": "stream",
          "name": "stdout",
          "text": [
            "20.0\n",
            "0.27\n",
            "6.41\n",
            "-0.02\n"
          ]
        }
      ]
    },
    {
      "cell_type": "markdown",
      "source": [
        "* Hệ số lệch của biến MonetaryValue lấy từ dữ liệu gốc là 20, cho thấy biến có độ lệch rất lớn về phía bên phải và có phân phối rất không đối xứng.\n",
        "* Hệ số lệch của biến MonetaryValue sau khi được chuyển đổi bằng phép toán logarithm là 0.27, cho thấy biến có độ lệch nhỏ hơn so với dữ liệu gốc và phân phối của biến có xu hướng đối xứng hơn.\n",
        "* Hệ số lệch của biến MonetaryValue sau khi được chuyển đổi bằng phép toán căn bậc hai là 6.41, cho thấy biến có độ lệch lớn hơn so với dữ liệu gốc và phân phối của biến vẫn rất không đối xứng.\n",
        "* Hệ số lệch của biến MonetaryValue sau khi được chuyển đổi bằng phép toán Box-Cox là -0.02, cho thấy biến đã được chuyển đổi sao cho có phân phối gần với phân phối chuẩn."
      ],
      "metadata": {
        "id": "NbGbh_meXYYU"
      }
    },
    {
      "cell_type": "markdown",
      "source": [
        "=> Từ kết quả trên, ta thấy rằng phương pháp Box-Cox là phương pháp phù hợp nhất để chuyển đổi các biến vì nó giúp làm giảm độ lệch của phân phối và đưa phân phối gần với phân phối chuẩn."
      ],
      "metadata": {
        "id": "PrNw46-c6JsT"
      }
    },
    {
      "cell_type": "code",
      "source": [
        "#Tiến hành transform dữ liệu về dạng phân phối chuẩn\n",
        "df_new = df_rfm.copy()\n",
        "df_new['Recency'] = stats.boxcox(df_new['Recency'])[0]\n",
        "df_new['Frequency'] = stats.boxcox(df_new['Frequency'])[0]\n",
        "df_new['MonetaryValue'] = stats.boxcox(df_new['MonetaryValue'])[0]\n",
        "df_new.head(10)"
      ],
      "metadata": {
        "colab": {
          "base_uri": "https://localhost:8080/",
          "height": 394
        },
        "id": "MB1HQNMV6VEq",
        "outputId": "4e343dcc-4fc6-4aac-90b4-323dda614a98"
      },
      "execution_count": null,
      "outputs": [
        {
          "output_type": "execute_result",
          "data": {
            "text/plain": [
              "             Recency  Frequency  MonetaryValue\n",
              "CustomerID                                    \n",
              "12346       9.319819   0.706966       9.037008\n",
              "12347       1.196627   6.054423       6.861728\n",
              "12348       6.148924   3.791591       6.269268\n",
              "12349       3.722057   4.858151       6.253806\n",
              "12350       9.205774   3.073803       5.056131\n",
              "12352       4.824528   5.196748       6.716613\n",
              "12353       8.231814   1.442309       4.028176\n",
              "12354       8.524398   4.566600       5.911999\n",
              "12355       8.339988   2.761111       5.292974\n",
              "12356       4.026655   4.588137       6.575518"
            ],
            "text/html": [
              "\n",
              "  <div id=\"df-1ef32656-a1bf-4cb5-ab81-74d6f5e63e9a\">\n",
              "    <div class=\"colab-df-container\">\n",
              "      <div>\n",
              "<style scoped>\n",
              "    .dataframe tbody tr th:only-of-type {\n",
              "        vertical-align: middle;\n",
              "    }\n",
              "\n",
              "    .dataframe tbody tr th {\n",
              "        vertical-align: top;\n",
              "    }\n",
              "\n",
              "    .dataframe thead th {\n",
              "        text-align: right;\n",
              "    }\n",
              "</style>\n",
              "<table border=\"1\" class=\"dataframe\">\n",
              "  <thead>\n",
              "    <tr style=\"text-align: right;\">\n",
              "      <th></th>\n",
              "      <th>Recency</th>\n",
              "      <th>Frequency</th>\n",
              "      <th>MonetaryValue</th>\n",
              "    </tr>\n",
              "    <tr>\n",
              "      <th>CustomerID</th>\n",
              "      <th></th>\n",
              "      <th></th>\n",
              "      <th></th>\n",
              "    </tr>\n",
              "  </thead>\n",
              "  <tbody>\n",
              "    <tr>\n",
              "      <th>12346</th>\n",
              "      <td>9.319819</td>\n",
              "      <td>0.706966</td>\n",
              "      <td>9.037008</td>\n",
              "    </tr>\n",
              "    <tr>\n",
              "      <th>12347</th>\n",
              "      <td>1.196627</td>\n",
              "      <td>6.054423</td>\n",
              "      <td>6.861728</td>\n",
              "    </tr>\n",
              "    <tr>\n",
              "      <th>12348</th>\n",
              "      <td>6.148924</td>\n",
              "      <td>3.791591</td>\n",
              "      <td>6.269268</td>\n",
              "    </tr>\n",
              "    <tr>\n",
              "      <th>12349</th>\n",
              "      <td>3.722057</td>\n",
              "      <td>4.858151</td>\n",
              "      <td>6.253806</td>\n",
              "    </tr>\n",
              "    <tr>\n",
              "      <th>12350</th>\n",
              "      <td>9.205774</td>\n",
              "      <td>3.073803</td>\n",
              "      <td>5.056131</td>\n",
              "    </tr>\n",
              "    <tr>\n",
              "      <th>12352</th>\n",
              "      <td>4.824528</td>\n",
              "      <td>5.196748</td>\n",
              "      <td>6.716613</td>\n",
              "    </tr>\n",
              "    <tr>\n",
              "      <th>12353</th>\n",
              "      <td>8.231814</td>\n",
              "      <td>1.442309</td>\n",
              "      <td>4.028176</td>\n",
              "    </tr>\n",
              "    <tr>\n",
              "      <th>12354</th>\n",
              "      <td>8.524398</td>\n",
              "      <td>4.566600</td>\n",
              "      <td>5.911999</td>\n",
              "    </tr>\n",
              "    <tr>\n",
              "      <th>12355</th>\n",
              "      <td>8.339988</td>\n",
              "      <td>2.761111</td>\n",
              "      <td>5.292974</td>\n",
              "    </tr>\n",
              "    <tr>\n",
              "      <th>12356</th>\n",
              "      <td>4.026655</td>\n",
              "      <td>4.588137</td>\n",
              "      <td>6.575518</td>\n",
              "    </tr>\n",
              "  </tbody>\n",
              "</table>\n",
              "</div>\n",
              "      <button class=\"colab-df-convert\" onclick=\"convertToInteractive('df-1ef32656-a1bf-4cb5-ab81-74d6f5e63e9a')\"\n",
              "              title=\"Convert this dataframe to an interactive table.\"\n",
              "              style=\"display:none;\">\n",
              "        \n",
              "  <svg xmlns=\"http://www.w3.org/2000/svg\" height=\"24px\"viewBox=\"0 0 24 24\"\n",
              "       width=\"24px\">\n",
              "    <path d=\"M0 0h24v24H0V0z\" fill=\"none\"/>\n",
              "    <path d=\"M18.56 5.44l.94 2.06.94-2.06 2.06-.94-2.06-.94-.94-2.06-.94 2.06-2.06.94zm-11 1L8.5 8.5l.94-2.06 2.06-.94-2.06-.94L8.5 2.5l-.94 2.06-2.06.94zm10 10l.94 2.06.94-2.06 2.06-.94-2.06-.94-.94-2.06-.94 2.06-2.06.94z\"/><path d=\"M17.41 7.96l-1.37-1.37c-.4-.4-.92-.59-1.43-.59-.52 0-1.04.2-1.43.59L10.3 9.45l-7.72 7.72c-.78.78-.78 2.05 0 2.83L4 21.41c.39.39.9.59 1.41.59.51 0 1.02-.2 1.41-.59l7.78-7.78 2.81-2.81c.8-.78.8-2.07 0-2.86zM5.41 20L4 18.59l7.72-7.72 1.47 1.35L5.41 20z\"/>\n",
              "  </svg>\n",
              "      </button>\n",
              "      \n",
              "  <style>\n",
              "    .colab-df-container {\n",
              "      display:flex;\n",
              "      flex-wrap:wrap;\n",
              "      gap: 12px;\n",
              "    }\n",
              "\n",
              "    .colab-df-convert {\n",
              "      background-color: #E8F0FE;\n",
              "      border: none;\n",
              "      border-radius: 50%;\n",
              "      cursor: pointer;\n",
              "      display: none;\n",
              "      fill: #1967D2;\n",
              "      height: 32px;\n",
              "      padding: 0 0 0 0;\n",
              "      width: 32px;\n",
              "    }\n",
              "\n",
              "    .colab-df-convert:hover {\n",
              "      background-color: #E2EBFA;\n",
              "      box-shadow: 0px 1px 2px rgba(60, 64, 67, 0.3), 0px 1px 3px 1px rgba(60, 64, 67, 0.15);\n",
              "      fill: #174EA6;\n",
              "    }\n",
              "\n",
              "    [theme=dark] .colab-df-convert {\n",
              "      background-color: #3B4455;\n",
              "      fill: #D2E3FC;\n",
              "    }\n",
              "\n",
              "    [theme=dark] .colab-df-convert:hover {\n",
              "      background-color: #434B5C;\n",
              "      box-shadow: 0px 1px 3px 1px rgba(0, 0, 0, 0.15);\n",
              "      filter: drop-shadow(0px 1px 2px rgba(0, 0, 0, 0.3));\n",
              "      fill: #FFFFFF;\n",
              "    }\n",
              "  </style>\n",
              "\n",
              "      <script>\n",
              "        const buttonEl =\n",
              "          document.querySelector('#df-1ef32656-a1bf-4cb5-ab81-74d6f5e63e9a button.colab-df-convert');\n",
              "        buttonEl.style.display =\n",
              "          google.colab.kernel.accessAllowed ? 'block' : 'none';\n",
              "\n",
              "        async function convertToInteractive(key) {\n",
              "          const element = document.querySelector('#df-1ef32656-a1bf-4cb5-ab81-74d6f5e63e9a');\n",
              "          const dataTable =\n",
              "            await google.colab.kernel.invokeFunction('convertToInteractive',\n",
              "                                                     [key], {});\n",
              "          if (!dataTable) return;\n",
              "\n",
              "          const docLinkHtml = 'Like what you see? Visit the ' +\n",
              "            '<a target=\"_blank\" href=https://colab.research.google.com/notebooks/data_table.ipynb>data table notebook</a>'\n",
              "            + ' to learn more about interactive tables.';\n",
              "          element.innerHTML = '';\n",
              "          dataTable['output_type'] = 'display_data';\n",
              "          await google.colab.output.renderOutput(dataTable, element);\n",
              "          const docLink = document.createElement('div');\n",
              "          docLink.innerHTML = docLinkHtml;\n",
              "          element.appendChild(docLink);\n",
              "        }\n",
              "      </script>\n",
              "    </div>\n",
              "  </div>\n",
              "  "
            ]
          },
          "metadata": {},
          "execution_count": 39
        }
      ]
    },
    {
      "cell_type": "code",
      "source": [
        "# Tiến hành scale dữ liệu\n",
        "\n",
        "from sklearn.preprocessing import StandardScaler\n",
        "scaler = StandardScaler()\n",
        "scaler.fit(df_new)\n",
        "df_new = scaler.transform(df_new)"
      ],
      "metadata": {
        "id": "DeR1jfub7hHC"
      },
      "execution_count": null,
      "outputs": []
    },
    {
      "cell_type": "code",
      "source": [
        "print(df_new)"
      ],
      "metadata": {
        "colab": {
          "base_uri": "https://localhost:8080/"
        },
        "id": "6AUelip77vWk",
        "outputId": "0a5f5d13-dbfb-4feb-90e9-6efb8b70dac9"
      },
      "execution_count": null,
      "outputs": [
        {
          "output_type": "stream",
          "name": "stdout",
          "text": [
            "[[ 1.60653611 -2.10042338  3.68509687]\n",
            " [-1.69616134  1.15139125  1.35144863]\n",
            " [ 0.3173254  -0.22464832  0.71585495]\n",
            " ...\n",
            " [-1.18680468 -0.85128793 -1.09500864]\n",
            " [-1.55462279  2.36334546  0.82919291]\n",
            " [-0.11358001  0.39141366  0.73220371]]\n"
          ]
        }
      ]
    },
    {
      "cell_type": "markdown",
      "source": [
        "## **5. Building Model**"
      ],
      "metadata": {
        "id": "3yu15C2Uk4PI"
      }
    },
    {
      "cell_type": "markdown",
      "source": [
        "### **5.1. K-Means Clustering**"
      ],
      "metadata": {
        "id": "_MuZl9Z2a6rU"
      }
    },
    {
      "cell_type": "code",
      "source": [
        "# Chọn số cụm bằng Elbow\n",
        "from sklearn.cluster import KMeans\n",
        "\n",
        "# Khởi tạo một dictionary để lưu giá trị distortion tương ứng với mỗi số lượng cụm k\n",
        "distortions_kmeans = {}\n",
        "\n",
        "# Áp dụng phân nhóm dữ liệu với số lượng cụm k từ 1 đến 10\n",
        "for k in range(1, 11):\n",
        "    kmeans = KMeans(n_clusters=k, random_state=42)\n",
        "    kmeans.fit(df_new)\n",
        "    distortions_kmeans[k] = kmeans.inertia_ \n",
        "\n",
        "# Vẽ biểu đồ distortion theo số lượng cụm k  \n",
        "plt.title('The Elbow Method')\n",
        "plt.xlabel('k')\n",
        "plt.ylabel('Distortion')\n",
        "sns.pointplot(x=list(distortions_kmeans.keys()), y=list(distortions_kmeans.values()))\n",
        "plt.show()\n",
        "\n",
        "# In ra giá trị distortion tương ứng với mỗi số lượng cụm k\n",
        "print(distortions_kmeans)"
      ],
      "metadata": {
        "colab": {
          "base_uri": "https://localhost:8080/",
          "height": 857
        },
        "id": "OCeoZsrC7OU5",
        "outputId": "952d9728-0679-4791-d5b7-e57e0421d4ef"
      },
      "execution_count": null,
      "outputs": [
        {
          "output_type": "stream",
          "name": "stderr",
          "text": [
            "/usr/local/lib/python3.10/dist-packages/sklearn/cluster/_kmeans.py:870: FutureWarning: The default value of `n_init` will change from 10 to 'auto' in 1.4. Set the value of `n_init` explicitly to suppress the warning\n",
            "  warnings.warn(\n",
            "/usr/local/lib/python3.10/dist-packages/sklearn/cluster/_kmeans.py:870: FutureWarning: The default value of `n_init` will change from 10 to 'auto' in 1.4. Set the value of `n_init` explicitly to suppress the warning\n",
            "  warnings.warn(\n",
            "/usr/local/lib/python3.10/dist-packages/sklearn/cluster/_kmeans.py:870: FutureWarning: The default value of `n_init` will change from 10 to 'auto' in 1.4. Set the value of `n_init` explicitly to suppress the warning\n",
            "  warnings.warn(\n",
            "/usr/local/lib/python3.10/dist-packages/sklearn/cluster/_kmeans.py:870: FutureWarning: The default value of `n_init` will change from 10 to 'auto' in 1.4. Set the value of `n_init` explicitly to suppress the warning\n",
            "  warnings.warn(\n",
            "/usr/local/lib/python3.10/dist-packages/sklearn/cluster/_kmeans.py:870: FutureWarning: The default value of `n_init` will change from 10 to 'auto' in 1.4. Set the value of `n_init` explicitly to suppress the warning\n",
            "  warnings.warn(\n",
            "/usr/local/lib/python3.10/dist-packages/sklearn/cluster/_kmeans.py:870: FutureWarning: The default value of `n_init` will change from 10 to 'auto' in 1.4. Set the value of `n_init` explicitly to suppress the warning\n",
            "  warnings.warn(\n",
            "/usr/local/lib/python3.10/dist-packages/sklearn/cluster/_kmeans.py:870: FutureWarning: The default value of `n_init` will change from 10 to 'auto' in 1.4. Set the value of `n_init` explicitly to suppress the warning\n",
            "  warnings.warn(\n",
            "/usr/local/lib/python3.10/dist-packages/sklearn/cluster/_kmeans.py:870: FutureWarning: The default value of `n_init` will change from 10 to 'auto' in 1.4. Set the value of `n_init` explicitly to suppress the warning\n",
            "  warnings.warn(\n",
            "/usr/local/lib/python3.10/dist-packages/sklearn/cluster/_kmeans.py:870: FutureWarning: The default value of `n_init` will change from 10 to 'auto' in 1.4. Set the value of `n_init` explicitly to suppress the warning\n",
            "  warnings.warn(\n",
            "/usr/local/lib/python3.10/dist-packages/sklearn/cluster/_kmeans.py:870: FutureWarning: The default value of `n_init` will change from 10 to 'auto' in 1.4. Set the value of `n_init` explicitly to suppress the warning\n",
            "  warnings.warn(\n"
          ]
        },
        {
          "output_type": "display_data",
          "data": {
            "text/plain": [
              "<Figure size 640x480 with 1 Axes>"
            ],
            "image/png": "[encoded data removed]"
          },
          "metadata": {}
        },
        {
          "output_type": "stream",
          "name": "stdout",
          "text": [
            "{1: 13113.000000000022, 2: 6848.987447445802, 3: 5309.734336785039, 4: 4381.5264064965695, 5: 3754.9993142440144, 6: 3264.3269664326726, 7: 2983.7564569996784, 8: 2764.10588307541, 9: 2590.104959915848, 10: 2422.6135537110686}\n"
          ]
        }
      ]
    },
    {
      "cell_type": "markdown",
      "source": [
        "Giá trị distortion giảm khi số lượng cụm k tăng lên, điều này cho thấy việc phân nhóm dữ liệu thành nhiều cụm hơn giúp giảm độ méo và tăng độ tách biệt giữa các cụm.\n",
        "\n",
        "Sự giảm đáng kể giá trị distortion từ k=1 đến k=2 cho thấy việc phân nhóm dữ liệu thành hai cụm giúp tách biệt dữ liệu tốt hơn so với chỉ có một cụm.\n",
        "\n",
        "Tuy nhiên, sự giảm đáng kể tiếp theo của giá trị distortion từ k=2 đến k=3 và k=4 cho thấy việc phân nhóm dữ liệu thành ba và bốn cụm không cải thiện đáng kể độ tách biệt giữa các cụm.\n",
        "\n",
        "Sự giảm đáng kể của giá trị distortion giảm khi số lượng cụm vượt qua 4 cho thấy việc phân nhóm dữ liệu thành nhiều hơn bốn cụm không cải thiện đáng kể độ tách biệt giữa các cụm.\n",
        "\n",
        "=> Dựa trên các nhận xét trên, ta có thể chọn số lượng cụm tối ưu cho phân nhóm dữ liệu là 3 cụm."
      ],
      "metadata": {
        "id": "Q-Y-SijR_GKo"
      }
    },
    {
      "cell_type": "code",
      "source": [
        "model_kmeans = KMeans(n_clusters=3, random_state=42)\n",
        "model_kmeans.fit(df_new)"
      ],
      "metadata": {
        "colab": {
          "base_uri": "https://localhost:8080/",
          "height": 129
        },
        "id": "Mrz0NdMF_Fdq",
        "outputId": "3a775fad-f297-41db-99a2-f076561d4ece"
      },
      "execution_count": null,
      "outputs": [
        {
          "output_type": "stream",
          "name": "stderr",
          "text": [
            "/usr/local/lib/python3.10/dist-packages/sklearn/cluster/_kmeans.py:870: FutureWarning: The default value of `n_init` will change from 10 to 'auto' in 1.4. Set the value of `n_init` explicitly to suppress the warning\n",
            "  warnings.warn(\n"
          ]
        },
        {
          "output_type": "execute_result",
          "data": {
            "text/plain": [
              "KMeans(n_clusters=3, random_state=42)"
            ],
            "text/html": [
              "<style>#sk-container-id-2 {color: black;background-color: white;}#sk-container-id-2 pre{padding: 0;}#sk-container-id-2 div.sk-toggleable {background-color: white;}#sk-container-id-2 label.sk-toggleable__label {cursor: pointer;display: block;width: 100%;margin-bottom: 0;padding: 0.3em;box-sizing: border-box;text-align: center;}#sk-container-id-2 label.sk-toggleable__label-arrow:before {content: \"▸\";float: left;margin-right: 0.25em;color: #696969;}#sk-container-id-2 label.sk-toggleable__label-arrow:hover:before {color: black;}#sk-container-id-2 div.sk-estimator:hover label.sk-toggleable__label-arrow:before {color: black;}#sk-container-id-2 div.sk-toggleable__content {max-height: 0;max-width: 0;overflow: hidden;text-align: left;background-color: #f0f8ff;}#sk-container-id-2 div.sk-toggleable__content pre {margin: 0.2em;color: black;border-radius: 0.25em;background-color: #f0f8ff;}#sk-container-id-2 input.sk-toggleable__control:checked~div.sk-toggleable__content {max-height: 200px;max-width: 100%;overflow: auto;}#sk-container-id-2 input.sk-toggleable__control:checked~label.sk-toggleable__label-arrow:before {content: \"▾\";}#sk-container-id-2 div.sk-estimator input.sk-toggleable__control:checked~label.sk-toggleable__label {background-color: #d4ebff;}#sk-container-id-2 div.sk-label input.sk-toggleable__control:checked~label.sk-toggleable__label {background-color: #d4ebff;}#sk-container-id-2 input.sk-hidden--visually {border: 0;clip: rect(1px 1px 1px 1px);clip: rect(1px, 1px, 1px, 1px);height: 1px;margin: -1px;overflow: hidden;padding: 0;position: absolute;width: 1px;}#sk-container-id-2 div.sk-estimator {font-family: monospace;background-color: #f0f8ff;border: 1px dotted black;border-radius: 0.25em;box-sizing: border-box;margin-bottom: 0.5em;}#sk-container-id-2 div.sk-estimator:hover {background-color: #d4ebff;}#sk-container-id-2 div.sk-parallel-item::after {content: \"\";width: 100%;border-bottom: 1px solid gray;flex-grow: 1;}#sk-container-id-2 div.sk-label:hover label.sk-toggleable__label {background-color: #d4ebff;}#sk-container-id-2 div.sk-serial::before {content: \"\";position: absolute;border-left: 1px solid gray;box-sizing: border-box;top: 0;bottom: 0;left: 50%;z-index: 0;}#sk-container-id-2 div.sk-serial {display: flex;flex-direction: column;align-items: center;background-color: white;padding-right: 0.2em;padding-left: 0.2em;position: relative;}#sk-container-id-2 div.sk-item {position: relative;z-index: 1;}#sk-container-id-2 div.sk-parallel {display: flex;align-items: stretch;justify-content: center;background-color: white;position: relative;}#sk-container-id-2 div.sk-item::before, #sk-container-id-2 div.sk-parallel-item::before {content: \"\";position: absolute;border-left: 1px solid gray;box-sizing: border-box;top: 0;bottom: 0;left: 50%;z-index: -1;}#sk-container-id-2 div.sk-parallel-item {display: flex;flex-direction: column;z-index: 1;position: relative;background-color: white;}#sk-container-id-2 div.sk-parallel-item:first-child::after {align-self: flex-end;width: 50%;}#sk-container-id-2 div.sk-parallel-item:last-child::after {align-self: flex-start;width: 50%;}#sk-container-id-2 div.sk-parallel-item:only-child::after {width: 0;}#sk-container-id-2 div.sk-dashed-wrapped {border: 1px dashed gray;margin: 0 0.4em 0.5em 0.4em;box-sizing: border-box;padding-bottom: 0.4em;background-color: white;}#sk-container-id-2 div.sk-label label {font-family: monospace;font-weight: bold;display: inline-block;line-height: 1.2em;}#sk-container-id-2 div.sk-label-container {text-align: center;}#sk-container-id-2 div.sk-container {/* jupyter's `normalize.less` sets `[hidden] { display: none; }` but bootstrap.min.css set `[hidden] { display: none !important; }` so we also need the `!important` here to be able to override the default hidden behavior on the sphinx rendered scikit-learn.org. See: https://github.com/scikit-learn/scikit-learn/issues/21755 */display: inline-block !important;position: relative;}#sk-container-id-2 div.sk-text-repr-fallback {display: none;}</style><div id=\"sk-container-id-2\" class=\"sk-top-container\"><div class=\"sk-text-repr-fallback\"><pre>KMeans(n_clusters=3, random_state=42)</pre><b>In a Jupyter environment, please rerun this cell to show the HTML representation or trust the notebook. <br />On GitHub, the HTML representation is unable to render, please try loading this page with nbviewer.org.</b></div><div class=\"sk-container\" hidden><div class=\"sk-item\"><div class=\"sk-estimator sk-toggleable\"><input class=\"sk-toggleable__control sk-hidden--visually\" id=\"sk-estimator-id-2\" type=\"checkbox\" checked><label for=\"sk-estimator-id-2\" class=\"sk-toggleable__label sk-toggleable__label-arrow\">KMeans</label><div class=\"sk-toggleable__content\"><pre>KMeans(n_clusters=3, random_state=42)</pre></div></div></div></div></div>"
            ]
          },
          "metadata": {},
          "execution_count": 47
        }
      ]
    },
    {
      "cell_type": "code",
      "source": [
        "df_rfm['Cluster'] = model_kmeans.labels_\n",
        "df_rfm.head() "
      ],
      "metadata": {
        "colab": {
          "base_uri": "https://localhost:8080/",
          "height": 238
        },
        "id": "S1XGT-AfAXhw",
        "outputId": "d0aaa055-2464-4cb2-bc7b-4defd34a0ffc"
      },
      "execution_count": null,
      "outputs": [
        {
          "output_type": "execute_result",
          "data": {
            "text/plain": [
              "            Recency  Frequency  MonetaryValue  Cluster\n",
              "CustomerID                                            \n",
              "12346           326          2      154367.20        0\n",
              "12347             3        182        4310.00        1\n",
              "12348            76         31        1797.24        0\n",
              "12349            19         73        1757.55        1\n",
              "12350           311         17         334.40        2"
            ],
            "text/html": [
              "\n",
              "  <div id=\"df-38c08c70-961e-4970-837f-da4d594c3643\">\n",
              "    <div class=\"colab-df-container\">\n",
              "      <div>\n",
              "<style scoped>\n",
              "    .dataframe tbody tr th:only-of-type {\n",
              "        vertical-align: middle;\n",
              "    }\n",
              "\n",
              "    .dataframe tbody tr th {\n",
              "        vertical-align: top;\n",
              "    }\n",
              "\n",
              "    .dataframe thead th {\n",
              "        text-align: right;\n",
              "    }\n",
              "</style>\n",
              "<table border=\"1\" class=\"dataframe\">\n",
              "  <thead>\n",
              "    <tr style=\"text-align: right;\">\n",
              "      <th></th>\n",
              "      <th>Recency</th>\n",
              "      <th>Frequency</th>\n",
              "      <th>MonetaryValue</th>\n",
              "      <th>Cluster</th>\n",
              "    </tr>\n",
              "    <tr>\n",
              "      <th>CustomerID</th>\n",
              "      <th></th>\n",
              "      <th></th>\n",
              "      <th></th>\n",
              "      <th></th>\n",
              "    </tr>\n",
              "  </thead>\n",
              "  <tbody>\n",
              "    <tr>\n",
              "      <th>12346</th>\n",
              "      <td>326</td>\n",
              "      <td>2</td>\n",
              "      <td>154367.20</td>\n",
              "      <td>0</td>\n",
              "    </tr>\n",
              "    <tr>\n",
              "      <th>12347</th>\n",
              "      <td>3</td>\n",
              "      <td>182</td>\n",
              "      <td>4310.00</td>\n",
              "      <td>1</td>\n",
              "    </tr>\n",
              "    <tr>\n",
              "      <th>12348</th>\n",
              "      <td>76</td>\n",
              "      <td>31</td>\n",
              "      <td>1797.24</td>\n",
              "      <td>0</td>\n",
              "    </tr>\n",
              "    <tr>\n",
              "      <th>12349</th>\n",
              "      <td>19</td>\n",
              "      <td>73</td>\n",
              "      <td>1757.55</td>\n",
              "      <td>1</td>\n",
              "    </tr>\n",
              "    <tr>\n",
              "      <th>12350</th>\n",
              "      <td>311</td>\n",
              "      <td>17</td>\n",
              "      <td>334.40</td>\n",
              "      <td>2</td>\n",
              "    </tr>\n",
              "  </tbody>\n",
              "</table>\n",
              "</div>\n",
              "      <button class=\"colab-df-convert\" onclick=\"convertToInteractive('df-38c08c70-961e-4970-837f-da4d594c3643')\"\n",
              "              title=\"Convert this dataframe to an interactive table.\"\n",
              "              style=\"display:none;\">\n",
              "        \n",
              "  <svg xmlns=\"http://www.w3.org/2000/svg\" height=\"24px\"viewBox=\"0 0 24 24\"\n",
              "       width=\"24px\">\n",
              "    <path d=\"M0 0h24v24H0V0z\" fill=\"none\"/>\n",
              "    <path d=\"M18.56 5.44l.94 2.06.94-2.06 2.06-.94-2.06-.94-.94-2.06-.94 2.06-2.06.94zm-11 1L8.5 8.5l.94-2.06 2.06-.94-2.06-.94L8.5 2.5l-.94 2.06-2.06.94zm10 10l.94 2.06.94-2.06 2.06-.94-2.06-.94-.94-2.06-.94 2.06-2.06.94z\"/><path d=\"M17.41 7.96l-1.37-1.37c-.4-.4-.92-.59-1.43-.59-.52 0-1.04.2-1.43.59L10.3 9.45l-7.72 7.72c-.78.78-.78 2.05 0 2.83L4 21.41c.39.39.9.59 1.41.59.51 0 1.02-.2 1.41-.59l7.78-7.78 2.81-2.81c.8-.78.8-2.07 0-2.86zM5.41 20L4 18.59l7.72-7.72 1.47 1.35L5.41 20z\"/>\n",
              "  </svg>\n",
              "      </button>\n",
              "      \n",
              "  <style>\n",
              "    .colab-df-container {\n",
              "      display:flex;\n",
              "      flex-wrap:wrap;\n",
              "      gap: 12px;\n",
              "    }\n",
              "\n",
              "    .colab-df-convert {\n",
              "      background-color: #E8F0FE;\n",
              "      border: none;\n",
              "      border-radius: 50%;\n",
              "      cursor: pointer;\n",
              "      display: none;\n",
              "      fill: #1967D2;\n",
              "      height: 32px;\n",
              "      padding: 0 0 0 0;\n",
              "      width: 32px;\n",
              "    }\n",
              "\n",
              "    .colab-df-convert:hover {\n",
              "      background-color: #E2EBFA;\n",
              "      box-shadow: 0px 1px 2px rgba(60, 64, 67, 0.3), 0px 1px 3px 1px rgba(60, 64, 67, 0.15);\n",
              "      fill: #174EA6;\n",
              "    }\n",
              "\n",
              "    [theme=dark] .colab-df-convert {\n",
              "      background-color: #3B4455;\n",
              "      fill: #D2E3FC;\n",
              "    }\n",
              "\n",
              "    [theme=dark] .colab-df-convert:hover {\n",
              "      background-color: #434B5C;\n",
              "      box-shadow: 0px 1px 3px 1px rgba(0, 0, 0, 0.15);\n",
              "      filter: drop-shadow(0px 1px 2px rgba(0, 0, 0, 0.3));\n",
              "      fill: #FFFFFF;\n",
              "    }\n",
              "  </style>\n",
              "\n",
              "      <script>\n",
              "        const buttonEl =\n",
              "          document.querySelector('#df-38c08c70-961e-4970-837f-da4d594c3643 button.colab-df-convert');\n",
              "        buttonEl.style.display =\n",
              "          google.colab.kernel.accessAllowed ? 'block' : 'none';\n",
              "\n",
              "        async function convertToInteractive(key) {\n",
              "          const element = document.querySelector('#df-38c08c70-961e-4970-837f-da4d594c3643');\n",
              "          const dataTable =\n",
              "            await google.colab.kernel.invokeFunction('convertToInteractive',\n",
              "                                                     [key], {});\n",
              "          if (!dataTable) return;\n",
              "\n",
              "          const docLinkHtml = 'Like what you see? Visit the ' +\n",
              "            '<a target=\"_blank\" href=https://colab.research.google.com/notebooks/data_table.ipynb>data table notebook</a>'\n",
              "            + ' to learn more about interactive tables.';\n",
              "          element.innerHTML = '';\n",
              "          dataTable['output_type'] = 'display_data';\n",
              "          await google.colab.output.renderOutput(dataTable, element);\n",
              "          const docLink = document.createElement('div');\n",
              "          docLink.innerHTML = docLinkHtml;\n",
              "          element.appendChild(docLink);\n",
              "        }\n",
              "      </script>\n",
              "    </div>\n",
              "  </div>\n",
              "  "
            ]
          },
          "metadata": {},
          "execution_count": 50
        }
      ]
    },
    {
      "cell_type": "code",
      "source": [
        "df_rfm.groupby('Cluster').agg(\n",
        "    {\n",
        "        'Recency':'mean',\n",
        "        'Frequency':'mean',\n",
        "        'MonetaryValue':'mean'\n",
        "    }\n",
        ").round(2)"
      ],
      "metadata": {
        "colab": {
          "base_uri": "https://localhost:8080/",
          "height": 175
        },
        "id": "RjCgFhRoAc6X",
        "outputId": "53d0db45-fe16-469a-bafe-720a669b6109"
      },
      "execution_count": null,
      "outputs": [
        {
          "output_type": "execute_result",
          "data": {
            "text/plain": [
              "         Recency  Frequency  MonetaryValue\n",
              "Cluster                                   \n",
              "0          65.31      51.66        1056.25\n",
              "1          19.51     242.38        5982.42\n",
              "2         194.97      15.25         287.24"
            ],
            "text/html": [
              "\n",
              "  <div id=\"df-0cfe0982-2922-4380-911c-e73a1f9daab0\">\n",
              "    <div class=\"colab-df-container\">\n",
              "      <div>\n",
              "<style scoped>\n",
              "    .dataframe tbody tr th:only-of-type {\n",
              "        vertical-align: middle;\n",
              "    }\n",
              "\n",
              "    .dataframe tbody tr th {\n",
              "        vertical-align: top;\n",
              "    }\n",
              "\n",
              "    .dataframe thead th {\n",
              "        text-align: right;\n",
              "    }\n",
              "</style>\n",
              "<table border=\"1\" class=\"dataframe\">\n",
              "  <thead>\n",
              "    <tr style=\"text-align: right;\">\n",
              "      <th></th>\n",
              "      <th>Recency</th>\n",
              "      <th>Frequency</th>\n",
              "      <th>MonetaryValue</th>\n",
              "    </tr>\n",
              "    <tr>\n",
              "      <th>Cluster</th>\n",
              "      <th></th>\n",
              "      <th></th>\n",
              "      <th></th>\n",
              "    </tr>\n",
              "  </thead>\n",
              "  <tbody>\n",
              "    <tr>\n",
              "      <th>0</th>\n",
              "      <td>65.31</td>\n",
              "      <td>51.66</td>\n",
              "      <td>1056.25</td>\n",
              "    </tr>\n",
              "    <tr>\n",
              "      <th>1</th>\n",
              "      <td>19.51</td>\n",
              "      <td>242.38</td>\n",
              "      <td>5982.42</td>\n",
              "    </tr>\n",
              "    <tr>\n",
              "      <th>2</th>\n",
              "      <td>194.97</td>\n",
              "      <td>15.25</td>\n",
              "      <td>287.24</td>\n",
              "    </tr>\n",
              "  </tbody>\n",
              "</table>\n",
              "</div>\n",
              "      <button class=\"colab-df-convert\" onclick=\"convertToInteractive('df-0cfe0982-2922-4380-911c-e73a1f9daab0')\"\n",
              "              title=\"Convert this dataframe to an interactive table.\"\n",
              "              style=\"display:none;\">\n",
              "        \n",
              "  <svg xmlns=\"http://www.w3.org/2000/svg\" height=\"24px\"viewBox=\"0 0 24 24\"\n",
              "       width=\"24px\">\n",
              "    <path d=\"M0 0h24v24H0V0z\" fill=\"none\"/>\n",
              "    <path d=\"M18.56 5.44l.94 2.06.94-2.06 2.06-.94-2.06-.94-.94-2.06-.94 2.06-2.06.94zm-11 1L8.5 8.5l.94-2.06 2.06-.94-2.06-.94L8.5 2.5l-.94 2.06-2.06.94zm10 10l.94 2.06.94-2.06 2.06-.94-2.06-.94-.94-2.06-.94 2.06-2.06.94z\"/><path d=\"M17.41 7.96l-1.37-1.37c-.4-.4-.92-.59-1.43-.59-.52 0-1.04.2-1.43.59L10.3 9.45l-7.72 7.72c-.78.78-.78 2.05 0 2.83L4 21.41c.39.39.9.59 1.41.59.51 0 1.02-.2 1.41-.59l7.78-7.78 2.81-2.81c.8-.78.8-2.07 0-2.86zM5.41 20L4 18.59l7.72-7.72 1.47 1.35L5.41 20z\"/>\n",
              "  </svg>\n",
              "      </button>\n",
              "      \n",
              "  <style>\n",
              "    .colab-df-container {\n",
              "      display:flex;\n",
              "      flex-wrap:wrap;\n",
              "      gap: 12px;\n",
              "    }\n",
              "\n",
              "    .colab-df-convert {\n",
              "      background-color: #E8F0FE;\n",
              "      border: none;\n",
              "      border-radius: 50%;\n",
              "      cursor: pointer;\n",
              "      display: none;\n",
              "      fill: #1967D2;\n",
              "      height: 32px;\n",
              "      padding: 0 0 0 0;\n",
              "      width: 32px;\n",
              "    }\n",
              "\n",
              "    .colab-df-convert:hover {\n",
              "      background-color: #E2EBFA;\n",
              "      box-shadow: 0px 1px 2px rgba(60, 64, 67, 0.3), 0px 1px 3px 1px rgba(60, 64, 67, 0.15);\n",
              "      fill: #174EA6;\n",
              "    }\n",
              "\n",
              "    [theme=dark] .colab-df-convert {\n",
              "      background-color: #3B4455;\n",
              "      fill: #D2E3FC;\n",
              "    }\n",
              "\n",
              "    [theme=dark] .colab-df-convert:hover {\n",
              "      background-color: #434B5C;\n",
              "      box-shadow: 0px 1px 3px 1px rgba(0, 0, 0, 0.15);\n",
              "      filter: drop-shadow(0px 1px 2px rgba(0, 0, 0, 0.3));\n",
              "      fill: #FFFFFF;\n",
              "    }\n",
              "  </style>\n",
              "\n",
              "      <script>\n",
              "        const buttonEl =\n",
              "          document.querySelector('#df-0cfe0982-2922-4380-911c-e73a1f9daab0 button.colab-df-convert');\n",
              "        buttonEl.style.display =\n",
              "          google.colab.kernel.accessAllowed ? 'block' : 'none';\n",
              "\n",
              "        async function convertToInteractive(key) {\n",
              "          const element = document.querySelector('#df-0cfe0982-2922-4380-911c-e73a1f9daab0');\n",
              "          const dataTable =\n",
              "            await google.colab.kernel.invokeFunction('convertToInteractive',\n",
              "                                                     [key], {});\n",
              "          if (!dataTable) return;\n",
              "\n",
              "          const docLinkHtml = 'Like what you see? Visit the ' +\n",
              "            '<a target=\"_blank\" href=https://colab.research.google.com/notebooks/data_table.ipynb>data table notebook</a>'\n",
              "            + ' to learn more about interactive tables.';\n",
              "          element.innerHTML = '';\n",
              "          dataTable['output_type'] = 'display_data';\n",
              "          await google.colab.output.renderOutput(dataTable, element);\n",
              "          const docLink = document.createElement('div');\n",
              "          docLink.innerHTML = docLinkHtml;\n",
              "          element.appendChild(docLink);\n",
              "        }\n",
              "      </script>\n",
              "    </div>\n",
              "  </div>\n",
              "  "
            ]
          },
          "metadata": {},
          "execution_count": 51
        }
      ]
    },
    {
      "cell_type": "markdown",
      "source": [
        "Dựa trên bảng đánh giá, ta có thể đưa ra một số nhận định về các cụm được phân chia bằng phương pháp K-means Clustering như sau:\n",
        "* Cluster 1 (Recency rất thấp, Frequency cao, MonetaryValue rất cao): đây có thể là những khách hàng thường xuyên mua hàng, chi tiêu nhiều tiền, và mới đây vừa mua hàng gần đây.\n",
        "\n",
        "* Cluster 0 (Recency trung bình, Frequency trung bình, MonetaryValue trung bình): đây có thể là những khách hàng trung thành, mua hàng thường xuyên, và chi tiêu ở mức trung bình.\n",
        "\n",
        "* Cluster 2 (Recency cao, Frequency thấp, MonetaryValue thấp): đây có thể là những khách hàng ít mua hàng, chi tiêu ít, và đã mua hàng cách đây khá lâu.\n",
        "\n",
        "=> Một số giải pháp nhắm mục tiêu khách hàng hiệu quả:\n",
        "\n",
        "**Cluster 1:**\n",
        "* Chiến lược giữ chân khách hàng: Do đây là những khách hàng thường xuyên mua hàng, chi tiêu nhiều tiền và mới đây vừa mua hàng gần đây, doanh nghiệp có thể tập trung vào việc giữ chân khách hàng này bằng cách cung cấp dịch vụ chất lượng cao, giải quyết các vấn đề của khách hàng nhanh chóng và hiệu quả, và tăng cường quan hệ khách hàng.\n",
        "\n",
        "* Chiến lược tăng doanh số bán hàng: Do đây là khách hàng thường xuyên mua hàng và chi tiêu nhiều tiền, doanh nghiệp có thể đưa ra các chương trình khuyến mãi, giảm giá và ưu đãi hấp dẫn để tăng doanh số bán hàng và lợi nhuận.\n",
        "\n",
        "**Cluster 0:**\n",
        "* Chiến lược tăng tính trung thành của khách hàng: Do đây là những khách hàng trung thành, mua hàng thường xuyên và chi tiêu ở mức trung bình, doanh nghiệp có thể tăng tính trung thành của khách hàng bằng cách tăng cường quan hệ khách hàng, cung cấp các sản phẩm và dịch vụ chất lượng cao và đáp ứng nhu cầu của khách hàng.\n",
        "\n",
        "* Chiến lược tăng doanh số bán hàng: Do đây là những khách hàng mua hàng thường xuyên, doanh nghiệp có thể tăng doanh số bán hàng bằng cách đưa ra các chương trình khuyến mãi, giảm giá và ưu đãi hấp dẫn theo từng đợt để thu hút khách hàng mua hàng thêm.\n",
        "\n",
        "**Cluster 2:**\n",
        "* Chiến lược tìm kiếm khách hàng mới: Do đây là những khách hàng ít mua hàng, chi tiêu ít và đã mua hàng cách đây khá lâu, doanh nghiệp có thể tìm kiếm khách hàng mới và tập trung vào việc thu hút và giữ chân khách hàng mới bằng cách cung cấp các sản phẩm và dịch vụ chất lượng cao, đáp ứng nhu cầu của khách hàng.\n",
        "\n",
        "* Chiến lược tăng doanh số bán hàng: Do đây là những khách hàng ít mua hàng, doanh nghiệp có thể tăng doanh số bán hàng bằng cách đưa ra các chương trình khuyến mãi, giảm giá và ưu đãi hấp dẫn để thu hút khách hàng mua hàng thêm."
      ],
      "metadata": {
        "id": "gA-NBO2zLX17"
      }
    },
    {
      "cell_type": "markdown",
      "source": [
        "### **5.2. Hierarchical Clustering**"
      ],
      "metadata": {
        "id": "1zkMS0Mke4TQ"
      }
    },
    {
      "cell_type": "code",
      "source": [
        "# Chọn số cụm bằng Dendrogram và Silhouette score\n",
        "from sklearn.cluster import AgglomerativeClustering\n",
        "from sklearn.metrics import silhouette_score\n",
        "from scipy.cluster.hierarchy import dendrogram, linkage\n",
        "\n",
        "# Tính toán ma trận liên kết và vẽ Dendrogram\n",
        "plt.figure(figsize=(10, 7))\n",
        "plt.title(\"Dendrogram\")\n",
        "dendrogram(linkage(df_new, method='ward'))\n",
        "plt.show()\n",
        "\n",
        "# Tính silhouette score với các số lượng cụm khác nhau\n",
        "for n_clusters in range(2, 11):\n",
        "    model_hc = AgglomerativeClustering(n_clusters=n_clusters, linkage='ward')\n",
        "    labels = model_hc.fit_predict(df_new)\n",
        "    silhouette_avg = silhouette_score(df_new, labels)\n",
        "    print(\"Silhouette score for {} clusters: {}\".format(n_clusters, silhouette_avg))"
      ],
      "metadata": {
        "colab": {
          "base_uri": "https://localhost:8080/",
          "height": 782
        },
        "id": "kAFqXNWHfBFp",
        "outputId": "b5656ad7-6029-4ed8-dfdd-2b02da15bf93"
      },
      "execution_count": null,
      "outputs": [
        {
          "output_type": "display_data",
          "data": {
            "text/plain": [
              "<Figure size 1000x700 with 1 Axes>"
            ],
            "image/png": "[encoded data removed]"
          },
          "metadata": {}
        },
        {
          "output_type": "stream",
          "name": "stdout",
          "text": [
            "Silhouette score for 2 clusters: 0.3512744288787062\n",
            "Silhouette score for 3 clusters: 0.2514903825877441\n",
            "Silhouette score for 4 clusters: 0.24437549513960227\n",
            "Silhouette score for 5 clusters: 0.23963132919854302\n",
            "Silhouette score for 6 clusters: 0.1954610876902972\n",
            "Silhouette score for 7 clusters: 0.18508341298943473\n",
            "Silhouette score for 8 clusters: 0.19130540980692892\n",
            "Silhouette score for 9 clusters: 0.18002504414449552\n",
            "Silhouette score for 10 clusters: 0.18132103670687533\n"
          ]
        }
      ]
    },
    {
      "cell_type": "markdown",
      "source": [
        "Dựa trên kết quả silhouette score cho từng số lượng cụm, ta có thể chọn số lượng cụm tối ưu bằng cách chọn số lượng cụm tương ứng với silhouette score lớn nhất. Trong trường hợp này, silhouette score lớn nhất là 0.351 cho số lượng cụm là 2."
      ],
      "metadata": {
        "id": "feRHOR0AiXeK"
      }
    },
    {
      "cell_type": "code",
      "source": [
        "model_hc= AgglomerativeClustering(n_clusters=2)\n",
        "model_hc.fit(df_new)"
      ],
      "metadata": {
        "colab": {
          "base_uri": "https://localhost:8080/",
          "height": 75
        },
        "id": "bK2NxntRFEbg",
        "outputId": "d135bd8f-3e4a-4115-c4ad-64815887ca25"
      },
      "execution_count": null,
      "outputs": [
        {
          "output_type": "execute_result",
          "data": {
            "text/plain": [
              "AgglomerativeClustering()"
            ],
            "text/html": [
              "<style>#sk-container-id-3 {color: black;background-color: white;}#sk-container-id-3 pre{padding: 0;}#sk-container-id-3 div.sk-toggleable {background-color: white;}#sk-container-id-3 label.sk-toggleable__label {cursor: pointer;display: block;width: 100%;margin-bottom: 0;padding: 0.3em;box-sizing: border-box;text-align: center;}#sk-container-id-3 label.sk-toggleable__label-arrow:before {content: \"▸\";float: left;margin-right: 0.25em;color: #696969;}#sk-container-id-3 label.sk-toggleable__label-arrow:hover:before {color: black;}#sk-container-id-3 div.sk-estimator:hover label.sk-toggleable__label-arrow:before {color: black;}#sk-container-id-3 div.sk-toggleable__content {max-height: 0;max-width: 0;overflow: hidden;text-align: left;background-color: #f0f8ff;}#sk-container-id-3 div.sk-toggleable__content pre {margin: 0.2em;color: black;border-radius: 0.25em;background-color: #f0f8ff;}#sk-container-id-3 input.sk-toggleable__control:checked~div.sk-toggleable__content {max-height: 200px;max-width: 100%;overflow: auto;}#sk-container-id-3 input.sk-toggleable__control:checked~label.sk-toggleable__label-arrow:before {content: \"▾\";}#sk-container-id-3 div.sk-estimator input.sk-toggleable__control:checked~label.sk-toggleable__label {background-color: #d4ebff;}#sk-container-id-3 div.sk-label input.sk-toggleable__control:checked~label.sk-toggleable__label {background-color: #d4ebff;}#sk-container-id-3 input.sk-hidden--visually {border: 0;clip: rect(1px 1px 1px 1px);clip: rect(1px, 1px, 1px, 1px);height: 1px;margin: -1px;overflow: hidden;padding: 0;position: absolute;width: 1px;}#sk-container-id-3 div.sk-estimator {font-family: monospace;background-color: #f0f8ff;border: 1px dotted black;border-radius: 0.25em;box-sizing: border-box;margin-bottom: 0.5em;}#sk-container-id-3 div.sk-estimator:hover {background-color: #d4ebff;}#sk-container-id-3 div.sk-parallel-item::after {content: \"\";width: 100%;border-bottom: 1px solid gray;flex-grow: 1;}#sk-container-id-3 div.sk-label:hover label.sk-toggleable__label {background-color: #d4ebff;}#sk-container-id-3 div.sk-serial::before {content: \"\";position: absolute;border-left: 1px solid gray;box-sizing: border-box;top: 0;bottom: 0;left: 50%;z-index: 0;}#sk-container-id-3 div.sk-serial {display: flex;flex-direction: column;align-items: center;background-color: white;padding-right: 0.2em;padding-left: 0.2em;position: relative;}#sk-container-id-3 div.sk-item {position: relative;z-index: 1;}#sk-container-id-3 div.sk-parallel {display: flex;align-items: stretch;justify-content: center;background-color: white;position: relative;}#sk-container-id-3 div.sk-item::before, #sk-container-id-3 div.sk-parallel-item::before {content: \"\";position: absolute;border-left: 1px solid gray;box-sizing: border-box;top: 0;bottom: 0;left: 50%;z-index: -1;}#sk-container-id-3 div.sk-parallel-item {display: flex;flex-direction: column;z-index: 1;position: relative;background-color: white;}#sk-container-id-3 div.sk-parallel-item:first-child::after {align-self: flex-end;width: 50%;}#sk-container-id-3 div.sk-parallel-item:last-child::after {align-self: flex-start;width: 50%;}#sk-container-id-3 div.sk-parallel-item:only-child::after {width: 0;}#sk-container-id-3 div.sk-dashed-wrapped {border: 1px dashed gray;margin: 0 0.4em 0.5em 0.4em;box-sizing: border-box;padding-bottom: 0.4em;background-color: white;}#sk-container-id-3 div.sk-label label {font-family: monospace;font-weight: bold;display: inline-block;line-height: 1.2em;}#sk-container-id-3 div.sk-label-container {text-align: center;}#sk-container-id-3 div.sk-container {/* jupyter's `normalize.less` sets `[hidden] { display: none; }` but bootstrap.min.css set `[hidden] { display: none !important; }` so we also need the `!important` here to be able to override the default hidden behavior on the sphinx rendered scikit-learn.org. See: https://github.com/scikit-learn/scikit-learn/issues/21755 */display: inline-block !important;position: relative;}#sk-container-id-3 div.sk-text-repr-fallback {display: none;}</style><div id=\"sk-container-id-3\" class=\"sk-top-container\"><div class=\"sk-text-repr-fallback\"><pre>AgglomerativeClustering()</pre><b>In a Jupyter environment, please rerun this cell to show the HTML representation or trust the notebook. <br />On GitHub, the HTML representation is unable to render, please try loading this page with nbviewer.org.</b></div><div class=\"sk-container\" hidden><div class=\"sk-item\"><div class=\"sk-estimator sk-toggleable\"><input class=\"sk-toggleable__control sk-hidden--visually\" id=\"sk-estimator-id-3\" type=\"checkbox\" checked><label for=\"sk-estimator-id-3\" class=\"sk-toggleable__label sk-toggleable__label-arrow\">AgglomerativeClustering</label><div class=\"sk-toggleable__content\"><pre>AgglomerativeClustering()</pre></div></div></div></div></div>"
            ]
          },
          "metadata": {},
          "execution_count": 55
        }
      ]
    },
    {
      "cell_type": "code",
      "source": [
        "df_rfm['Cluster'] = model_hc.labels_\n",
        "df_rfm.head()"
      ],
      "metadata": {
        "colab": {
          "base_uri": "https://localhost:8080/",
          "height": 238
        },
        "id": "XeGxjTABKamX",
        "outputId": "12005246-c589-44dd-a8cd-f8d401cf3b9d"
      },
      "execution_count": null,
      "outputs": [
        {
          "output_type": "execute_result",
          "data": {
            "text/plain": [
              "            Recency  Frequency  MonetaryValue  Cluster\n",
              "CustomerID                                            \n",
              "12346           326          2      154367.20        1\n",
              "12347             3        182        4310.00        0\n",
              "12348            76         31        1797.24        0\n",
              "12349            19         73        1757.55        0\n",
              "12350           311         17         334.40        1"
            ],
            "text/html": [
              "\n",
              "  <div id=\"df-f8291c13-08ac-4017-b7f6-610c6848d535\">\n",
              "    <div class=\"colab-df-container\">\n",
              "      <div>\n",
              "<style scoped>\n",
              "    .dataframe tbody tr th:only-of-type {\n",
              "        vertical-align: middle;\n",
              "    }\n",
              "\n",
              "    .dataframe tbody tr th {\n",
              "        vertical-align: top;\n",
              "    }\n",
              "\n",
              "    .dataframe thead th {\n",
              "        text-align: right;\n",
              "    }\n",
              "</style>\n",
              "<table border=\"1\" class=\"dataframe\">\n",
              "  <thead>\n",
              "    <tr style=\"text-align: right;\">\n",
              "      <th></th>\n",
              "      <th>Recency</th>\n",
              "      <th>Frequency</th>\n",
              "      <th>MonetaryValue</th>\n",
              "      <th>Cluster</th>\n",
              "    </tr>\n",
              "    <tr>\n",
              "      <th>CustomerID</th>\n",
              "      <th></th>\n",
              "      <th></th>\n",
              "      <th></th>\n",
              "      <th></th>\n",
              "    </tr>\n",
              "  </thead>\n",
              "  <tbody>\n",
              "    <tr>\n",
              "      <th>12346</th>\n",
              "      <td>326</td>\n",
              "      <td>2</td>\n",
              "      <td>154367.20</td>\n",
              "      <td>1</td>\n",
              "    </tr>\n",
              "    <tr>\n",
              "      <th>12347</th>\n",
              "      <td>3</td>\n",
              "      <td>182</td>\n",
              "      <td>4310.00</td>\n",
              "      <td>0</td>\n",
              "    </tr>\n",
              "    <tr>\n",
              "      <th>12348</th>\n",
              "      <td>76</td>\n",
              "      <td>31</td>\n",
              "      <td>1797.24</td>\n",
              "      <td>0</td>\n",
              "    </tr>\n",
              "    <tr>\n",
              "      <th>12349</th>\n",
              "      <td>19</td>\n",
              "      <td>73</td>\n",
              "      <td>1757.55</td>\n",
              "      <td>0</td>\n",
              "    </tr>\n",
              "    <tr>\n",
              "      <th>12350</th>\n",
              "      <td>311</td>\n",
              "      <td>17</td>\n",
              "      <td>334.40</td>\n",
              "      <td>1</td>\n",
              "    </tr>\n",
              "  </tbody>\n",
              "</table>\n",
              "</div>\n",
              "      <button class=\"colab-df-convert\" onclick=\"convertToInteractive('df-f8291c13-08ac-4017-b7f6-610c6848d535')\"\n",
              "              title=\"Convert this dataframe to an interactive table.\"\n",
              "              style=\"display:none;\">\n",
              "        \n",
              "  <svg xmlns=\"http://www.w3.org/2000/svg\" height=\"24px\"viewBox=\"0 0 24 24\"\n",
              "       width=\"24px\">\n",
              "    <path d=\"M0 0h24v24H0V0z\" fill=\"none\"/>\n",
              "    <path d=\"M18.56 5.44l.94 2.06.94-2.06 2.06-.94-2.06-.94-.94-2.06-.94 2.06-2.06.94zm-11 1L8.5 8.5l.94-2.06 2.06-.94-2.06-.94L8.5 2.5l-.94 2.06-2.06.94zm10 10l.94 2.06.94-2.06 2.06-.94-2.06-.94-.94-2.06-.94 2.06-2.06.94z\"/><path d=\"M17.41 7.96l-1.37-1.37c-.4-.4-.92-.59-1.43-.59-.52 0-1.04.2-1.43.59L10.3 9.45l-7.72 7.72c-.78.78-.78 2.05 0 2.83L4 21.41c.39.39.9.59 1.41.59.51 0 1.02-.2 1.41-.59l7.78-7.78 2.81-2.81c.8-.78.8-2.07 0-2.86zM5.41 20L4 18.59l7.72-7.72 1.47 1.35L5.41 20z\"/>\n",
              "  </svg>\n",
              "      </button>\n",
              "      \n",
              "  <style>\n",
              "    .colab-df-container {\n",
              "      display:flex;\n",
              "      flex-wrap:wrap;\n",
              "      gap: 12px;\n",
              "    }\n",
              "\n",
              "    .colab-df-convert {\n",
              "      background-color: #E8F0FE;\n",
              "      border: none;\n",
              "      border-radius: 50%;\n",
              "      cursor: pointer;\n",
              "      display: none;\n",
              "      fill: #1967D2;\n",
              "      height: 32px;\n",
              "      padding: 0 0 0 0;\n",
              "      width: 32px;\n",
              "    }\n",
              "\n",
              "    .colab-df-convert:hover {\n",
              "      background-color: #E2EBFA;\n",
              "      box-shadow: 0px 1px 2px rgba(60, 64, 67, 0.3), 0px 1px 3px 1px rgba(60, 64, 67, 0.15);\n",
              "      fill: #174EA6;\n",
              "    }\n",
              "\n",
              "    [theme=dark] .colab-df-convert {\n",
              "      background-color: #3B4455;\n",
              "      fill: #D2E3FC;\n",
              "    }\n",
              "\n",
              "    [theme=dark] .colab-df-convert:hover {\n",
              "      background-color: #434B5C;\n",
              "      box-shadow: 0px 1px 3px 1px rgba(0, 0, 0, 0.15);\n",
              "      filter: drop-shadow(0px 1px 2px rgba(0, 0, 0, 0.3));\n",
              "      fill: #FFFFFF;\n",
              "    }\n",
              "  </style>\n",
              "\n",
              "      <script>\n",
              "        const buttonEl =\n",
              "          document.querySelector('#df-f8291c13-08ac-4017-b7f6-610c6848d535 button.colab-df-convert');\n",
              "        buttonEl.style.display =\n",
              "          google.colab.kernel.accessAllowed ? 'block' : 'none';\n",
              "\n",
              "        async function convertToInteractive(key) {\n",
              "          const element = document.querySelector('#df-f8291c13-08ac-4017-b7f6-610c6848d535');\n",
              "          const dataTable =\n",
              "            await google.colab.kernel.invokeFunction('convertToInteractive',\n",
              "                                                     [key], {});\n",
              "          if (!dataTable) return;\n",
              "\n",
              "          const docLinkHtml = 'Like what you see? Visit the ' +\n",
              "            '<a target=\"_blank\" href=https://colab.research.google.com/notebooks/data_table.ipynb>data table notebook</a>'\n",
              "            + ' to learn more about interactive tables.';\n",
              "          element.innerHTML = '';\n",
              "          dataTable['output_type'] = 'display_data';\n",
              "          await google.colab.output.renderOutput(dataTable, element);\n",
              "          const docLink = document.createElement('div');\n",
              "          docLink.innerHTML = docLinkHtml;\n",
              "          element.appendChild(docLink);\n",
              "        }\n",
              "      </script>\n",
              "    </div>\n",
              "  </div>\n",
              "  "
            ]
          },
          "metadata": {},
          "execution_count": 56
        }
      ]
    },
    {
      "cell_type": "code",
      "source": [
        "df_rfm.groupby('Cluster').agg(\n",
        "    {\n",
        "        'Recency':'mean',\n",
        "        'Frequency':'mean',\n",
        "        'MonetaryValue':'mean'\n",
        "    }\n",
        ").round(2)"
      ],
      "metadata": {
        "colab": {
          "base_uri": "https://localhost:8080/",
          "height": 143
        },
        "id": "o_Uc5W-sKpt6",
        "outputId": "bd778b3e-87ed-4833-8ef3-b0d755c27287"
      },
      "execution_count": null,
      "outputs": [
        {
          "output_type": "execute_result",
          "data": {
            "text/plain": [
              "         Recency  Frequency  MonetaryValue\n",
              "Cluster                                   \n",
              "0          47.84     160.19        3603.80\n",
              "1         139.69      22.44         679.17"
            ],
            "text/html": [
              "\n",
              "  <div id=\"df-eafe4fe7-f601-43f2-b910-2ad893619219\">\n",
              "    <div class=\"colab-df-container\">\n",
              "      <div>\n",
              "<style scoped>\n",
              "    .dataframe tbody tr th:only-of-type {\n",
              "        vertical-align: middle;\n",
              "    }\n",
              "\n",
              "    .dataframe tbody tr th {\n",
              "        vertical-align: top;\n",
              "    }\n",
              "\n",
              "    .dataframe thead th {\n",
              "        text-align: right;\n",
              "    }\n",
              "</style>\n",
              "<table border=\"1\" class=\"dataframe\">\n",
              "  <thead>\n",
              "    <tr style=\"text-align: right;\">\n",
              "      <th></th>\n",
              "      <th>Recency</th>\n",
              "      <th>Frequency</th>\n",
              "      <th>MonetaryValue</th>\n",
              "    </tr>\n",
              "    <tr>\n",
              "      <th>Cluster</th>\n",
              "      <th></th>\n",
              "      <th></th>\n",
              "      <th></th>\n",
              "    </tr>\n",
              "  </thead>\n",
              "  <tbody>\n",
              "    <tr>\n",
              "      <th>0</th>\n",
              "      <td>47.84</td>\n",
              "      <td>160.19</td>\n",
              "      <td>3603.80</td>\n",
              "    </tr>\n",
              "    <tr>\n",
              "      <th>1</th>\n",
              "      <td>139.69</td>\n",
              "      <td>22.44</td>\n",
              "      <td>679.17</td>\n",
              "    </tr>\n",
              "  </tbody>\n",
              "</table>\n",
              "</div>\n",
              "      <button class=\"colab-df-convert\" onclick=\"convertToInteractive('df-eafe4fe7-f601-43f2-b910-2ad893619219')\"\n",
              "              title=\"Convert this dataframe to an interactive table.\"\n",
              "              style=\"display:none;\">\n",
              "        \n",
              "  <svg xmlns=\"http://www.w3.org/2000/svg\" height=\"24px\"viewBox=\"0 0 24 24\"\n",
              "       width=\"24px\">\n",
              "    <path d=\"M0 0h24v24H0V0z\" fill=\"none\"/>\n",
              "    <path d=\"M18.56 5.44l.94 2.06.94-2.06 2.06-.94-2.06-.94-.94-2.06-.94 2.06-2.06.94zm-11 1L8.5 8.5l.94-2.06 2.06-.94-2.06-.94L8.5 2.5l-.94 2.06-2.06.94zm10 10l.94 2.06.94-2.06 2.06-.94-2.06-.94-.94-2.06-.94 2.06-2.06.94z\"/><path d=\"M17.41 7.96l-1.37-1.37c-.4-.4-.92-.59-1.43-.59-.52 0-1.04.2-1.43.59L10.3 9.45l-7.72 7.72c-.78.78-.78 2.05 0 2.83L4 21.41c.39.39.9.59 1.41.59.51 0 1.02-.2 1.41-.59l7.78-7.78 2.81-2.81c.8-.78.8-2.07 0-2.86zM5.41 20L4 18.59l7.72-7.72 1.47 1.35L5.41 20z\"/>\n",
              "  </svg>\n",
              "      </button>\n",
              "      \n",
              "  <style>\n",
              "    .colab-df-container {\n",
              "      display:flex;\n",
              "      flex-wrap:wrap;\n",
              "      gap: 12px;\n",
              "    }\n",
              "\n",
              "    .colab-df-convert {\n",
              "      background-color: #E8F0FE;\n",
              "      border: none;\n",
              "      border-radius: 50%;\n",
              "      cursor: pointer;\n",
              "      display: none;\n",
              "      fill: #1967D2;\n",
              "      height: 32px;\n",
              "      padding: 0 0 0 0;\n",
              "      width: 32px;\n",
              "    }\n",
              "\n",
              "    .colab-df-convert:hover {\n",
              "      background-color: #E2EBFA;\n",
              "      box-shadow: 0px 1px 2px rgba(60, 64, 67, 0.3), 0px 1px 3px 1px rgba(60, 64, 67, 0.15);\n",
              "      fill: #174EA6;\n",
              "    }\n",
              "\n",
              "    [theme=dark] .colab-df-convert {\n",
              "      background-color: #3B4455;\n",
              "      fill: #D2E3FC;\n",
              "    }\n",
              "\n",
              "    [theme=dark] .colab-df-convert:hover {\n",
              "      background-color: #434B5C;\n",
              "      box-shadow: 0px 1px 3px 1px rgba(0, 0, 0, 0.15);\n",
              "      filter: drop-shadow(0px 1px 2px rgba(0, 0, 0, 0.3));\n",
              "      fill: #FFFFFF;\n",
              "    }\n",
              "  </style>\n",
              "\n",
              "      <script>\n",
              "        const buttonEl =\n",
              "          document.querySelector('#df-eafe4fe7-f601-43f2-b910-2ad893619219 button.colab-df-convert');\n",
              "        buttonEl.style.display =\n",
              "          google.colab.kernel.accessAllowed ? 'block' : 'none';\n",
              "\n",
              "        async function convertToInteractive(key) {\n",
              "          const element = document.querySelector('#df-eafe4fe7-f601-43f2-b910-2ad893619219');\n",
              "          const dataTable =\n",
              "            await google.colab.kernel.invokeFunction('convertToInteractive',\n",
              "                                                     [key], {});\n",
              "          if (!dataTable) return;\n",
              "\n",
              "          const docLinkHtml = 'Like what you see? Visit the ' +\n",
              "            '<a target=\"_blank\" href=https://colab.research.google.com/notebooks/data_table.ipynb>data table notebook</a>'\n",
              "            + ' to learn more about interactive tables.';\n",
              "          element.innerHTML = '';\n",
              "          dataTable['output_type'] = 'display_data';\n",
              "          await google.colab.output.renderOutput(dataTable, element);\n",
              "          const docLink = document.createElement('div');\n",
              "          docLink.innerHTML = docLinkHtml;\n",
              "          element.appendChild(docLink);\n",
              "        }\n",
              "      </script>\n",
              "    </div>\n",
              "  </div>\n",
              "  "
            ]
          },
          "metadata": {},
          "execution_count": 57
        }
      ]
    },
    {
      "cell_type": "markdown",
      "source": [
        "Ta có thể đưa ra một số nhận xét như sau:\n",
        "\n",
        "* Cụm 0 có giá trị Recency, Frequency và MonetaryValue trung bình cao hơn rất nhiều so với cụm 1. Điều này có thể cho thấy các khách hàng trong cụm 0 là những khách hàng thường xuyên mua hàng với số lần mua và giá trị đơn hàng trung bình cao hơn.\n",
        "* Cụm 1 có giá trị Recency trung bình cao hơn so với cụm 0, cho thấy các khách hàng trong cụm 1 không mua hàng thường xuyên nhưng gần đây vẫn có hoạt động mua hàng.\n",
        "\n",
        "=> Một số giải pháp nhắm mục tiêu khách hàng hiệu quả:\n",
        "\n",
        "**Cụm 0:**\n",
        "* Chiến lược tập trung: Do đây là nhóm khách hàng thường xuyên mua hàng với số lần mua và giá trị đơn hàng trung bình cao hơn, doanh nghiệp có thể tập trung vào việc phục vụ và giữ chân khách hàng này bằng cách cung cấp dịch vụ chất lượng cao, giải quyết các vấn đề của khách hàng nhanh chóng và hiệu quả, và tăng cường quan hệ khách hàng.\n",
        "\n",
        "* Chiến lược đa dạng hóa sản phẩm hoặc dịch vụ: Do khách hàng trong cụm 0 mua hàng thường xuyên và giá trị đơn hàng trung bình cao hơn, doanh nghiệp có thể đa dạng hóa sản phẩm hoặc dịch vụ để đáp ứng nhu cầu và mong muốn của khách hàng này, từ đó tăng doanh số bán hàng và lợi nhuận.\n",
        "\n",
        "**Cụm 1:**\n",
        "\n",
        "* Chiến lược khuyến khích mua hàng: Do đây là nhóm khách hàng không mua hàng thường xuyên, doanh nghiệp có thể tập trung vào việc khuyến khích khách hàng mua hàng thường xuyên hơn bằng cách cung cấp các chương trình khuyến mãi, giảm giá và ưu đãi hấp dẫn. Đồng thời, doanh nghiệp cũng nên đảm bảo rằng sản phẩm hoặc dịch vụ được cung cấp đáp ứng nhu cầu và mong muốn của khách hàng.\n",
        "\n",
        "* Chiến lược tìm kiếm khách hàng mới: Do khách hàng trong cụm 1 có giá trị Recency trung bình cao hơn so với cụm 0, doanh nghiệp có thể tìm kiếm khách hàng mới và tập trung vào việc thu hút và giữ chân khách hàng mới bằng cách cung cấp các sản phẩm và dịch vụ chất lượng cao, giải quyết các vấn đề của khách hàng nhanh chóng và hiệu quả, và tăng cường quan hệ khách hàng."
      ],
      "metadata": {
        "id": "rvlvfBC_LLsD"
      }
    }
  ]
}