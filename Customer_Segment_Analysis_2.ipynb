{
  "nbformat": 4,
  "nbformat_minor": 0,
  "metadata": {
    "colab": {
      "provenance": []
    },
    "kernelspec": {
      "name": "python3",
      "display_name": "Python 3"
    },
    "language_info": {
      "name": "python"
    }
  },
  "cells": [
    {
      "cell_type": "markdown",
      "source": [
        "## **1. Introduction**"
      ],
      "metadata": {
        "id": "lo4Ma9EsXy80"
      }
    },
    {
      "cell_type": "markdown",
      "source": [
        "Phân khúc khách hàng là việc tìm và lựa chọn nhóm khách hàng mà doanh nghiệp, tổ chức có khẳ năng thỏa mãn nhu cầu tốt hơn đối thủ cạnh tranh.\n",
        "\n",
        "Mục đích: Để lựa chọn khách hàng phù hợp và phục vụ một cách tốt nhất: Tạo lợi thế cạnh tranh với các đối thủ trên thị trường, thấu hiểu khách hàng và khẳng định thương hiệu\n",
        "\n",
        "Cách để phân khúc khách hàng mà các doanh nghiệp hiện nay đang thực hiện: dựa vào RFM\n",
        "\n",
        "* Recency (R): Thời gian giao dịch cuối cùng.\n",
        "\n",
        "* Frequency (F): Tổng số lần giao dịch chi tiêu.\n",
        "\n",
        "* Monetary value (M): Tổng só tiền giao dịch chi tiêu.\n"
      ],
      "metadata": {
        "id": "WAhEQO5mj5Xq"
      }
    },
    {
      "cell_type": "markdown",
      "source": [
        "## **2. Data**"
      ],
      "metadata": {
        "id": "kSryRYpPZRXn"
      }
    },
    {
      "cell_type": "code",
      "execution_count": 1,
      "metadata": {
        "id": "FuD2B8zEinLB"
      },
      "outputs": [],
      "source": [
        "import pandas as pd\n",
        "import numpy as np\n",
        "import matplotlib.pyplot as plt\n",
        "import seaborn as sns"
      ]
    },
    {
      "cell_type": "code",
      "source": [
        "from google.colab import drive\n",
        "drive.mount('/content/drive')"
      ],
      "metadata": {
        "colab": {
          "base_uri": "https://localhost:8080/"
        },
        "id": "MhnncyWh6KnC",
        "outputId": "8761d369-3d44-4f8c-b67c-33aabf8719a2"
      },
      "execution_count": 2,
      "outputs": [
        {
          "output_type": "stream",
          "name": "stdout",
          "text": [
            "Mounted at /content/drive\n"
          ]
        }
      ]
    },
    {
      "cell_type": "code",
      "source": [
        "!pip install gdown"
      ],
      "metadata": {
        "colab": {
          "base_uri": "https://localhost:8080/"
        },
        "id": "BKSlprIf6Ohc",
        "outputId": "0a0556a1-3346-4dcb-bfe6-fc0054738aab"
      },
      "execution_count": 3,
      "outputs": [
        {
          "output_type": "stream",
          "name": "stdout",
          "text": [
            "Looking in indexes: https://pypi.org/simple, https://us-python.pkg.dev/colab-wheels/public/simple/\n",
            "Requirement already satisfied: gdown in /usr/local/lib/python3.10/dist-packages (4.6.6)\n",
            "Requirement already satisfied: filelock in /usr/local/lib/python3.10/dist-packages (from gdown) (3.12.0)\n",
            "Requirement already satisfied: requests[socks] in /usr/local/lib/python3.10/dist-packages (from gdown) (2.27.1)\n",
            "Requirement already satisfied: six in /usr/local/lib/python3.10/dist-packages (from gdown) (1.16.0)\n",
            "Requirement already satisfied: tqdm in /usr/local/lib/python3.10/dist-packages (from gdown) (4.65.0)\n",
            "Requirement already satisfied: beautifulsoup4 in /usr/local/lib/python3.10/dist-packages (from gdown) (4.11.2)\n",
            "Requirement already satisfied: soupsieve>1.2 in /usr/local/lib/python3.10/dist-packages (from beautifulsoup4->gdown) (2.4.1)\n",
            "Requirement already satisfied: urllib3<1.27,>=1.21.1 in /usr/local/lib/python3.10/dist-packages (from requests[socks]->gdown) (1.26.15)\n",
            "Requirement already satisfied: certifi>=2017.4.17 in /usr/local/lib/python3.10/dist-packages (from requests[socks]->gdown) (2022.12.7)\n",
            "Requirement already satisfied: charset-normalizer~=2.0.0 in /usr/local/lib/python3.10/dist-packages (from requests[socks]->gdown) (2.0.12)\n",
            "Requirement already satisfied: idna<4,>=2.5 in /usr/local/lib/python3.10/dist-packages (from requests[socks]->gdown) (3.4)\n",
            "Requirement already satisfied: PySocks!=1.5.7,>=1.5.6 in /usr/local/lib/python3.10/dist-packages (from requests[socks]->gdown) (1.7.1)\n"
          ]
        }
      ]
    },
    {
      "cell_type": "code",
      "source": [
        "import gdown\n",
        "\n",
        "url = 'https://drive.google.com/uc?id=1buvTsZsnnQ5diefkus0sAa5Jk0qpiOOQ'\n",
        "output = '/content/drive/My Drive/filename.extension'\n",
        "gdown.download(url, output, quiet=False)"
      ],
      "metadata": {
        "colab": {
          "base_uri": "https://localhost:8080/",
          "height": 109
        },
        "id": "XtJD1dpO6RLG",
        "outputId": "e2c52a47-8e1d-4030-eff7-502e745ed2e1"
      },
      "execution_count": 4,
      "outputs": [
        {
          "output_type": "stream",
          "name": "stderr",
          "text": [
            "Downloading...\n",
            "From: https://drive.google.com/uc?id=1buvTsZsnnQ5diefkus0sAa5Jk0qpiOOQ\n",
            "To: /content/drive/My Drive/filename.extension\n",
            "100%|██████████| 46.1M/46.1M [00:01<00:00, 26.8MB/s]\n"
          ]
        },
        {
          "output_type": "execute_result",
          "data": {
            "text/plain": [
              "'/content/drive/My Drive/filename.extension'"
            ],
            "application/vnd.google.colaboratory.intrinsic+json": {
              "type": "string"
            }
          },
          "metadata": {},
          "execution_count": 4
        }
      ]
    },
    {
      "cell_type": "code",
      "source": [
        "pd.set_option('display.width', 1000)\n",
        "pd.set_option('display.max_columns', None)"
      ],
      "metadata": {
        "id": "gIYdPMUm7Auk"
      },
      "execution_count": 5,
      "outputs": []
    },
    {
      "cell_type": "code",
      "source": [
        "df = pd.read_csv('/content/drive/MyDrive/XD11/CustomerAnalysis/ex2.csv', encoding='ISO-8859-1')\n",
        "print(df.head(10))"
      ],
      "metadata": {
        "colab": {
          "base_uri": "https://localhost:8080/"
        },
        "id": "ioLwfmn16T8z",
        "outputId": "5db4e214-3c59-410d-8c00-495a0a6d59eb"
      },
      "execution_count": 7,
      "outputs": [
        {
          "output_type": "stream",
          "name": "stdout",
          "text": [
            "  InvoiceNo StockCode                          Description  Quantity       InvoiceDate  UnitPrice  CustomerID         Country\n",
            "0    536365    85123A   WHITE HANGING HEART T-LIGHT HOLDER         6  01-12-2010 08:26       2.55     17850.0  United Kingdom\n",
            "1    536365     71053                  WHITE METAL LANTERN         6  01-12-2010 08:26       3.39     17850.0  United Kingdom\n",
            "2    536365    84406B       CREAM CUPID HEARTS COAT HANGER         8  01-12-2010 08:26       2.75     17850.0  United Kingdom\n",
            "3    536365    84029G  KNITTED UNION FLAG HOT WATER BOTTLE         6  01-12-2010 08:26       3.39     17850.0  United Kingdom\n",
            "4    536365    84029E       RED WOOLLY HOTTIE WHITE HEART.         6  01-12-2010 08:26       3.39     17850.0  United Kingdom\n",
            "5    536365     22752         SET 7 BABUSHKA NESTING BOXES         2  01-12-2010 08:26       7.65     17850.0  United Kingdom\n",
            "6    536365     21730    GLASS STAR FROSTED T-LIGHT HOLDER         6  01-12-2010 08:26       4.25     17850.0  United Kingdom\n",
            "7    536366     22633               HAND WARMER UNION JACK         6  01-12-2010 08:28       1.85     17850.0  United Kingdom\n",
            "8    536366     22632            HAND WARMER RED POLKA DOT         6  01-12-2010 08:28       1.85     17850.0  United Kingdom\n",
            "9    536367     84879        ASSORTED COLOUR BIRD ORNAMENT        32  01-12-2010 08:34       1.69     13047.0  United Kingdom\n"
          ]
        }
      ]
    },
    {
      "cell_type": "code",
      "source": [
        "df.info()"
      ],
      "metadata": {
        "colab": {
          "base_uri": "https://localhost:8080/"
        },
        "id": "eN_VqGrC7bWy",
        "outputId": "bcb82c84-3047-456a-8baa-6974dd08d0d7"
      },
      "execution_count": 8,
      "outputs": [
        {
          "output_type": "stream",
          "name": "stdout",
          "text": [
            "<class 'pandas.core.frame.DataFrame'>\n",
            "RangeIndex: 541909 entries, 0 to 541908\n",
            "Data columns (total 8 columns):\n",
            " #   Column       Non-Null Count   Dtype  \n",
            "---  ------       --------------   -----  \n",
            " 0   InvoiceNo    541909 non-null  object \n",
            " 1   StockCode    541909 non-null  object \n",
            " 2   Description  540455 non-null  object \n",
            " 3   Quantity     541909 non-null  int64  \n",
            " 4   InvoiceDate  541909 non-null  object \n",
            " 5   UnitPrice    541909 non-null  float64\n",
            " 6   CustomerID   406829 non-null  float64\n",
            " 7   Country      541909 non-null  object \n",
            "dtypes: float64(2), int64(1), object(5)\n",
            "memory usage: 33.1+ MB\n"
          ]
        }
      ]
    },
    {
      "cell_type": "markdown",
      "source": [
        "Dữ liệu gồm 8 cột và 541909 dòng. Các cột bao gồm:\n",
        "* Cột InvoiceNo: số hóa đơn\n",
        "* Cột StockCode: mã hàng hóa\n",
        "* Cột Description: mô tả sản phẩm, các hàng hóa chủ yếu là đồ gia dụng và vật dụng trang trí nhà cửa\n",
        "* Cột Quantity: số lượng sản phẩm\n",
        "* Cột InvoiceDate: ngày mua hàng\n",
        "* Cột UnitPrice: giá của từng sản phẩm\n",
        "* Cột CustomerID: mã khách hàng\n",
        "* Cột Country: quốc gia sản xuất sản phẩm (?)"
      ],
      "metadata": {
        "id": "l5kyVlS2YJf9"
      }
    },
    {
      "cell_type": "code",
      "source": [
        "#Kiểm tra giá trị trong data có giá trị null hay không\n",
        "print(df.isnull().sum())"
      ],
      "metadata": {
        "colab": {
          "base_uri": "https://localhost:8080/"
        },
        "id": "vijkmwKsbZUz",
        "outputId": "9a8ea161-1a7f-42b6-90d1-06606762bb21"
      },
      "execution_count": 9,
      "outputs": [
        {
          "output_type": "stream",
          "name": "stdout",
          "text": [
            "InvoiceNo           0\n",
            "StockCode           0\n",
            "Description      1454\n",
            "Quantity            0\n",
            "InvoiceDate         0\n",
            "UnitPrice           0\n",
            "CustomerID     135080\n",
            "Country             0\n",
            "dtype: int64\n"
          ]
        }
      ]
    },
    {
      "cell_type": "markdown",
      "source": [
        "=> Trong tập dữ liệu cột Description và CustomerID có giá trị null nên ta sẽ tiến hành loại bỏ các giá trị null này."
      ],
      "metadata": {
        "id": "hZ-d844ib1Vv"
      }
    },
    {
      "cell_type": "code",
      "source": [
        "df = df.dropna()"
      ],
      "metadata": {
        "id": "K0SYrPHLefLb"
      },
      "execution_count": 10,
      "outputs": []
    },
    {
      "cell_type": "code",
      "source": [
        "df.info()"
      ],
      "metadata": {
        "colab": {
          "base_uri": "https://localhost:8080/"
        },
        "id": "xg4bc5pzcMQY",
        "outputId": "0d2a6fb7-8e20-4a4f-90c2-496ca72d6695"
      },
      "execution_count": 11,
      "outputs": [
        {
          "output_type": "stream",
          "name": "stdout",
          "text": [
            "<class 'pandas.core.frame.DataFrame'>\n",
            "Int64Index: 406829 entries, 0 to 541908\n",
            "Data columns (total 8 columns):\n",
            " #   Column       Non-Null Count   Dtype  \n",
            "---  ------       --------------   -----  \n",
            " 0   InvoiceNo    406829 non-null  object \n",
            " 1   StockCode    406829 non-null  object \n",
            " 2   Description  406829 non-null  object \n",
            " 3   Quantity     406829 non-null  int64  \n",
            " 4   InvoiceDate  406829 non-null  object \n",
            " 5   UnitPrice    406829 non-null  float64\n",
            " 6   CustomerID   406829 non-null  float64\n",
            " 7   Country      406829 non-null  object \n",
            "dtypes: float64(2), int64(1), object(5)\n",
            "memory usage: 27.9+ MB\n"
          ]
        }
      ]
    },
    {
      "cell_type": "markdown",
      "source": [
        "Sau khi loại bỏ giá trị null thì data còn lại 406829 dòng."
      ],
      "metadata": {
        "id": "vBLSv-fAcP0j"
      }
    },
    {
      "cell_type": "code",
      "source": [
        "df.describe()"
      ],
      "metadata": {
        "colab": {
          "base_uri": "https://localhost:8080/",
          "height": 300
        },
        "id": "6l3YY_Wb7Xzo",
        "outputId": "c8b3afd2-cf4c-49ae-c413-ead4f5a2c8b3"
      },
      "execution_count": 12,
      "outputs": [
        {
          "output_type": "execute_result",
          "data": {
            "text/plain": [
              "            Quantity      UnitPrice     CustomerID\n",
              "count  406829.000000  406829.000000  406829.000000\n",
              "mean       12.061303       3.460471   15287.690570\n",
              "std       248.693370      69.315162    1713.600303\n",
              "min    -80995.000000       0.000000   12346.000000\n",
              "25%         2.000000       1.250000   13953.000000\n",
              "50%         5.000000       1.950000   15152.000000\n",
              "75%        12.000000       3.750000   16791.000000\n",
              "max     80995.000000   38970.000000   18287.000000"
            ],
            "text/html": [
              "\n",
              "  <div id=\"df-a2ccbe0c-5bbc-4afb-8bf1-efa8c9630eef\">\n",
              "    <div class=\"colab-df-container\">\n",
              "      <div>\n",
              "<style scoped>\n",
              "    .dataframe tbody tr th:only-of-type {\n",
              "        vertical-align: middle;\n",
              "    }\n",
              "\n",
              "    .dataframe tbody tr th {\n",
              "        vertical-align: top;\n",
              "    }\n",
              "\n",
              "    .dataframe thead th {\n",
              "        text-align: right;\n",
              "    }\n",
              "</style>\n",
              "<table border=\"1\" class=\"dataframe\">\n",
              "  <thead>\n",
              "    <tr style=\"text-align: right;\">\n",
              "      <th></th>\n",
              "      <th>Quantity</th>\n",
              "      <th>UnitPrice</th>\n",
              "      <th>CustomerID</th>\n",
              "    </tr>\n",
              "  </thead>\n",
              "  <tbody>\n",
              "    <tr>\n",
              "      <th>count</th>\n",
              "      <td>406829.000000</td>\n",
              "      <td>406829.000000</td>\n",
              "      <td>406829.000000</td>\n",
              "    </tr>\n",
              "    <tr>\n",
              "      <th>mean</th>\n",
              "      <td>12.061303</td>\n",
              "      <td>3.460471</td>\n",
              "      <td>15287.690570</td>\n",
              "    </tr>\n",
              "    <tr>\n",
              "      <th>std</th>\n",
              "      <td>248.693370</td>\n",
              "      <td>69.315162</td>\n",
              "      <td>1713.600303</td>\n",
              "    </tr>\n",
              "    <tr>\n",
              "      <th>min</th>\n",
              "      <td>-80995.000000</td>\n",
              "      <td>0.000000</td>\n",
              "      <td>12346.000000</td>\n",
              "    </tr>\n",
              "    <tr>\n",
              "      <th>25%</th>\n",
              "      <td>2.000000</td>\n",
              "      <td>1.250000</td>\n",
              "      <td>13953.000000</td>\n",
              "    </tr>\n",
              "    <tr>\n",
              "      <th>50%</th>\n",
              "      <td>5.000000</td>\n",
              "      <td>1.950000</td>\n",
              "      <td>15152.000000</td>\n",
              "    </tr>\n",
              "    <tr>\n",
              "      <th>75%</th>\n",
              "      <td>12.000000</td>\n",
              "      <td>3.750000</td>\n",
              "      <td>16791.000000</td>\n",
              "    </tr>\n",
              "    <tr>\n",
              "      <th>max</th>\n",
              "      <td>80995.000000</td>\n",
              "      <td>38970.000000</td>\n",
              "      <td>18287.000000</td>\n",
              "    </tr>\n",
              "  </tbody>\n",
              "</table>\n",
              "</div>\n",
              "      <button class=\"colab-df-convert\" onclick=\"convertToInteractive('df-a2ccbe0c-5bbc-4afb-8bf1-efa8c9630eef')\"\n",
              "              title=\"Convert this dataframe to an interactive table.\"\n",
              "              style=\"display:none;\">\n",
              "        \n",
              "  <svg xmlns=\"http://www.w3.org/2000/svg\" height=\"24px\"viewBox=\"0 0 24 24\"\n",
              "       width=\"24px\">\n",
              "    <path d=\"M0 0h24v24H0V0z\" fill=\"none\"/>\n",
              "    <path d=\"M18.56 5.44l.94 2.06.94-2.06 2.06-.94-2.06-.94-.94-2.06-.94 2.06-2.06.94zm-11 1L8.5 8.5l.94-2.06 2.06-.94-2.06-.94L8.5 2.5l-.94 2.06-2.06.94zm10 10l.94 2.06.94-2.06 2.06-.94-2.06-.94-.94-2.06-.94 2.06-2.06.94z\"/><path d=\"M17.41 7.96l-1.37-1.37c-.4-.4-.92-.59-1.43-.59-.52 0-1.04.2-1.43.59L10.3 9.45l-7.72 7.72c-.78.78-.78 2.05 0 2.83L4 21.41c.39.39.9.59 1.41.59.51 0 1.02-.2 1.41-.59l7.78-7.78 2.81-2.81c.8-.78.8-2.07 0-2.86zM5.41 20L4 18.59l7.72-7.72 1.47 1.35L5.41 20z\"/>\n",
              "  </svg>\n",
              "      </button>\n",
              "      \n",
              "  <style>\n",
              "    .colab-df-container {\n",
              "      display:flex;\n",
              "      flex-wrap:wrap;\n",
              "      gap: 12px;\n",
              "    }\n",
              "\n",
              "    .colab-df-convert {\n",
              "      background-color: #E8F0FE;\n",
              "      border: none;\n",
              "      border-radius: 50%;\n",
              "      cursor: pointer;\n",
              "      display: none;\n",
              "      fill: #1967D2;\n",
              "      height: 32px;\n",
              "      padding: 0 0 0 0;\n",
              "      width: 32px;\n",
              "    }\n",
              "\n",
              "    .colab-df-convert:hover {\n",
              "      background-color: #E2EBFA;\n",
              "      box-shadow: 0px 1px 2px rgba(60, 64, 67, 0.3), 0px 1px 3px 1px rgba(60, 64, 67, 0.15);\n",
              "      fill: #174EA6;\n",
              "    }\n",
              "\n",
              "    [theme=dark] .colab-df-convert {\n",
              "      background-color: #3B4455;\n",
              "      fill: #D2E3FC;\n",
              "    }\n",
              "\n",
              "    [theme=dark] .colab-df-convert:hover {\n",
              "      background-color: #434B5C;\n",
              "      box-shadow: 0px 1px 3px 1px rgba(0, 0, 0, 0.15);\n",
              "      filter: drop-shadow(0px 1px 2px rgba(0, 0, 0, 0.3));\n",
              "      fill: #FFFFFF;\n",
              "    }\n",
              "  </style>\n",
              "\n",
              "      <script>\n",
              "        const buttonEl =\n",
              "          document.querySelector('#df-a2ccbe0c-5bbc-4afb-8bf1-efa8c9630eef button.colab-df-convert');\n",
              "        buttonEl.style.display =\n",
              "          google.colab.kernel.accessAllowed ? 'block' : 'none';\n",
              "\n",
              "        async function convertToInteractive(key) {\n",
              "          const element = document.querySelector('#df-a2ccbe0c-5bbc-4afb-8bf1-efa8c9630eef');\n",
              "          const dataTable =\n",
              "            await google.colab.kernel.invokeFunction('convertToInteractive',\n",
              "                                                     [key], {});\n",
              "          if (!dataTable) return;\n",
              "\n",
              "          const docLinkHtml = 'Like what you see? Visit the ' +\n",
              "            '<a target=\"_blank\" href=https://colab.research.google.com/notebooks/data_table.ipynb>data table notebook</a>'\n",
              "            + ' to learn more about interactive tables.';\n",
              "          element.innerHTML = '';\n",
              "          dataTable['output_type'] = 'display_data';\n",
              "          await google.colab.output.renderOutput(dataTable, element);\n",
              "          const docLink = document.createElement('div');\n",
              "          docLink.innerHTML = docLinkHtml;\n",
              "          element.appendChild(docLink);\n",
              "        }\n",
              "      </script>\n",
              "    </div>\n",
              "  </div>\n",
              "  "
            ]
          },
          "metadata": {},
          "execution_count": 12
        }
      ]
    },
    {
      "cell_type": "markdown",
      "source": [
        ":* Xoá giá trị âm của cột quality\n",
        "* Cột UnitPrice là đơn giá của từng sản phẩm. Cột có min = 0, tức là có những dòng mang giá trị bằng 0, không có ý nghĩa thống kê nên ta sẽ tiến hàng loại bỏ những dòng mang giá trị bằng 0.\n",
        "* Cột InvoiceDate là ngày xuất hóa đơn. Hiện tại cột đang mang dạng str nên ta sẽ chuyển về dạng datetime.\n",
        "* Cột CustomerID là cột mã khách hàng. Hiện tại cột đang mang dạng float nên ta sẽ chuyển về dạng str."
      ],
      "metadata": {
        "id": "Xt0ovdDZczXh"
      }
    },
    {
      "cell_type": "code",
      "source": [
        "# xoá giá trị âm\n",
        "df = df[df['Quantity'] >= 0]\n",
        "\n",
        "# Loại bỏ những dòng có UnitPrice = 0\n",
        "df = df.drop(df[df['UnitPrice'] == 0.0].index)\n",
        "\n",
        "# Chuyển cột InvoiceDate về dạng datetime\n",
        "df['InvoiceDate'] = pd.to_datetime(df['InvoiceDate'], format='%d-%m-%Y %H:%M')\n",
        "df['InvoiceDate'] = df['InvoiceDate'].dt.strftime('%Y-%m-%d')\n",
        "df['InvoiceDate'] = pd.to_datetime(df['InvoiceDate'])\n",
        "\n",
        "# Chuyển cột CustomerID về dạng str\n",
        "df['CustomerID'] = df['CustomerID'].astype(int)\n",
        "df['CustomerID'] = df['CustomerID'].astype(str)"
      ],
      "metadata": {
        "id": "vfmIWKE-ZIDV"
      },
      "execution_count": 14,
      "outputs": []
    },
    {
      "cell_type": "code",
      "source": [
        "df.info()"
      ],
      "metadata": {
        "colab": {
          "base_uri": "https://localhost:8080/"
        },
        "id": "gqec8XqDbv3F",
        "outputId": "5c0ed0c6-0d93-4f1c-bfc5-ecd614cf04d1"
      },
      "execution_count": 15,
      "outputs": [
        {
          "output_type": "stream",
          "name": "stdout",
          "text": [
            "<class 'pandas.core.frame.DataFrame'>\n",
            "Int64Index: 397884 entries, 0 to 541908\n",
            "Data columns (total 8 columns):\n",
            " #   Column       Non-Null Count   Dtype         \n",
            "---  ------       --------------   -----         \n",
            " 0   InvoiceNo    397884 non-null  object        \n",
            " 1   StockCode    397884 non-null  object        \n",
            " 2   Description  397884 non-null  object        \n",
            " 3   Quantity     397884 non-null  int64         \n",
            " 4   InvoiceDate  397884 non-null  datetime64[ns]\n",
            " 5   UnitPrice    397884 non-null  float64       \n",
            " 6   CustomerID   397884 non-null  object        \n",
            " 7   Country      397884 non-null  object        \n",
            "dtypes: datetime64[ns](1), float64(1), int64(1), object(5)\n",
            "memory usage: 27.3+ MB\n"
          ]
        }
      ]
    },
    {
      "cell_type": "code",
      "source": [
        "df.describe()"
      ],
      "metadata": {
        "colab": {
          "base_uri": "https://localhost:8080/",
          "height": 300
        },
        "id": "o8mMGBh8f6pK",
        "outputId": "e3dd2787-b255-4b34-bcba-ef6c8dac7c4e"
      },
      "execution_count": 16,
      "outputs": [
        {
          "output_type": "execute_result",
          "data": {
            "text/plain": [
              "            Quantity      UnitPrice\n",
              "count  397884.000000  397884.000000\n",
              "mean       12.988238       3.116488\n",
              "std       179.331775      22.097877\n",
              "min         1.000000       0.001000\n",
              "25%         2.000000       1.250000\n",
              "50%         6.000000       1.950000\n",
              "75%        12.000000       3.750000\n",
              "max     80995.000000    8142.750000"
            ],
            "text/html": [
              "\n",
              "  <div id=\"df-46cf5f8d-6144-4fd6-8cb4-be6f22fd74d6\">\n",
              "    <div class=\"colab-df-container\">\n",
              "      <div>\n",
              "<style scoped>\n",
              "    .dataframe tbody tr th:only-of-type {\n",
              "        vertical-align: middle;\n",
              "    }\n",
              "\n",
              "    .dataframe tbody tr th {\n",
              "        vertical-align: top;\n",
              "    }\n",
              "\n",
              "    .dataframe thead th {\n",
              "        text-align: right;\n",
              "    }\n",
              "</style>\n",
              "<table border=\"1\" class=\"dataframe\">\n",
              "  <thead>\n",
              "    <tr style=\"text-align: right;\">\n",
              "      <th></th>\n",
              "      <th>Quantity</th>\n",
              "      <th>UnitPrice</th>\n",
              "    </tr>\n",
              "  </thead>\n",
              "  <tbody>\n",
              "    <tr>\n",
              "      <th>count</th>\n",
              "      <td>397884.000000</td>\n",
              "      <td>397884.000000</td>\n",
              "    </tr>\n",
              "    <tr>\n",
              "      <th>mean</th>\n",
              "      <td>12.988238</td>\n",
              "      <td>3.116488</td>\n",
              "    </tr>\n",
              "    <tr>\n",
              "      <th>std</th>\n",
              "      <td>179.331775</td>\n",
              "      <td>22.097877</td>\n",
              "    </tr>\n",
              "    <tr>\n",
              "      <th>min</th>\n",
              "      <td>1.000000</td>\n",
              "      <td>0.001000</td>\n",
              "    </tr>\n",
              "    <tr>\n",
              "      <th>25%</th>\n",
              "      <td>2.000000</td>\n",
              "      <td>1.250000</td>\n",
              "    </tr>\n",
              "    <tr>\n",
              "      <th>50%</th>\n",
              "      <td>6.000000</td>\n",
              "      <td>1.950000</td>\n",
              "    </tr>\n",
              "    <tr>\n",
              "      <th>75%</th>\n",
              "      <td>12.000000</td>\n",
              "      <td>3.750000</td>\n",
              "    </tr>\n",
              "    <tr>\n",
              "      <th>max</th>\n",
              "      <td>80995.000000</td>\n",
              "      <td>8142.750000</td>\n",
              "    </tr>\n",
              "  </tbody>\n",
              "</table>\n",
              "</div>\n",
              "      <button class=\"colab-df-convert\" onclick=\"convertToInteractive('df-46cf5f8d-6144-4fd6-8cb4-be6f22fd74d6')\"\n",
              "              title=\"Convert this dataframe to an interactive table.\"\n",
              "              style=\"display:none;\">\n",
              "        \n",
              "  <svg xmlns=\"http://www.w3.org/2000/svg\" height=\"24px\"viewBox=\"0 0 24 24\"\n",
              "       width=\"24px\">\n",
              "    <path d=\"M0 0h24v24H0V0z\" fill=\"none\"/>\n",
              "    <path d=\"M18.56 5.44l.94 2.06.94-2.06 2.06-.94-2.06-.94-.94-2.06-.94 2.06-2.06.94zm-11 1L8.5 8.5l.94-2.06 2.06-.94-2.06-.94L8.5 2.5l-.94 2.06-2.06.94zm10 10l.94 2.06.94-2.06 2.06-.94-2.06-.94-.94-2.06-.94 2.06-2.06.94z\"/><path d=\"M17.41 7.96l-1.37-1.37c-.4-.4-.92-.59-1.43-.59-.52 0-1.04.2-1.43.59L10.3 9.45l-7.72 7.72c-.78.78-.78 2.05 0 2.83L4 21.41c.39.39.9.59 1.41.59.51 0 1.02-.2 1.41-.59l7.78-7.78 2.81-2.81c.8-.78.8-2.07 0-2.86zM5.41 20L4 18.59l7.72-7.72 1.47 1.35L5.41 20z\"/>\n",
              "  </svg>\n",
              "      </button>\n",
              "      \n",
              "  <style>\n",
              "    .colab-df-container {\n",
              "      display:flex;\n",
              "      flex-wrap:wrap;\n",
              "      gap: 12px;\n",
              "    }\n",
              "\n",
              "    .colab-df-convert {\n",
              "      background-color: #E8F0FE;\n",
              "      border: none;\n",
              "      border-radius: 50%;\n",
              "      cursor: pointer;\n",
              "      display: none;\n",
              "      fill: #1967D2;\n",
              "      height: 32px;\n",
              "      padding: 0 0 0 0;\n",
              "      width: 32px;\n",
              "    }\n",
              "\n",
              "    .colab-df-convert:hover {\n",
              "      background-color: #E2EBFA;\n",
              "      box-shadow: 0px 1px 2px rgba(60, 64, 67, 0.3), 0px 1px 3px 1px rgba(60, 64, 67, 0.15);\n",
              "      fill: #174EA6;\n",
              "    }\n",
              "\n",
              "    [theme=dark] .colab-df-convert {\n",
              "      background-color: #3B4455;\n",
              "      fill: #D2E3FC;\n",
              "    }\n",
              "\n",
              "    [theme=dark] .colab-df-convert:hover {\n",
              "      background-color: #434B5C;\n",
              "      box-shadow: 0px 1px 3px 1px rgba(0, 0, 0, 0.15);\n",
              "      filter: drop-shadow(0px 1px 2px rgba(0, 0, 0, 0.3));\n",
              "      fill: #FFFFFF;\n",
              "    }\n",
              "  </style>\n",
              "\n",
              "      <script>\n",
              "        const buttonEl =\n",
              "          document.querySelector('#df-46cf5f8d-6144-4fd6-8cb4-be6f22fd74d6 button.colab-df-convert');\n",
              "        buttonEl.style.display =\n",
              "          google.colab.kernel.accessAllowed ? 'block' : 'none';\n",
              "\n",
              "        async function convertToInteractive(key) {\n",
              "          const element = document.querySelector('#df-46cf5f8d-6144-4fd6-8cb4-be6f22fd74d6');\n",
              "          const dataTable =\n",
              "            await google.colab.kernel.invokeFunction('convertToInteractive',\n",
              "                                                     [key], {});\n",
              "          if (!dataTable) return;\n",
              "\n",
              "          const docLinkHtml = 'Like what you see? Visit the ' +\n",
              "            '<a target=\"_blank\" href=https://colab.research.google.com/notebooks/data_table.ipynb>data table notebook</a>'\n",
              "            + ' to learn more about interactive tables.';\n",
              "          element.innerHTML = '';\n",
              "          dataTable['output_type'] = 'display_data';\n",
              "          await google.colab.output.renderOutput(dataTable, element);\n",
              "          const docLink = document.createElement('div');\n",
              "          docLink.innerHTML = docLinkHtml;\n",
              "          element.appendChild(docLink);\n",
              "        }\n",
              "      </script>\n",
              "    </div>\n",
              "  </div>\n",
              "  "
            ]
          },
          "metadata": {},
          "execution_count": 16
        }
      ]
    },
    {
      "cell_type": "markdown",
      "source": [
        "Data còn lại 406789 dòng dữ liệu, không có giá trị null."
      ],
      "metadata": {
        "id": "Cj86C0NqfntD"
      }
    },
    {
      "cell_type": "markdown",
      "source": [
        "***Tính toán RFM***"
      ],
      "metadata": {
        "id": "v3KvZnhkgSS-"
      }
    },
    {
      "cell_type": "code",
      "source": [
        "import datetime\n",
        "# Lấy ngày hiện tại + 1\n",
        "current_date = max(df['InvoiceDate']) + datetime.timedelta(days=1)\n",
        "\n",
        "# Tính Total Price\n",
        "df['TotalPrice'] = df['Quantity']*df['UnitPrice']\n",
        "\n",
        "# Group by CustomerID để tính R, F, M\n",
        "df_rfm = df.groupby(['CustomerID']).agg(\n",
        "    {'InvoiceDate': lambda x: (current_date- x.max()).days,\n",
        "     'InvoiceNo':'count',\n",
        "     'TotalPrice':'sum'\n",
        "     }\n",
        ")\n",
        "\n",
        "#Đổi tên các cột\n",
        "df_rfm.rename(columns={'InvoiceDate':'Recency','InvoiceNo':'Frequency','TotalPrice':'MonetaryValue'}, inplace=True)"
      ],
      "metadata": {
        "id": "ytuiTKXeY_D_"
      },
      "execution_count": 17,
      "outputs": []
    },
    {
      "cell_type": "code",
      "source": [
        "# In ra data đã thêm Total Price\n",
        "df.head()"
      ],
      "metadata": {
        "colab": {
          "base_uri": "https://localhost:8080/",
          "height": 206
        },
        "id": "O7MCG5dGomm-",
        "outputId": "98e8ce3c-9c7f-43bd-cf23-29484c9a2dd4"
      },
      "execution_count": 18,
      "outputs": [
        {
          "output_type": "execute_result",
          "data": {
            "text/plain": [
              "  InvoiceNo StockCode                          Description  Quantity InvoiceDate  UnitPrice CustomerID         Country  TotalPrice\n",
              "0    536365    85123A   WHITE HANGING HEART T-LIGHT HOLDER         6  2010-12-01       2.55      17850  United Kingdom       15.30\n",
              "1    536365     71053                  WHITE METAL LANTERN         6  2010-12-01       3.39      17850  United Kingdom       20.34\n",
              "2    536365    84406B       CREAM CUPID HEARTS COAT HANGER         8  2010-12-01       2.75      17850  United Kingdom       22.00\n",
              "3    536365    84029G  KNITTED UNION FLAG HOT WATER BOTTLE         6  2010-12-01       3.39      17850  United Kingdom       20.34\n",
              "4    536365    84029E       RED WOOLLY HOTTIE WHITE HEART.         6  2010-12-01       3.39      17850  United Kingdom       20.34"
            ],
            "text/html": [
              "\n",
              "  <div id=\"df-ab02e630-37de-4633-8406-7fff82fb5bd3\">\n",
              "    <div class=\"colab-df-container\">\n",
              "      <div>\n",
              "<style scoped>\n",
              "    .dataframe tbody tr th:only-of-type {\n",
              "        vertical-align: middle;\n",
              "    }\n",
              "\n",
              "    .dataframe tbody tr th {\n",
              "        vertical-align: top;\n",
              "    }\n",
              "\n",
              "    .dataframe thead th {\n",
              "        text-align: right;\n",
              "    }\n",
              "</style>\n",
              "<table border=\"1\" class=\"dataframe\">\n",
              "  <thead>\n",
              "    <tr style=\"text-align: right;\">\n",
              "      <th></th>\n",
              "      <th>InvoiceNo</th>\n",
              "      <th>StockCode</th>\n",
              "      <th>Description</th>\n",
              "      <th>Quantity</th>\n",
              "      <th>InvoiceDate</th>\n",
              "      <th>UnitPrice</th>\n",
              "      <th>CustomerID</th>\n",
              "      <th>Country</th>\n",
              "      <th>TotalPrice</th>\n",
              "    </tr>\n",
              "  </thead>\n",
              "  <tbody>\n",
              "    <tr>\n",
              "      <th>0</th>\n",
              "      <td>536365</td>\n",
              "      <td>85123A</td>\n",
              "      <td>WHITE HANGING HEART T-LIGHT HOLDER</td>\n",
              "      <td>6</td>\n",
              "      <td>2010-12-01</td>\n",
              "      <td>2.55</td>\n",
              "      <td>17850</td>\n",
              "      <td>United Kingdom</td>\n",
              "      <td>15.30</td>\n",
              "    </tr>\n",
              "    <tr>\n",
              "      <th>1</th>\n",
              "      <td>536365</td>\n",
              "      <td>71053</td>\n",
              "      <td>WHITE METAL LANTERN</td>\n",
              "      <td>6</td>\n",
              "      <td>2010-12-01</td>\n",
              "      <td>3.39</td>\n",
              "      <td>17850</td>\n",
              "      <td>United Kingdom</td>\n",
              "      <td>20.34</td>\n",
              "    </tr>\n",
              "    <tr>\n",
              "      <th>2</th>\n",
              "      <td>536365</td>\n",
              "      <td>84406B</td>\n",
              "      <td>CREAM CUPID HEARTS COAT HANGER</td>\n",
              "      <td>8</td>\n",
              "      <td>2010-12-01</td>\n",
              "      <td>2.75</td>\n",
              "      <td>17850</td>\n",
              "      <td>United Kingdom</td>\n",
              "      <td>22.00</td>\n",
              "    </tr>\n",
              "    <tr>\n",
              "      <th>3</th>\n",
              "      <td>536365</td>\n",
              "      <td>84029G</td>\n",
              "      <td>KNITTED UNION FLAG HOT WATER BOTTLE</td>\n",
              "      <td>6</td>\n",
              "      <td>2010-12-01</td>\n",
              "      <td>3.39</td>\n",
              "      <td>17850</td>\n",
              "      <td>United Kingdom</td>\n",
              "      <td>20.34</td>\n",
              "    </tr>\n",
              "    <tr>\n",
              "      <th>4</th>\n",
              "      <td>536365</td>\n",
              "      <td>84029E</td>\n",
              "      <td>RED WOOLLY HOTTIE WHITE HEART.</td>\n",
              "      <td>6</td>\n",
              "      <td>2010-12-01</td>\n",
              "      <td>3.39</td>\n",
              "      <td>17850</td>\n",
              "      <td>United Kingdom</td>\n",
              "      <td>20.34</td>\n",
              "    </tr>\n",
              "  </tbody>\n",
              "</table>\n",
              "</div>\n",
              "      <button class=\"colab-df-convert\" onclick=\"convertToInteractive('df-ab02e630-37de-4633-8406-7fff82fb5bd3')\"\n",
              "              title=\"Convert this dataframe to an interactive table.\"\n",
              "              style=\"display:none;\">\n",
              "        \n",
              "  <svg xmlns=\"http://www.w3.org/2000/svg\" height=\"24px\"viewBox=\"0 0 24 24\"\n",
              "       width=\"24px\">\n",
              "    <path d=\"M0 0h24v24H0V0z\" fill=\"none\"/>\n",
              "    <path d=\"M18.56 5.44l.94 2.06.94-2.06 2.06-.94-2.06-.94-.94-2.06-.94 2.06-2.06.94zm-11 1L8.5 8.5l.94-2.06 2.06-.94-2.06-.94L8.5 2.5l-.94 2.06-2.06.94zm10 10l.94 2.06.94-2.06 2.06-.94-2.06-.94-.94-2.06-.94 2.06-2.06.94z\"/><path d=\"M17.41 7.96l-1.37-1.37c-.4-.4-.92-.59-1.43-.59-.52 0-1.04.2-1.43.59L10.3 9.45l-7.72 7.72c-.78.78-.78 2.05 0 2.83L4 21.41c.39.39.9.59 1.41.59.51 0 1.02-.2 1.41-.59l7.78-7.78 2.81-2.81c.8-.78.8-2.07 0-2.86zM5.41 20L4 18.59l7.72-7.72 1.47 1.35L5.41 20z\"/>\n",
              "  </svg>\n",
              "      </button>\n",
              "      \n",
              "  <style>\n",
              "    .colab-df-container {\n",
              "      display:flex;\n",
              "      flex-wrap:wrap;\n",
              "      gap: 12px;\n",
              "    }\n",
              "\n",
              "    .colab-df-convert {\n",
              "      background-color: #E8F0FE;\n",
              "      border: none;\n",
              "      border-radius: 50%;\n",
              "      cursor: pointer;\n",
              "      display: none;\n",
              "      fill: #1967D2;\n",
              "      height: 32px;\n",
              "      padding: 0 0 0 0;\n",
              "      width: 32px;\n",
              "    }\n",
              "\n",
              "    .colab-df-convert:hover {\n",
              "      background-color: #E2EBFA;\n",
              "      box-shadow: 0px 1px 2px rgba(60, 64, 67, 0.3), 0px 1px 3px 1px rgba(60, 64, 67, 0.15);\n",
              "      fill: #174EA6;\n",
              "    }\n",
              "\n",
              "    [theme=dark] .colab-df-convert {\n",
              "      background-color: #3B4455;\n",
              "      fill: #D2E3FC;\n",
              "    }\n",
              "\n",
              "    [theme=dark] .colab-df-convert:hover {\n",
              "      background-color: #434B5C;\n",
              "      box-shadow: 0px 1px 3px 1px rgba(0, 0, 0, 0.15);\n",
              "      filter: drop-shadow(0px 1px 2px rgba(0, 0, 0, 0.3));\n",
              "      fill: #FFFFFF;\n",
              "    }\n",
              "  </style>\n",
              "\n",
              "      <script>\n",
              "        const buttonEl =\n",
              "          document.querySelector('#df-ab02e630-37de-4633-8406-7fff82fb5bd3 button.colab-df-convert');\n",
              "        buttonEl.style.display =\n",
              "          google.colab.kernel.accessAllowed ? 'block' : 'none';\n",
              "\n",
              "        async function convertToInteractive(key) {\n",
              "          const element = document.querySelector('#df-ab02e630-37de-4633-8406-7fff82fb5bd3');\n",
              "          const dataTable =\n",
              "            await google.colab.kernel.invokeFunction('convertToInteractive',\n",
              "                                                     [key], {});\n",
              "          if (!dataTable) return;\n",
              "\n",
              "          const docLinkHtml = 'Like what you see? Visit the ' +\n",
              "            '<a target=\"_blank\" href=https://colab.research.google.com/notebooks/data_table.ipynb>data table notebook</a>'\n",
              "            + ' to learn more about interactive tables.';\n",
              "          element.innerHTML = '';\n",
              "          dataTable['output_type'] = 'display_data';\n",
              "          await google.colab.output.renderOutput(dataTable, element);\n",
              "          const docLink = document.createElement('div');\n",
              "          docLink.innerHTML = docLinkHtml;\n",
              "          element.appendChild(docLink);\n",
              "        }\n",
              "      </script>\n",
              "    </div>\n",
              "  </div>\n",
              "  "
            ]
          },
          "metadata": {},
          "execution_count": 18
        }
      ]
    },
    {
      "cell_type": "code",
      "source": [
        "# In ra data RFM\n",
        "df_rfm.head()"
      ],
      "metadata": {
        "colab": {
          "base_uri": "https://localhost:8080/",
          "height": 237
        },
        "id": "jAEphjVohC88",
        "outputId": "757da1ed-218a-47d9-fe4b-772b8aef9b3c"
      },
      "execution_count": 19,
      "outputs": [
        {
          "output_type": "execute_result",
          "data": {
            "text/plain": [
              "            Recency  Frequency  MonetaryValue\n",
              "CustomerID                                   \n",
              "12346           326          1       77183.60\n",
              "12347             3        182        4310.00\n",
              "12348            76         31        1797.24\n",
              "12349            19         73        1757.55\n",
              "12350           311         17         334.40"
            ],
            "text/html": [
              "\n",
              "  <div id=\"df-e364fbd8-88c5-4961-a3fe-44bc78f0b7ba\">\n",
              "    <div class=\"colab-df-container\">\n",
              "      <div>\n",
              "<style scoped>\n",
              "    .dataframe tbody tr th:only-of-type {\n",
              "        vertical-align: middle;\n",
              "    }\n",
              "\n",
              "    .dataframe tbody tr th {\n",
              "        vertical-align: top;\n",
              "    }\n",
              "\n",
              "    .dataframe thead th {\n",
              "        text-align: right;\n",
              "    }\n",
              "</style>\n",
              "<table border=\"1\" class=\"dataframe\">\n",
              "  <thead>\n",
              "    <tr style=\"text-align: right;\">\n",
              "      <th></th>\n",
              "      <th>Recency</th>\n",
              "      <th>Frequency</th>\n",
              "      <th>MonetaryValue</th>\n",
              "    </tr>\n",
              "    <tr>\n",
              "      <th>CustomerID</th>\n",
              "      <th></th>\n",
              "      <th></th>\n",
              "      <th></th>\n",
              "    </tr>\n",
              "  </thead>\n",
              "  <tbody>\n",
              "    <tr>\n",
              "      <th>12346</th>\n",
              "      <td>326</td>\n",
              "      <td>1</td>\n",
              "      <td>77183.60</td>\n",
              "    </tr>\n",
              "    <tr>\n",
              "      <th>12347</th>\n",
              "      <td>3</td>\n",
              "      <td>182</td>\n",
              "      <td>4310.00</td>\n",
              "    </tr>\n",
              "    <tr>\n",
              "      <th>12348</th>\n",
              "      <td>76</td>\n",
              "      <td>31</td>\n",
              "      <td>1797.24</td>\n",
              "    </tr>\n",
              "    <tr>\n",
              "      <th>12349</th>\n",
              "      <td>19</td>\n",
              "      <td>73</td>\n",
              "      <td>1757.55</td>\n",
              "    </tr>\n",
              "    <tr>\n",
              "      <th>12350</th>\n",
              "      <td>311</td>\n",
              "      <td>17</td>\n",
              "      <td>334.40</td>\n",
              "    </tr>\n",
              "  </tbody>\n",
              "</table>\n",
              "</div>\n",
              "      <button class=\"colab-df-convert\" onclick=\"convertToInteractive('df-e364fbd8-88c5-4961-a3fe-44bc78f0b7ba')\"\n",
              "              title=\"Convert this dataframe to an interactive table.\"\n",
              "              style=\"display:none;\">\n",
              "        \n",
              "  <svg xmlns=\"http://www.w3.org/2000/svg\" height=\"24px\"viewBox=\"0 0 24 24\"\n",
              "       width=\"24px\">\n",
              "    <path d=\"M0 0h24v24H0V0z\" fill=\"none\"/>\n",
              "    <path d=\"M18.56 5.44l.94 2.06.94-2.06 2.06-.94-2.06-.94-.94-2.06-.94 2.06-2.06.94zm-11 1L8.5 8.5l.94-2.06 2.06-.94-2.06-.94L8.5 2.5l-.94 2.06-2.06.94zm10 10l.94 2.06.94-2.06 2.06-.94-2.06-.94-.94-2.06-.94 2.06-2.06.94z\"/><path d=\"M17.41 7.96l-1.37-1.37c-.4-.4-.92-.59-1.43-.59-.52 0-1.04.2-1.43.59L10.3 9.45l-7.72 7.72c-.78.78-.78 2.05 0 2.83L4 21.41c.39.39.9.59 1.41.59.51 0 1.02-.2 1.41-.59l7.78-7.78 2.81-2.81c.8-.78.8-2.07 0-2.86zM5.41 20L4 18.59l7.72-7.72 1.47 1.35L5.41 20z\"/>\n",
              "  </svg>\n",
              "      </button>\n",
              "      \n",
              "  <style>\n",
              "    .colab-df-container {\n",
              "      display:flex;\n",
              "      flex-wrap:wrap;\n",
              "      gap: 12px;\n",
              "    }\n",
              "\n",
              "    .colab-df-convert {\n",
              "      background-color: #E8F0FE;\n",
              "      border: none;\n",
              "      border-radius: 50%;\n",
              "      cursor: pointer;\n",
              "      display: none;\n",
              "      fill: #1967D2;\n",
              "      height: 32px;\n",
              "      padding: 0 0 0 0;\n",
              "      width: 32px;\n",
              "    }\n",
              "\n",
              "    .colab-df-convert:hover {\n",
              "      background-color: #E2EBFA;\n",
              "      box-shadow: 0px 1px 2px rgba(60, 64, 67, 0.3), 0px 1px 3px 1px rgba(60, 64, 67, 0.15);\n",
              "      fill: #174EA6;\n",
              "    }\n",
              "\n",
              "    [theme=dark] .colab-df-convert {\n",
              "      background-color: #3B4455;\n",
              "      fill: #D2E3FC;\n",
              "    }\n",
              "\n",
              "    [theme=dark] .colab-df-convert:hover {\n",
              "      background-color: #434B5C;\n",
              "      box-shadow: 0px 1px 3px 1px rgba(0, 0, 0, 0.15);\n",
              "      filter: drop-shadow(0px 1px 2px rgba(0, 0, 0, 0.3));\n",
              "      fill: #FFFFFF;\n",
              "    }\n",
              "  </style>\n",
              "\n",
              "      <script>\n",
              "        const buttonEl =\n",
              "          document.querySelector('#df-e364fbd8-88c5-4961-a3fe-44bc78f0b7ba button.colab-df-convert');\n",
              "        buttonEl.style.display =\n",
              "          google.colab.kernel.accessAllowed ? 'block' : 'none';\n",
              "\n",
              "        async function convertToInteractive(key) {\n",
              "          const element = document.querySelector('#df-e364fbd8-88c5-4961-a3fe-44bc78f0b7ba');\n",
              "          const dataTable =\n",
              "            await google.colab.kernel.invokeFunction('convertToInteractive',\n",
              "                                                     [key], {});\n",
              "          if (!dataTable) return;\n",
              "\n",
              "          const docLinkHtml = 'Like what you see? Visit the ' +\n",
              "            '<a target=\"_blank\" href=https://colab.research.google.com/notebooks/data_table.ipynb>data table notebook</a>'\n",
              "            + ' to learn more about interactive tables.';\n",
              "          element.innerHTML = '';\n",
              "          dataTable['output_type'] = 'display_data';\n",
              "          await google.colab.output.renderOutput(dataTable, element);\n",
              "          const docLink = document.createElement('div');\n",
              "          docLink.innerHTML = docLinkHtml;\n",
              "          element.appendChild(docLink);\n",
              "        }\n",
              "      </script>\n",
              "    </div>\n",
              "  </div>\n",
              "  "
            ]
          },
          "metadata": {},
          "execution_count": 19
        }
      ]
    },
    {
      "cell_type": "markdown",
      "source": [
        "## **3. EDA**"
      ],
      "metadata": {
        "id": "2GlwKrtJo5Tv"
      }
    },
    {
      "cell_type": "code",
      "source": [
        "# Copy dataframe để EDA\n",
        "df_eda = df.copy()"
      ],
      "metadata": {
        "id": "ei4IDlaHp5EB"
      },
      "execution_count": 20,
      "outputs": []
    },
    {
      "cell_type": "code",
      "source": [
        "#Tần suất của các InvoiceNo (tần suất mua hàng) theo từng ngày trong tuần\n",
        "# Tạo cột mới chứa ngày trong tuần\n",
        "df_eda['DayOfWeek'] = df_eda['InvoiceDate'].dt.day_name()\n",
        "\n",
        "# Tạo DataFrame mới chứa số lượng InvoiceNo cho mỗi ngày trong tuần\n",
        "freq_by_day = df_eda.groupby(['DayOfWeek', 'InvoiceNo'])['TotalPrice'].count().reset_index()\n",
        "freq_by_day = freq_by_day.groupby('DayOfWeek')['InvoiceNo'].count().reset_index()\n",
        "freq_by_day = freq_by_day.rename(columns={'InvoiceNo': 'Frequency'})\n",
        "\n",
        "# Vẽ biểu đồ tần suất\n",
        "freq_by_day.plot(x='DayOfWeek', y='Frequency', kind='bar')\n",
        "\n",
        "# Đặt tiêu đề cho biểu đồ và các trục\n",
        "plt.title('Tần suất của các InvoiceNo theo từng ngày trong tuần')\n",
        "plt.xlabel('Ngày trong tuần')\n",
        "plt.ylabel('Tần suất')\n",
        "\n",
        "# Hiển thị biểu đồ\n",
        "plt.show()"
      ],
      "metadata": {
        "colab": {
          "base_uri": "https://localhost:8080/",
          "height": 541
        },
        "id": "vI03Utf8TiGk",
        "outputId": "85a3f210-5791-4d96-8a1a-86c224c82ba1"
      },
      "execution_count": 21,
      "outputs": [
        {
          "output_type": "display_data",
          "data": {
            "text/plain": [
              "<Figure size 640x480 with 1 Axes>"
            ],
            "image/png": "[encoded data removed]"
          },
          "metadata": {}
        }
      ]
    },
    {
      "cell_type": "markdown",
      "source": [
        "Qua biểu đồ ta thấy được từ thứ 2 đến thứ 6, InvoiceNo không có sự chênh lệch đáng kể. Duy nhất có thứ 5, lượng hóa đơn tăng, để giải thích có thể do khách hàng có xu hướng mua sắm trước khi nghỉ ngơi vào cuối tuần.\n",
        "\n",
        "Biểu đồ không có thứ 7, nhiều khả năng cửa hàng chủ trương đóng cửa vào thứ 7. Bởi họ đóng cửa một ngày trong khi các ngày khác có lượng bán ổn định, khách hàng sẽ có xu hướng không để tâm mua sắm nên lượng bán ngày chủ nhật sẽ giảm, sau đó mới dần ổn định trở lại ở các ngày trong tuần."
      ],
      "metadata": {
        "id": "ms29cSznqKpq"
      }
    },
    {
      "cell_type": "code",
      "source": [
        "#Tần suất mua hàng theo từng tháng trong năm\n",
        "# Tạo cột mới chứa tháng trong năm\n",
        "df_eda['Monthofyear'] = df_eda['InvoiceDate'].dt.month_name()\n",
        "\n",
        "# Tạo DataFrame mới chứa số lượng InvoiceNo cho tháng trong năm\n",
        "freq_by_month = df_eda.groupby(['Monthofyear', 'InvoiceNo'])['TotalPrice'].count().reset_index()\n",
        "freq_by_month = freq_by_month.groupby('Monthofyear')['InvoiceNo'].count().reset_index()\n",
        "freq_by_month = freq_by_month.rename(columns={'InvoiceNo': 'Frequency'})\n",
        "\n",
        "# Vẽ biểu đồ tần suất\n",
        "freq_by_month.plot(x='Monthofyear', y='Frequency', kind='bar')\n",
        "\n",
        "# Đặt tiêu đề cho biểu đồ và các trục\n",
        "plt.title('Tần suất của các InvoiceNo theo từng tháng trong năm')\n",
        "plt.xlabel('Tháng')\n",
        "plt.ylabel('Tần suất')\n",
        "\n",
        "# Hiển thị biểu đồ\n",
        "plt.show()"
      ],
      "metadata": {
        "colab": {
          "base_uri": "https://localhost:8080/",
          "height": 536
        },
        "id": "8n3yLWFRUvwQ",
        "outputId": "a5ebc2ae-138b-4fe8-8ab8-72d9f08b3b46"
      },
      "execution_count": 22,
      "outputs": [
        {
          "output_type": "display_data",
          "data": {
            "text/plain": [
              "<Figure size 640x480 with 1 Axes>"
            ],
            "image/png": "[encoded data removed]"
          },
          "metadata": {}
        }
      ]
    },
    {
      "cell_type": "markdown",
      "source": [
        "Qua biểu đồ ta thấy được có hai tháng lượng mua hàng cao đột biến, đó là tháng 12 và tháng 11. Giải thích lí do, đây là cửa hàng bán đồ gia dụng cũng như trang trí nhà cửa. Đồng thời tháng 11 có sự kiện Black Friday cũng như tháng 12 có Giáng sinh và gần đến năm mới nên lượng mua hàng sẽ cao hơn so với các tháng còn lại.\n",
        "\n",
        "Các tháng còn lại trong năm (trừ thang 1 và tháng 2) lượng mua hàng ổn định, không có sự thay đổi nhiều.\n",
        "\n",
        "ở tháng 1 và tháng 2, lượng mua hàng giảm do khách hàng đã mua sắm mạnh vào tháng 11 và tháng 12 trước đó, họ chưa có nhiều nhu cầu để mua sắm."
      ],
      "metadata": {
        "id": "8GbHS6VjsXLb"
      }
    },
    {
      "cell_type": "code",
      "source": [
        "# Tính toán số lượng sản phẩm bán cho mỗi StockCode\n",
        "quantity_by_stockcode = df_eda.groupby(['StockCode'])['Quantity'].sum()\n",
        "\n",
        "# Sắp xếp các StockCode theo thứ tự giảm dần của số lượng sản phẩm và lấy 5 sản phẩm có lượng bán cao nhất\n",
        "quantity_by_stockcode = quantity_by_stockcode.sort_values(ascending=False).nlargest(5)\n",
        "\n",
        "# Vẽ biểu đồ cột\n",
        "plt.bar(quantity_by_stockcode.index, quantity_by_stockcode.values)\n",
        "\n",
        "# Đặt tên cho trục x và trục y\n",
        "plt.xlabel('Mã sản phẩm')\n",
        "plt.ylabel('Số lượng')\n",
        "\n",
        "# Đặt tiêu đề cho biểu đồ\n",
        "plt.title('Top 5 sản phẩm có lượng bán nhiều nhất')\n",
        "\n",
        "# Hiển thị biểu đồ\n",
        "plt.show()"
      ],
      "metadata": {
        "colab": {
          "base_uri": "https://localhost:8080/",
          "height": 476
        },
        "id": "G665wyufW7Pm",
        "outputId": "241175bf-7bd7-4afa-f60c-4d498e75e7d6"
      },
      "execution_count": 23,
      "outputs": [
        {
          "output_type": "display_data",
          "data": {
            "text/plain": [
              "<Figure size 640x480 with 1 Axes>"
            ],
            "image/png": "[encoded data removed]"
          },
          "metadata": {}
        }
      ]
    },
    {
      "cell_type": "code",
      "source": [
        "top2 = df_eda[(df_eda['StockCode'] == '23843') | (df_eda['StockCode'] == '23166') ]\n",
        "print(top2)"
      ],
      "metadata": {
        "colab": {
          "base_uri": "https://localhost:8080/"
        },
        "id": "7Bg4Hois1J8L",
        "outputId": "c53f5f3c-3612-42c9-fd39-e0d9b83f143e"
      },
      "execution_count": 24,
      "outputs": [
        {
          "output_type": "stream",
          "name": "stdout",
          "text": [
            "       InvoiceNo StockCode                     Description  Quantity InvoiceDate  UnitPrice CustomerID         Country  TotalPrice  DayOfWeek Monthofyear\n",
            "61619     541431     23166  MEDIUM CERAMIC TOP STORAGE JAR     74215  2011-01-18       1.04      12346  United Kingdom    77183.60    Tuesday     January\n",
            "186770    552882     23166  MEDIUM CERAMIC TOP STORAGE JAR        96  2011-05-12       1.04      14646     Netherlands       99.84   Thursday         May\n",
            "187196    552953     23166  MEDIUM CERAMIC TOP STORAGE JAR         4  2011-05-12       1.25      16745  United Kingdom        5.00   Thursday         May\n",
            "187718    553005     23166  MEDIUM CERAMIC TOP STORAGE JAR         5  2011-05-12       1.25      14651  United Kingdom        6.25   Thursday         May\n",
            "187868    553009     23166  MEDIUM CERAMIC TOP STORAGE JAR         3  2011-05-12       1.25      13601  United Kingdom        3.75   Thursday         May\n",
            "...          ...       ...                             ...       ...         ...        ...        ...             ...         ...        ...         ...\n",
            "531499    580956     23166  MEDIUM CERAMIC TOP STORAGE JAR         1  2011-12-06       1.25      17841  United Kingdom        1.25    Tuesday    December\n",
            "532826    580997     23166  MEDIUM CERAMIC TOP STORAGE JAR         4  2011-12-06       1.25      15023  United Kingdom        5.00    Tuesday    December\n",
            "533742    581108     23166  MEDIUM CERAMIC TOP STORAGE JAR         2  2011-12-07       1.25      15984  United Kingdom        2.50  Wednesday    December\n",
            "540301    581476     23166  MEDIUM CERAMIC TOP STORAGE JAR        48  2011-12-09       1.04      12433          Norway       49.92     Friday    December\n",
            "540421    581483     23843     PAPER CRAFT , LITTLE BIRDIE     80995  2011-12-09       2.08      16446  United Kingdom   168469.60     Friday    December\n",
            "\n",
            "[199 rows x 11 columns]\n"
          ]
        }
      ]
    },
    {
      "cell_type": "markdown",
      "source": [
        "Qua biểu đồ, ta thấy được sản phẩm được bán chạy nhất là paper craft, tiếp đến là storage jar."
      ],
      "metadata": {
        "id": "pE6fBEmNuFrx"
      }
    },
    {
      "cell_type": "code",
      "source": [
        "# Tính toán số lượng sản phẩm theo quốc gia\n",
        "quantity_by_country = df_eda.groupby(['Country'])['Quantity'].sum()\n",
        "\n",
        "# Sắp xếp các sản phẩm theo thứ tự giảm dần của số lượng sản phẩm và lấy 5 sản phẩm có lượng bán cao nhất\n",
        "quantity_by_country = quantity_by_country.sort_values(ascending=False).nlargest(5)\n",
        "\n",
        "# Vẽ biểu đồ cột\n",
        "plt.bar(quantity_by_country.index, quantity_by_country.values)\n",
        "\n",
        "# Đặt tên cho trục x và trục y\n",
        "plt.xlabel('Quốc gia')\n",
        "plt.ylabel('Số lượng sản phẩm')\n",
        "\n",
        "# Đặt tiêu đề cho biểu đồ\n",
        "plt.title('Top 5 quốc gia có số lượng sản phẩm nhiều nhất')\n",
        "\n",
        "# Hiển thị biểu đồ\n",
        "plt.show()\n",
        "print(quantity_by_country )"
      ],
      "metadata": {
        "colab": {
          "base_uri": "https://localhost:8080/",
          "height": 603
        },
        "id": "hTjHyK0guyR4",
        "outputId": "576572ba-748f-492b-bfb8-c3a8fb1f9d34"
      },
      "execution_count": 25,
      "outputs": [
        {
          "output_type": "display_data",
          "data": {
            "text/plain": [
              "<Figure size 640x480 with 1 Axes>"
            ],
            "image/png": "[encoded data removed]"
          },
          "metadata": {}
        },
        {
          "output_type": "stream",
          "name": "stdout",
          "text": [
            "Country\n",
            "United Kingdom    4256740\n",
            "Netherlands        200361\n",
            "EIRE               140275\n",
            "Germany            119261\n",
            "France             111471\n",
            "Name: Quantity, dtype: int64\n"
          ]
        }
      ]
    },
    {
      "cell_type": "markdown",
      "source": [
        "Qua biểu đồ, ta thấy được phần lớn các sản phẩm được sản xuất tại Anh, cho thấy cửa hàng được đặt tại Anh."
      ],
      "metadata": {
        "id": "Bnwjz7-4LeCG"
      }
    },
    {
      "cell_type": "code",
      "source": [
        "# Tính toán hệ số tương quan giữa các biến RFM\n",
        "corr_matrix = df_rfm.corr()\n",
        "\n",
        "# In kết quả hệ số tương quan\n",
        "print(corr_matrix)\n",
        "\n",
        "# Vẽ biểu đồ heatmap cho ma trận hệ số tương quan\n",
        "sns.heatmap(corr_matrix, annot=True, cmap='coolwarm')"
      ],
      "metadata": {
        "colab": {
          "base_uri": "https://localhost:8080/",
          "height": 526
        },
        "id": "43d4uVV2PMRz",
        "outputId": "4120e516-8463-434b-9cd8-25c94d2a974e"
      },
      "execution_count": 26,
      "outputs": [
        {
          "output_type": "stream",
          "name": "stdout",
          "text": [
            "                Recency  Frequency  MonetaryValue\n",
            "Recency        1.000000  -0.206180      -0.122241\n",
            "Frequency     -0.206180   1.000000       0.422129\n",
            "MonetaryValue -0.122241   0.422129       1.000000\n"
          ]
        },
        {
          "output_type": "execute_result",
          "data": {
            "text/plain": [
              "<Axes: >"
            ]
          },
          "metadata": {},
          "execution_count": 26
        },
        {
          "output_type": "display_data",
          "data": {
            "text/plain": [
              "<Figure size 640x480 with 2 Axes>"
            ],
            "image/png": "[encoded data removed]"
          },
          "metadata": {}
        }
      ]
    },
    {
      "cell_type": "markdown",
      "source": [
        "Ma trận hệ số tương quan giữa các biến RFM cho thấy:\n",
        "\n",
        "* Biến Recency có mối tương quan âm với biến Frequency và biến MonetaryValue, tức là khách hàng càng lâu không mua hàng thì số lần mua hàng và giá trị mua hàng trung bình của họ càng ít.\n",
        "* Biến Frequency có mối tương quan dương với biến MonetaryValue, tức là khách hàng mua hàng nhiều lần thì giá trị mua hàng trung bình của họ cũng cao hơn.\n",
        "Các mức độ tương quan giữa các biến đều khá thấp, trong khoảng từ -0.21 đến 0.38, cho thấy không có một mối quan hệ tuyến tính mạnh giữa các biến. Tuy nhiên, chúng ta vẫn có thể sử dụng các biến này để phân tích RFM và tìm ra những nhóm khách hàng có hành vi tương tự.\n",
        "\n",
        "=> Có thể rút ra một số kết luận sau:\n",
        "* Nhóm khách hàng không mua hàng trong thời gian gần đây, mua hàng ít lần và chi tiêu thấp có thể được xác định dựa trên mức độ cao của biến Recency và thấp của biến Frequency và biến MonetaryValue.\n",
        "* Nhóm khách hàng mua hàng ít lần trong thời gian gần đây, nhưng chi tiêu cao có thể được xác định dựa trên mức độ thấp của biến Recency và cao của biến MonetaryValue.\n",
        "* Nhóm khách hàng mua hàng nhiều lần và chi tiêu cao (nhóm khách hàng tiềm năng) có thể được xác định dựa trên mức độ cao của biến Frequency và biến MonetaryValue."
      ],
      "metadata": {
        "id": "jle9VO79QGi4"
      }
    },
    {
      "cell_type": "markdown",
      "source": [
        "## **4. Pre-processing**"
      ],
      "metadata": {
        "id": "mbYiE9W1v59f"
      }
    },
    {
      "cell_type": "code",
      "source": [
        "#Tiến hành transform dữ liệu về dạng phân phối chuẩn\n",
        "from scipy import stats\n",
        "df_new = df_rfm.copy()\n",
        "df_new['Recency'] = stats.boxcox(df_new['Recency'])[0]\n",
        "df_new['Frequency'] = stats.boxcox(df_new['Frequency'])[0]\n",
        "df_new['MonetaryValue'] = stats.boxcox(df_new['MonetaryValue'])[0]\n",
        "df_new.head(10)"
      ],
      "metadata": {
        "colab": {
          "base_uri": "https://localhost:8080/",
          "height": 394
        },
        "id": "MB1HQNMV6VEq",
        "outputId": "5707b4db-13b7-49db-aa8b-51ba67cdcda1"
      },
      "execution_count": 32,
      "outputs": [
        {
          "output_type": "execute_result",
          "data": {
            "text/plain": [
              "             Recency  Frequency  MonetaryValue\n",
              "CustomerID                                    \n",
              "12346       9.481099   0.000000       7.280024\n",
              "12347       1.200122   5.967408       6.011123\n",
              "12348       6.225829   3.756089       5.561659\n",
              "12349       3.752632   4.800962       5.549746\n",
              "12350       9.363610   3.050162       4.599025\n",
              "12352       4.873953   4.991499       5.736392\n",
              "12353       8.361421   1.436939       3.739663\n",
              "12354       8.662258   4.515810       5.284030\n",
              "12355       8.472623   2.741924       4.791380\n",
              "12356       4.062050   4.536886       5.795703"
            ],
            "text/html": [
              "\n",
              "  <div id=\"df-30e764fc-20f9-4379-bc01-53001c4f9389\">\n",
              "    <div class=\"colab-df-container\">\n",
              "      <div>\n",
              "<style scoped>\n",
              "    .dataframe tbody tr th:only-of-type {\n",
              "        vertical-align: middle;\n",
              "    }\n",
              "\n",
              "    .dataframe tbody tr th {\n",
              "        vertical-align: top;\n",
              "    }\n",
              "\n",
              "    .dataframe thead th {\n",
              "        text-align: right;\n",
              "    }\n",
              "</style>\n",
              "<table border=\"1\" class=\"dataframe\">\n",
              "  <thead>\n",
              "    <tr style=\"text-align: right;\">\n",
              "      <th></th>\n",
              "      <th>Recency</th>\n",
              "      <th>Frequency</th>\n",
              "      <th>MonetaryValue</th>\n",
              "    </tr>\n",
              "    <tr>\n",
              "      <th>CustomerID</th>\n",
              "      <th></th>\n",
              "      <th></th>\n",
              "      <th></th>\n",
              "    </tr>\n",
              "  </thead>\n",
              "  <tbody>\n",
              "    <tr>\n",
              "      <th>12346</th>\n",
              "      <td>9.481099</td>\n",
              "      <td>0.000000</td>\n",
              "      <td>7.280024</td>\n",
              "    </tr>\n",
              "    <tr>\n",
              "      <th>12347</th>\n",
              "      <td>1.200122</td>\n",
              "      <td>5.967408</td>\n",
              "      <td>6.011123</td>\n",
              "    </tr>\n",
              "    <tr>\n",
              "      <th>12348</th>\n",
              "      <td>6.225829</td>\n",
              "      <td>3.756089</td>\n",
              "      <td>5.561659</td>\n",
              "    </tr>\n",
              "    <tr>\n",
              "      <th>12349</th>\n",
              "      <td>3.752632</td>\n",
              "      <td>4.800962</td>\n",
              "      <td>5.549746</td>\n",
              "    </tr>\n",
              "    <tr>\n",
              "      <th>12350</th>\n",
              "      <td>9.363610</td>\n",
              "      <td>3.050162</td>\n",
              "      <td>4.599025</td>\n",
              "    </tr>\n",
              "    <tr>\n",
              "      <th>12352</th>\n",
              "      <td>4.873953</td>\n",
              "      <td>4.991499</td>\n",
              "      <td>5.736392</td>\n",
              "    </tr>\n",
              "    <tr>\n",
              "      <th>12353</th>\n",
              "      <td>8.361421</td>\n",
              "      <td>1.436939</td>\n",
              "      <td>3.739663</td>\n",
              "    </tr>\n",
              "    <tr>\n",
              "      <th>12354</th>\n",
              "      <td>8.662258</td>\n",
              "      <td>4.515810</td>\n",
              "      <td>5.284030</td>\n",
              "    </tr>\n",
              "    <tr>\n",
              "      <th>12355</th>\n",
              "      <td>8.472623</td>\n",
              "      <td>2.741924</td>\n",
              "      <td>4.791380</td>\n",
              "    </tr>\n",
              "    <tr>\n",
              "      <th>12356</th>\n",
              "      <td>4.062050</td>\n",
              "      <td>4.536886</td>\n",
              "      <td>5.795703</td>\n",
              "    </tr>\n",
              "  </tbody>\n",
              "</table>\n",
              "</div>\n",
              "      <button class=\"colab-df-convert\" onclick=\"convertToInteractive('df-30e764fc-20f9-4379-bc01-53001c4f9389')\"\n",
              "              title=\"Convert this dataframe to an interactive table.\"\n",
              "              style=\"display:none;\">\n",
              "        \n",
              "  <svg xmlns=\"http://www.w3.org/2000/svg\" height=\"24px\"viewBox=\"0 0 24 24\"\n",
              "       width=\"24px\">\n",
              "    <path d=\"M0 0h24v24H0V0z\" fill=\"none\"/>\n",
              "    <path d=\"M18.56 5.44l.94 2.06.94-2.06 2.06-.94-2.06-.94-.94-2.06-.94 2.06-2.06.94zm-11 1L8.5 8.5l.94-2.06 2.06-.94-2.06-.94L8.5 2.5l-.94 2.06-2.06.94zm10 10l.94 2.06.94-2.06 2.06-.94-2.06-.94-.94-2.06-.94 2.06-2.06.94z\"/><path d=\"M17.41 7.96l-1.37-1.37c-.4-.4-.92-.59-1.43-.59-.52 0-1.04.2-1.43.59L10.3 9.45l-7.72 7.72c-.78.78-.78 2.05 0 2.83L4 21.41c.39.39.9.59 1.41.59.51 0 1.02-.2 1.41-.59l7.78-7.78 2.81-2.81c.8-.78.8-2.07 0-2.86zM5.41 20L4 18.59l7.72-7.72 1.47 1.35L5.41 20z\"/>\n",
              "  </svg>\n",
              "      </button>\n",
              "      \n",
              "  <style>\n",
              "    .colab-df-container {\n",
              "      display:flex;\n",
              "      flex-wrap:wrap;\n",
              "      gap: 12px;\n",
              "    }\n",
              "\n",
              "    .colab-df-convert {\n",
              "      background-color: #E8F0FE;\n",
              "      border: none;\n",
              "      border-radius: 50%;\n",
              "      cursor: pointer;\n",
              "      display: none;\n",
              "      fill: #1967D2;\n",
              "      height: 32px;\n",
              "      padding: 0 0 0 0;\n",
              "      width: 32px;\n",
              "    }\n",
              "\n",
              "    .colab-df-convert:hover {\n",
              "      background-color: #E2EBFA;\n",
              "      box-shadow: 0px 1px 2px rgba(60, 64, 67, 0.3), 0px 1px 3px 1px rgba(60, 64, 67, 0.15);\n",
              "      fill: #174EA6;\n",
              "    }\n",
              "\n",
              "    [theme=dark] .colab-df-convert {\n",
              "      background-color: #3B4455;\n",
              "      fill: #D2E3FC;\n",
              "    }\n",
              "\n",
              "    [theme=dark] .colab-df-convert:hover {\n",
              "      background-color: #434B5C;\n",
              "      box-shadow: 0px 1px 3px 1px rgba(0, 0, 0, 0.15);\n",
              "      filter: drop-shadow(0px 1px 2px rgba(0, 0, 0, 0.3));\n",
              "      fill: #FFFFFF;\n",
              "    }\n",
              "  </style>\n",
              "\n",
              "      <script>\n",
              "        const buttonEl =\n",
              "          document.querySelector('#df-30e764fc-20f9-4379-bc01-53001c4f9389 button.colab-df-convert');\n",
              "        buttonEl.style.display =\n",
              "          google.colab.kernel.accessAllowed ? 'block' : 'none';\n",
              "\n",
              "        async function convertToInteractive(key) {\n",
              "          const element = document.querySelector('#df-30e764fc-20f9-4379-bc01-53001c4f9389');\n",
              "          const dataTable =\n",
              "            await google.colab.kernel.invokeFunction('convertToInteractive',\n",
              "                                                     [key], {});\n",
              "          if (!dataTable) return;\n",
              "\n",
              "          const docLinkHtml = 'Like what you see? Visit the ' +\n",
              "            '<a target=\"_blank\" href=https://colab.research.google.com/notebooks/data_table.ipynb>data table notebook</a>'\n",
              "            + ' to learn more about interactive tables.';\n",
              "          element.innerHTML = '';\n",
              "          dataTable['output_type'] = 'display_data';\n",
              "          await google.colab.output.renderOutput(dataTable, element);\n",
              "          const docLink = document.createElement('div');\n",
              "          docLink.innerHTML = docLinkHtml;\n",
              "          element.appendChild(docLink);\n",
              "        }\n",
              "      </script>\n",
              "    </div>\n",
              "  </div>\n",
              "  "
            ]
          },
          "metadata": {},
          "execution_count": 32
        }
      ]
    },
    {
      "cell_type": "code",
      "source": [
        "# Tiến hành scale dữ liệu\n",
        "\n",
        "from sklearn.preprocessing import StandardScaler\n",
        "scaler = StandardScaler()\n",
        "scaler.fit(df_new)\n",
        "df_new = scaler.transform(df_new)"
      ],
      "metadata": {
        "id": "DeR1jfub7hHC"
      },
      "execution_count": 33,
      "outputs": []
    },
    {
      "cell_type": "code",
      "source": [
        "print(df_new)"
      ],
      "metadata": {
        "colab": {
          "base_uri": "https://localhost:8080/"
        },
        "id": "6AUelip77vWk",
        "outputId": "233e8e65-9e69-4027-8be4-be429d28861d"
      },
      "execution_count": 34,
      "outputs": [
        {
          "output_type": "stream",
          "name": "stdout",
          "text": [
            "[[ 1.62027367 -2.57178095  3.14411433]\n",
            " [-1.73880329  1.16617768  1.37604893]\n",
            " [ 0.29981305 -0.21898305  0.74977397]\n",
            " ...\n",
            " [-1.22640289 -0.91134674 -1.14510853]\n",
            " [-1.59668189  2.37588685  0.86284663]\n",
            " [-0.13918246  0.40277588  0.76612172]]\n"
          ]
        }
      ]
    },
    {
      "cell_type": "markdown",
      "source": [
        "## **5. Building Model**"
      ],
      "metadata": {
        "id": "3yu15C2Uk4PI"
      }
    },
    {
      "cell_type": "markdown",
      "source": [
        "### **5.1. K-Means Clustering**"
      ],
      "metadata": {
        "id": "_MuZl9Z2a6rU"
      }
    },
    {
      "cell_type": "code",
      "source": [
        "# Chọn số cụm bằng Elbow\n",
        "from sklearn.cluster import KMeans\n",
        "\n",
        "# Khởi tạo một dictionary để lưu giá trị distortion tương ứng với mỗi số lượng cụm k\n",
        "distortions_kmeans = {}\n",
        "\n",
        "# Áp dụng phân nhóm dữ liệu với số lượng cụm k từ 1 đến 10\n",
        "for k in range(1, 11):\n",
        "    kmeans = KMeans(n_clusters=k, random_state=42)\n",
        "    kmeans.fit(df_new)\n",
        "    distortions_kmeans[k] = kmeans.inertia_\n",
        "\n",
        "# Vẽ biểu đồ distortion theo số lượng cụm k\n",
        "plt.title('The Elbow Method')\n",
        "plt.xlabel('k')\n",
        "plt.ylabel('Distortion')\n",
        "sns.pointplot(x=list(distortions_kmeans.keys()), y=list(distortions_kmeans.values()))\n",
        "plt.show()\n",
        "\n",
        "# In ra giá trị distortion tương ứng với mỗi số lượng cụm k\n",
        "print(distortions_kmeans)"
      ],
      "metadata": {
        "colab": {
          "base_uri": "https://localhost:8080/",
          "height": 876
        },
        "id": "OCeoZsrC7OU5",
        "outputId": "efa236dd-e27f-4fde-c5dd-d59139d21884"
      },
      "execution_count": 35,
      "outputs": [
        {
          "output_type": "stream",
          "name": "stderr",
          "text": [
            "/usr/local/lib/python3.10/dist-packages/sklearn/cluster/_kmeans.py:870: FutureWarning: The default value of `n_init` will change from 10 to 'auto' in 1.4. Set the value of `n_init` explicitly to suppress the warning\n",
            "  warnings.warn(\n",
            "/usr/local/lib/python3.10/dist-packages/sklearn/cluster/_kmeans.py:870: FutureWarning: The default value of `n_init` will change from 10 to 'auto' in 1.4. Set the value of `n_init` explicitly to suppress the warning\n",
            "  warnings.warn(\n",
            "/usr/local/lib/python3.10/dist-packages/sklearn/cluster/_kmeans.py:870: FutureWarning: The default value of `n_init` will change from 10 to 'auto' in 1.4. Set the value of `n_init` explicitly to suppress the warning\n",
            "  warnings.warn(\n",
            "/usr/local/lib/python3.10/dist-packages/sklearn/cluster/_kmeans.py:870: FutureWarning: The default value of `n_init` will change from 10 to 'auto' in 1.4. Set the value of `n_init` explicitly to suppress the warning\n",
            "  warnings.warn(\n",
            "/usr/local/lib/python3.10/dist-packages/sklearn/cluster/_kmeans.py:870: FutureWarning: The default value of `n_init` will change from 10 to 'auto' in 1.4. Set the value of `n_init` explicitly to suppress the warning\n",
            "  warnings.warn(\n",
            "/usr/local/lib/python3.10/dist-packages/sklearn/cluster/_kmeans.py:870: FutureWarning: The default value of `n_init` will change from 10 to 'auto' in 1.4. Set the value of `n_init` explicitly to suppress the warning\n",
            "  warnings.warn(\n",
            "/usr/local/lib/python3.10/dist-packages/sklearn/cluster/_kmeans.py:870: FutureWarning: The default value of `n_init` will change from 10 to 'auto' in 1.4. Set the value of `n_init` explicitly to suppress the warning\n",
            "  warnings.warn(\n",
            "/usr/local/lib/python3.10/dist-packages/sklearn/cluster/_kmeans.py:870: FutureWarning: The default value of `n_init` will change from 10 to 'auto' in 1.4. Set the value of `n_init` explicitly to suppress the warning\n",
            "  warnings.warn(\n",
            "/usr/local/lib/python3.10/dist-packages/sklearn/cluster/_kmeans.py:870: FutureWarning: The default value of `n_init` will change from 10 to 'auto' in 1.4. Set the value of `n_init` explicitly to suppress the warning\n",
            "  warnings.warn(\n",
            "/usr/local/lib/python3.10/dist-packages/sklearn/cluster/_kmeans.py:870: FutureWarning: The default value of `n_init` will change from 10 to 'auto' in 1.4. Set the value of `n_init` explicitly to suppress the warning\n",
            "  warnings.warn(\n"
          ]
        },
        {
          "output_type": "display_data",
          "data": {
            "text/plain": [
              "<Figure size 640x480 with 1 Axes>"
            ],
            "image/png": "[encoded data removed]"
          },
          "metadata": {}
        },
        {
          "output_type": "stream",
          "name": "stdout",
          "text": [
            "{1: 13014.000000000007, 2: 6782.580993348499, 3: 5256.141691194354, 4: 4317.936780293463, 5: 3709.7497896190343, 6: 3243.2842345258923, 7: 2954.574797157278, 8: 2737.0638279555474, 9: 2561.341240539212, 10: 2404.076154248874}\n"
          ]
        }
      ]
    },
    {
      "cell_type": "markdown",
      "source": [
        "chọn số lượng cụm tối ưu cho phân nhóm dữ liệu là 3 cụm."
      ],
      "metadata": {
        "id": "Q-Y-SijR_GKo"
      }
    },
    {
      "cell_type": "code",
      "source": [
        "model_kmeans = KMeans(n_clusters=3, random_state=42)\n",
        "model_kmeans.fit(df_new)"
      ],
      "metadata": {
        "colab": {
          "base_uri": "https://localhost:8080/",
          "height": 131
        },
        "id": "Mrz0NdMF_Fdq",
        "outputId": "96f0ae1f-3c5d-4fde-ff6c-521136e8c2be"
      },
      "execution_count": 36,
      "outputs": [
        {
          "output_type": "stream",
          "name": "stderr",
          "text": [
            "/usr/local/lib/python3.10/dist-packages/sklearn/cluster/_kmeans.py:870: FutureWarning: The default value of `n_init` will change from 10 to 'auto' in 1.4. Set the value of `n_init` explicitly to suppress the warning\n",
            "  warnings.warn(\n"
          ]
        },
        {
          "output_type": "execute_result",
          "data": {
            "text/plain": [
              "KMeans(n_clusters=3, random_state=42)"
            ],
            "text/html": [
              "<style>#sk-container-id-1 {color: black;background-color: white;}#sk-container-id-1 pre{padding: 0;}#sk-container-id-1 div.sk-toggleable {background-color: white;}#sk-container-id-1 label.sk-toggleable__label {cursor: pointer;display: block;width: 100%;margin-bottom: 0;padding: 0.3em;box-sizing: border-box;text-align: center;}#sk-container-id-1 label.sk-toggleable__label-arrow:before {content: \"▸\";float: left;margin-right: 0.25em;color: #696969;}#sk-container-id-1 label.sk-toggleable__label-arrow:hover:before {color: black;}#sk-container-id-1 div.sk-estimator:hover label.sk-toggleable__label-arrow:before {color: black;}#sk-container-id-1 div.sk-toggleable__content {max-height: 0;max-width: 0;overflow: hidden;text-align: left;background-color: #f0f8ff;}#sk-container-id-1 div.sk-toggleable__content pre {margin: 0.2em;color: black;border-radius: 0.25em;background-color: #f0f8ff;}#sk-container-id-1 input.sk-toggleable__control:checked~div.sk-toggleable__content {max-height: 200px;max-width: 100%;overflow: auto;}#sk-container-id-1 input.sk-toggleable__control:checked~label.sk-toggleable__label-arrow:before {content: \"▾\";}#sk-container-id-1 div.sk-estimator input.sk-toggleable__control:checked~label.sk-toggleable__label {background-color: #d4ebff;}#sk-container-id-1 div.sk-label input.sk-toggleable__control:checked~label.sk-toggleable__label {background-color: #d4ebff;}#sk-container-id-1 input.sk-hidden--visually {border: 0;clip: rect(1px 1px 1px 1px);clip: rect(1px, 1px, 1px, 1px);height: 1px;margin: -1px;overflow: hidden;padding: 0;position: absolute;width: 1px;}#sk-container-id-1 div.sk-estimator {font-family: monospace;background-color: #f0f8ff;border: 1px dotted black;border-radius: 0.25em;box-sizing: border-box;margin-bottom: 0.5em;}#sk-container-id-1 div.sk-estimator:hover {background-color: #d4ebff;}#sk-container-id-1 div.sk-parallel-item::after {content: \"\";width: 100%;border-bottom: 1px solid gray;flex-grow: 1;}#sk-container-id-1 div.sk-label:hover label.sk-toggleable__label {background-color: #d4ebff;}#sk-container-id-1 div.sk-serial::before {content: \"\";position: absolute;border-left: 1px solid gray;box-sizing: border-box;top: 0;bottom: 0;left: 50%;z-index: 0;}#sk-container-id-1 div.sk-serial {display: flex;flex-direction: column;align-items: center;background-color: white;padding-right: 0.2em;padding-left: 0.2em;position: relative;}#sk-container-id-1 div.sk-item {position: relative;z-index: 1;}#sk-container-id-1 div.sk-parallel {display: flex;align-items: stretch;justify-content: center;background-color: white;position: relative;}#sk-container-id-1 div.sk-item::before, #sk-container-id-1 div.sk-parallel-item::before {content: \"\";position: absolute;border-left: 1px solid gray;box-sizing: border-box;top: 0;bottom: 0;left: 50%;z-index: -1;}#sk-container-id-1 div.sk-parallel-item {display: flex;flex-direction: column;z-index: 1;position: relative;background-color: white;}#sk-container-id-1 div.sk-parallel-item:first-child::after {align-self: flex-end;width: 50%;}#sk-container-id-1 div.sk-parallel-item:last-child::after {align-self: flex-start;width: 50%;}#sk-container-id-1 div.sk-parallel-item:only-child::after {width: 0;}#sk-container-id-1 div.sk-dashed-wrapped {border: 1px dashed gray;margin: 0 0.4em 0.5em 0.4em;box-sizing: border-box;padding-bottom: 0.4em;background-color: white;}#sk-container-id-1 div.sk-label label {font-family: monospace;font-weight: bold;display: inline-block;line-height: 1.2em;}#sk-container-id-1 div.sk-label-container {text-align: center;}#sk-container-id-1 div.sk-container {/* jupyter's `normalize.less` sets `[hidden] { display: none; }` but bootstrap.min.css set `[hidden] { display: none !important; }` so we also need the `!important` here to be able to override the default hidden behavior on the sphinx rendered scikit-learn.org. See: https://github.com/scikit-learn/scikit-learn/issues/21755 */display: inline-block !important;position: relative;}#sk-container-id-1 div.sk-text-repr-fallback {display: none;}</style><div id=\"sk-container-id-1\" class=\"sk-top-container\"><div class=\"sk-text-repr-fallback\"><pre>KMeans(n_clusters=3, random_state=42)</pre><b>In a Jupyter environment, please rerun this cell to show the HTML representation or trust the notebook. <br />On GitHub, the HTML representation is unable to render, please try loading this page with nbviewer.org.</b></div><div class=\"sk-container\" hidden><div class=\"sk-item\"><div class=\"sk-estimator sk-toggleable\"><input class=\"sk-toggleable__control sk-hidden--visually\" id=\"sk-estimator-id-1\" type=\"checkbox\" checked><label for=\"sk-estimator-id-1\" class=\"sk-toggleable__label sk-toggleable__label-arrow\">KMeans</label><div class=\"sk-toggleable__content\"><pre>KMeans(n_clusters=3, random_state=42)</pre></div></div></div></div></div>"
            ]
          },
          "metadata": {},
          "execution_count": 36
        }
      ]
    },
    {
      "cell_type": "code",
      "source": [
        "df_rfm['Cluster'] = model_kmeans.labels_\n",
        "df_rfm.head()"
      ],
      "metadata": {
        "colab": {
          "base_uri": "https://localhost:8080/",
          "height": 237
        },
        "id": "S1XGT-AfAXhw",
        "outputId": "9d8e38b5-6bd3-41af-8f60-c18bf7c17272"
      },
      "execution_count": 37,
      "outputs": [
        {
          "output_type": "execute_result",
          "data": {
            "text/plain": [
              "            Recency  Frequency  MonetaryValue  Cluster\n",
              "CustomerID                                            \n",
              "12346           326          1       77183.60        0\n",
              "12347             3        182        4310.00        1\n",
              "12348            76         31        1797.24        0\n",
              "12349            19         73        1757.55        1\n",
              "12350           311         17         334.40        2"
            ],
            "text/html": [
              "\n",
              "  <div id=\"df-d56ac447-ddaf-495a-91e7-dea11f4bf6bd\">\n",
              "    <div class=\"colab-df-container\">\n",
              "      <div>\n",
              "<style scoped>\n",
              "    .dataframe tbody tr th:only-of-type {\n",
              "        vertical-align: middle;\n",
              "    }\n",
              "\n",
              "    .dataframe tbody tr th {\n",
              "        vertical-align: top;\n",
              "    }\n",
              "\n",
              "    .dataframe thead th {\n",
              "        text-align: right;\n",
              "    }\n",
              "</style>\n",
              "<table border=\"1\" class=\"dataframe\">\n",
              "  <thead>\n",
              "    <tr style=\"text-align: right;\">\n",
              "      <th></th>\n",
              "      <th>Recency</th>\n",
              "      <th>Frequency</th>\n",
              "      <th>MonetaryValue</th>\n",
              "      <th>Cluster</th>\n",
              "    </tr>\n",
              "    <tr>\n",
              "      <th>CustomerID</th>\n",
              "      <th></th>\n",
              "      <th></th>\n",
              "      <th></th>\n",
              "      <th></th>\n",
              "    </tr>\n",
              "  </thead>\n",
              "  <tbody>\n",
              "    <tr>\n",
              "      <th>12346</th>\n",
              "      <td>326</td>\n",
              "      <td>1</td>\n",
              "      <td>77183.60</td>\n",
              "      <td>0</td>\n",
              "    </tr>\n",
              "    <tr>\n",
              "      <th>12347</th>\n",
              "      <td>3</td>\n",
              "      <td>182</td>\n",
              "      <td>4310.00</td>\n",
              "      <td>1</td>\n",
              "    </tr>\n",
              "    <tr>\n",
              "      <th>12348</th>\n",
              "      <td>76</td>\n",
              "      <td>31</td>\n",
              "      <td>1797.24</td>\n",
              "      <td>0</td>\n",
              "    </tr>\n",
              "    <tr>\n",
              "      <th>12349</th>\n",
              "      <td>19</td>\n",
              "      <td>73</td>\n",
              "      <td>1757.55</td>\n",
              "      <td>1</td>\n",
              "    </tr>\n",
              "    <tr>\n",
              "      <th>12350</th>\n",
              "      <td>311</td>\n",
              "      <td>17</td>\n",
              "      <td>334.40</td>\n",
              "      <td>2</td>\n",
              "    </tr>\n",
              "  </tbody>\n",
              "</table>\n",
              "</div>\n",
              "      <button class=\"colab-df-convert\" onclick=\"convertToInteractive('df-d56ac447-ddaf-495a-91e7-dea11f4bf6bd')\"\n",
              "              title=\"Convert this dataframe to an interactive table.\"\n",
              "              style=\"display:none;\">\n",
              "        \n",
              "  <svg xmlns=\"http://www.w3.org/2000/svg\" height=\"24px\"viewBox=\"0 0 24 24\"\n",
              "       width=\"24px\">\n",
              "    <path d=\"M0 0h24v24H0V0z\" fill=\"none\"/>\n",
              "    <path d=\"M18.56 5.44l.94 2.06.94-2.06 2.06-.94-2.06-.94-.94-2.06-.94 2.06-2.06.94zm-11 1L8.5 8.5l.94-2.06 2.06-.94-2.06-.94L8.5 2.5l-.94 2.06-2.06.94zm10 10l.94 2.06.94-2.06 2.06-.94-2.06-.94-.94-2.06-.94 2.06-2.06.94z\"/><path d=\"M17.41 7.96l-1.37-1.37c-.4-.4-.92-.59-1.43-.59-.52 0-1.04.2-1.43.59L10.3 9.45l-7.72 7.72c-.78.78-.78 2.05 0 2.83L4 21.41c.39.39.9.59 1.41.59.51 0 1.02-.2 1.41-.59l7.78-7.78 2.81-2.81c.8-.78.8-2.07 0-2.86zM5.41 20L4 18.59l7.72-7.72 1.47 1.35L5.41 20z\"/>\n",
              "  </svg>\n",
              "      </button>\n",
              "      \n",
              "  <style>\n",
              "    .colab-df-container {\n",
              "      display:flex;\n",
              "      flex-wrap:wrap;\n",
              "      gap: 12px;\n",
              "    }\n",
              "\n",
              "    .colab-df-convert {\n",
              "      background-color: #E8F0FE;\n",
              "      border: none;\n",
              "      border-radius: 50%;\n",
              "      cursor: pointer;\n",
              "      display: none;\n",
              "      fill: #1967D2;\n",
              "      height: 32px;\n",
              "      padding: 0 0 0 0;\n",
              "      width: 32px;\n",
              "    }\n",
              "\n",
              "    .colab-df-convert:hover {\n",
              "      background-color: #E2EBFA;\n",
              "      box-shadow: 0px 1px 2px rgba(60, 64, 67, 0.3), 0px 1px 3px 1px rgba(60, 64, 67, 0.15);\n",
              "      fill: #174EA6;\n",
              "    }\n",
              "\n",
              "    [theme=dark] .colab-df-convert {\n",
              "      background-color: #3B4455;\n",
              "      fill: #D2E3FC;\n",
              "    }\n",
              "\n",
              "    [theme=dark] .colab-df-convert:hover {\n",
              "      background-color: #434B5C;\n",
              "      box-shadow: 0px 1px 3px 1px rgba(0, 0, 0, 0.15);\n",
              "      filter: drop-shadow(0px 1px 2px rgba(0, 0, 0, 0.3));\n",
              "      fill: #FFFFFF;\n",
              "    }\n",
              "  </style>\n",
              "\n",
              "      <script>\n",
              "        const buttonEl =\n",
              "          document.querySelector('#df-d56ac447-ddaf-495a-91e7-dea11f4bf6bd button.colab-df-convert');\n",
              "        buttonEl.style.display =\n",
              "          google.colab.kernel.accessAllowed ? 'block' : 'none';\n",
              "\n",
              "        async function convertToInteractive(key) {\n",
              "          const element = document.querySelector('#df-d56ac447-ddaf-495a-91e7-dea11f4bf6bd');\n",
              "          const dataTable =\n",
              "            await google.colab.kernel.invokeFunction('convertToInteractive',\n",
              "                                                     [key], {});\n",
              "          if (!dataTable) return;\n",
              "\n",
              "          const docLinkHtml = 'Like what you see? Visit the ' +\n",
              "            '<a target=\"_blank\" href=https://colab.research.google.com/notebooks/data_table.ipynb>data table notebook</a>'\n",
              "            + ' to learn more about interactive tables.';\n",
              "          element.innerHTML = '';\n",
              "          dataTable['output_type'] = 'display_data';\n",
              "          await google.colab.output.renderOutput(dataTable, element);\n",
              "          const docLink = document.createElement('div');\n",
              "          docLink.innerHTML = docLinkHtml;\n",
              "          element.appendChild(docLink);\n",
              "        }\n",
              "      </script>\n",
              "    </div>\n",
              "  </div>\n",
              "  "
            ]
          },
          "metadata": {},
          "execution_count": 37
        }
      ]
    },
    {
      "cell_type": "code",
      "source": [
        "df_rfm.groupby('Cluster').agg(\n",
        "    {\n",
        "        'Recency':'mean',\n",
        "        'Frequency':'mean',\n",
        "        'MonetaryValue':'mean'\n",
        "    }\n",
        ").round(2)"
      ],
      "metadata": {
        "colab": {
          "base_uri": "https://localhost:8080/",
          "height": 175
        },
        "id": "RjCgFhRoAc6X",
        "outputId": "6a880ba4-d7f6-4c0e-fc93-75ebdea20d76"
      },
      "execution_count": 38,
      "outputs": [
        {
          "output_type": "execute_result",
          "data": {
            "text/plain": [
              "         Recency  Frequency  MonetaryValue\n",
              "Cluster                                   \n",
              "0          66.70      51.50         972.05\n",
              "1          20.56     240.74        5735.29\n",
              "2         192.20      15.20         283.59"
            ],
            "text/html": [
              "\n",
              "  <div id=\"df-94c1a8b8-0d10-410a-b0fa-3d9deb091148\">\n",
              "    <div class=\"colab-df-container\">\n",
              "      <div>\n",
              "<style scoped>\n",
              "    .dataframe tbody tr th:only-of-type {\n",
              "        vertical-align: middle;\n",
              "    }\n",
              "\n",
              "    .dataframe tbody tr th {\n",
              "        vertical-align: top;\n",
              "    }\n",
              "\n",
              "    .dataframe thead th {\n",
              "        text-align: right;\n",
              "    }\n",
              "</style>\n",
              "<table border=\"1\" class=\"dataframe\">\n",
              "  <thead>\n",
              "    <tr style=\"text-align: right;\">\n",
              "      <th></th>\n",
              "      <th>Recency</th>\n",
              "      <th>Frequency</th>\n",
              "      <th>MonetaryValue</th>\n",
              "    </tr>\n",
              "    <tr>\n",
              "      <th>Cluster</th>\n",
              "      <th></th>\n",
              "      <th></th>\n",
              "      <th></th>\n",
              "    </tr>\n",
              "  </thead>\n",
              "  <tbody>\n",
              "    <tr>\n",
              "      <th>0</th>\n",
              "      <td>66.70</td>\n",
              "      <td>51.50</td>\n",
              "      <td>972.05</td>\n",
              "    </tr>\n",
              "    <tr>\n",
              "      <th>1</th>\n",
              "      <td>20.56</td>\n",
              "      <td>240.74</td>\n",
              "      <td>5735.29</td>\n",
              "    </tr>\n",
              "    <tr>\n",
              "      <th>2</th>\n",
              "      <td>192.20</td>\n",
              "      <td>15.20</td>\n",
              "      <td>283.59</td>\n",
              "    </tr>\n",
              "  </tbody>\n",
              "</table>\n",
              "</div>\n",
              "      <button class=\"colab-df-convert\" onclick=\"convertToInteractive('df-94c1a8b8-0d10-410a-b0fa-3d9deb091148')\"\n",
              "              title=\"Convert this dataframe to an interactive table.\"\n",
              "              style=\"display:none;\">\n",
              "        \n",
              "  <svg xmlns=\"http://www.w3.org/2000/svg\" height=\"24px\"viewBox=\"0 0 24 24\"\n",
              "       width=\"24px\">\n",
              "    <path d=\"M0 0h24v24H0V0z\" fill=\"none\"/>\n",
              "    <path d=\"M18.56 5.44l.94 2.06.94-2.06 2.06-.94-2.06-.94-.94-2.06-.94 2.06-2.06.94zm-11 1L8.5 8.5l.94-2.06 2.06-.94-2.06-.94L8.5 2.5l-.94 2.06-2.06.94zm10 10l.94 2.06.94-2.06 2.06-.94-2.06-.94-.94-2.06-.94 2.06-2.06.94z\"/><path d=\"M17.41 7.96l-1.37-1.37c-.4-.4-.92-.59-1.43-.59-.52 0-1.04.2-1.43.59L10.3 9.45l-7.72 7.72c-.78.78-.78 2.05 0 2.83L4 21.41c.39.39.9.59 1.41.59.51 0 1.02-.2 1.41-.59l7.78-7.78 2.81-2.81c.8-.78.8-2.07 0-2.86zM5.41 20L4 18.59l7.72-7.72 1.47 1.35L5.41 20z\"/>\n",
              "  </svg>\n",
              "      </button>\n",
              "      \n",
              "  <style>\n",
              "    .colab-df-container {\n",
              "      display:flex;\n",
              "      flex-wrap:wrap;\n",
              "      gap: 12px;\n",
              "    }\n",
              "\n",
              "    .colab-df-convert {\n",
              "      background-color: #E8F0FE;\n",
              "      border: none;\n",
              "      border-radius: 50%;\n",
              "      cursor: pointer;\n",
              "      display: none;\n",
              "      fill: #1967D2;\n",
              "      height: 32px;\n",
              "      padding: 0 0 0 0;\n",
              "      width: 32px;\n",
              "    }\n",
              "\n",
              "    .colab-df-convert:hover {\n",
              "      background-color: #E2EBFA;\n",
              "      box-shadow: 0px 1px 2px rgba(60, 64, 67, 0.3), 0px 1px 3px 1px rgba(60, 64, 67, 0.15);\n",
              "      fill: #174EA6;\n",
              "    }\n",
              "\n",
              "    [theme=dark] .colab-df-convert {\n",
              "      background-color: #3B4455;\n",
              "      fill: #D2E3FC;\n",
              "    }\n",
              "\n",
              "    [theme=dark] .colab-df-convert:hover {\n",
              "      background-color: #434B5C;\n",
              "      box-shadow: 0px 1px 3px 1px rgba(0, 0, 0, 0.15);\n",
              "      filter: drop-shadow(0px 1px 2px rgba(0, 0, 0, 0.3));\n",
              "      fill: #FFFFFF;\n",
              "    }\n",
              "  </style>\n",
              "\n",
              "      <script>\n",
              "        const buttonEl =\n",
              "          document.querySelector('#df-94c1a8b8-0d10-410a-b0fa-3d9deb091148 button.colab-df-convert');\n",
              "        buttonEl.style.display =\n",
              "          google.colab.kernel.accessAllowed ? 'block' : 'none';\n",
              "\n",
              "        async function convertToInteractive(key) {\n",
              "          const element = document.querySelector('#df-94c1a8b8-0d10-410a-b0fa-3d9deb091148');\n",
              "          const dataTable =\n",
              "            await google.colab.kernel.invokeFunction('convertToInteractive',\n",
              "                                                     [key], {});\n",
              "          if (!dataTable) return;\n",
              "\n",
              "          const docLinkHtml = 'Like what you see? Visit the ' +\n",
              "            '<a target=\"_blank\" href=https://colab.research.google.com/notebooks/data_table.ipynb>data table notebook</a>'\n",
              "            + ' to learn more about interactive tables.';\n",
              "          element.innerHTML = '';\n",
              "          dataTable['output_type'] = 'display_data';\n",
              "          await google.colab.output.renderOutput(dataTable, element);\n",
              "          const docLink = document.createElement('div');\n",
              "          docLink.innerHTML = docLinkHtml;\n",
              "          element.appendChild(docLink);\n",
              "        }\n",
              "      </script>\n",
              "    </div>\n",
              "  </div>\n",
              "  "
            ]
          },
          "metadata": {},
          "execution_count": 38
        }
      ]
    },
    {
      "cell_type": "markdown",
      "source": [
        "Dựa trên bảng đánh giá, ta có thể đưa ra một số nhận định về các cụm được phân chia bằng phương pháp K-means Clustering như sau:\n",
        "* Cluster 1 (Recency rất thấp, Frequency cao, MonetaryValue rất cao): đây có thể là những khách hàng thường xuyên mua hàng, chi tiêu nhiều tiền, và mới đây vừa mua hàng gần đây.\n",
        "\n",
        "* Cluster 0 (Recency trung bình, Frequency trung bình, MonetaryValue trung bình): đây có thể là những khách hàng trung thành, mua hàng thường xuyên, và chi tiêu ở mức trung bình.\n",
        "\n",
        "* Cluster 2 (Recency cao, Frequency thấp, MonetaryValue thấp): đây có thể là những khách hàng ít mua hàng, chi tiêu ít, và đã mua hàng cách đây khá lâu.\n",
        "\n",
        "=> Một số giải pháp nhắm mục tiêu khách hàng hiệu quả:\n",
        "\n",
        "**Cluster 1:**\n",
        "* Chiến lược giữ chân khách hàng: Do đây là những khách hàng thường xuyên mua hàng, chi tiêu nhiều tiền và mới đây vừa mua hàng gần đây, doanh nghiệp có thể tập trung vào việc giữ chân khách hàng này bằng cách cung cấp dịch vụ chất lượng cao, giải quyết các vấn đề của khách hàng nhanh chóng và hiệu quả, và tăng cường quan hệ khách hàng.\n",
        "\n",
        "* Chiến lược tăng doanh số bán hàng: Do đây là khách hàng thường xuyên mua hàng và chi tiêu nhiều tiền, doanh nghiệp có thể đưa ra các chương trình khuyến mãi, giảm giá và ưu đãi hấp dẫn để tăng doanh số bán hàng và lợi nhuận.\n",
        "\n",
        "**Cluster 0:**\n",
        "* Chiến lược tăng tính trung thành của khách hàng: Do đây là những khách hàng trung thành, mua hàng thường xuyên và chi tiêu ở mức trung bình, doanh nghiệp có thể tăng tính trung thành của khách hàng bằng cách tăng cường quan hệ khách hàng, cung cấp các sản phẩm và dịch vụ chất lượng cao và đáp ứng nhu cầu của khách hàng.\n",
        "\n",
        "* Chiến lược tăng doanh số bán hàng: Do đây là những khách hàng mua hàng thường xuyên, doanh nghiệp có thể tăng doanh số bán hàng bằng cách đưa ra các chương trình khuyến mãi, giảm giá và ưu đãi hấp dẫn theo từng đợt để thu hút khách hàng mua hàng thêm.\n",
        "\n",
        "**Cluster 2:**\n",
        "* Chiến lược tìm kiếm khách hàng mới: Do đây là những khách hàng ít mua hàng, chi tiêu ít và đã mua hàng cách đây khá lâu, doanh nghiệp có thể tìm kiếm khách hàng mới và tập trung vào việc thu hút và giữ chân khách hàng mới bằng cách cung cấp các sản phẩm và dịch vụ chất lượng cao, đáp ứng nhu cầu của khách hàng.\n",
        "\n",
        "* Chiến lược tăng doanh số bán hàng: Do đây là những khách hàng ít mua hàng, doanh nghiệp có thể tăng doanh số bán hàng bằng cách đưa ra các chương trình khuyến mãi, giảm giá và ưu đãi hấp dẫn để thu hút khách hàng mua hàng thêm."
      ],
      "metadata": {
        "id": "gA-NBO2zLX17"
      }
    }
  ]
}